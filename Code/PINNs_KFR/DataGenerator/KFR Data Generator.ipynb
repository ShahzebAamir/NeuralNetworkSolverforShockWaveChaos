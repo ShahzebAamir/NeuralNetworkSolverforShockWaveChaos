{
 "cells": [
  {
   "cell_type": "markdown",
   "id": "139229a2",
   "metadata": {},
   "source": [
    "# Data Generator (Saved in CSV)\n",
    "   \n",
    "Add values of $\\alpha$, $\\beta$, Length, Grid points, and Amplitude in the function.\n",
    "The Wave Number is None for now"
   ]
  },
  {
   "cell_type": "code",
   "execution_count": 1,
   "id": "781de58d",
   "metadata": {},
   "outputs": [],
   "source": [
    "import pandas as pd\n",
    "import numpy as np\n",
    "from math import erf as erf_, sin, exp as exp_\n",
    "from numpy import pi, sqrt\n",
    "import numba as nb\n",
    "from scipy.io import savemat\n",
    "\n",
    "def DataGenerator(alpha, beta=0.1, L=6, t=500, N=200, amp=0, CSV=False):\n",
    "    %run ./KFRequation_u.ipynb\n",
    "    par = {\n",
    "    'alpha': alpha,\n",
    "    'beta': beta,\n",
    "    'L': L,\n",
    "    'N': N,\n",
    "    'amp': amp\n",
    "    }\n",
    "    for wn in [None]:\n",
    "        par['wn'] = wn\n",
    "        tmax = 3000 if wn == 0.01 else t\n",
    "        kfr_equation(tmax=tmax, **par)\n",
    "        \n",
    "    def loader(alpha, amp):\n",
    "        _path = '../comp_res'\n",
    "        fullpath = os.path.join(_path)\n",
    "        filename = f'amp_{amp}' + f'alpha_{alpha}' \n",
    "        shock=np.load(os.path.join(filename + '.npz'))\n",
    "        return shock\n",
    "    \n",
    "    shock = loader(par['alpha'], 0)\n",
    "    @nb.vectorize(('f8(f8)'))\n",
    "    def erf(x):\n",
    "        return erf_(x)\n",
    "\n",
    "    L=L\n",
    "    N=N\n",
    "    dx = L / N  # grid size\n",
    "\n",
    "    x = np.empty(N + 7)\n",
    "    x[0:3] = [(-L + dx * i) for i in [-3, -2, -1]]  # left ghost points\n",
    "    x[3:N + 4] = [(-L + dx * i) for i in range(N + 1)]  # internal grid points on [-L,0]\n",
    "    x[N + 4:N + 7] = np.arange(1, 4) * dx  # grid points ahead of the shock\n",
    "    \n",
    "    t=shock['t']\n",
    "    u=shock['u']\n",
    "    t=np.array([t])\n",
    "    x=np.array([x])\n",
    "    \n",
    "    matDict = {\"t\": t.T, \"x\": x.T, \"u\": np.transpose(u)}\n",
    "    \n",
    "    if CSV==True:\n",
    "        filename = f'amp_{amp}' + f'alpha_{alpha}'\n",
    "        U_steadyState = u[:,-1] \n",
    "        pd.DataFrame(t).to_csv(filename + '_T.csv')\n",
    "        pd.DataFrame(U_steadyState).to_csv(filename + '_U_steadyState.csv')\n",
    "    else:\n",
    "        filename = f'amp_{amp}' + f'alpha_{alpha}'\n",
    "        savemat(filename + '.mat', matDict)\n",
    "    return u.shape"
   ]
  },
  {
   "cell_type": "code",
   "execution_count": 7,
   "id": "a0abae0a",
   "metadata": {},
   "outputs": [
    {
     "name": "stderr",
     "output_type": "stream",
     "text": [
      "<ipython-input-7-a5a72cc7fb6d>:1: NumbaWarning: \u001b[1m\n",
      "Compilation is falling back to object mode WITH looplifting enabled because Function \"set_bc\" failed type inference due to: \u001b[1m\u001b[1m\u001b[1mNo implementation of function Function(<function ones_like at 0x0000024CD7A6D3A0>) found for signature:\n",
      " \n",
      " >>> ones_like(array(int64, 1d, A), dtype=Function(<class 'int'>))\n",
      " \n",
      "There are 2 candidate implementations:\n",
      "\u001b[1m      - Of which 2 did not match due to:\n",
      "      Overload of function 'ones_like': File: numba\\core\\typing\\npydecl.py: Line 532.\n",
      "        With argument(s): '(array(int64, 1d, A), dtype=Function(<class 'int'>))':\u001b[0m\n",
      "\u001b[1m       No match.\u001b[0m\n",
      "\u001b[0m\n",
      "\u001b[0m\u001b[1mDuring: resolving callee type: Function(<function ones_like at 0x0000024CD7A6D3A0>)\u001b[0m\n",
      "\u001b[0m\u001b[1mDuring: typing of call at <ipython-input-7-a5a72cc7fb6d> (17)\n",
      "\u001b[0m\n",
      "\u001b[1m\n",
      "File \"<ipython-input-7-a5a72cc7fb6d>\", line 17:\u001b[0m\n",
      "\u001b[1mdef set_bc(x, Ym, Nleft, Nint, Nright):\n",
      "    <source elided>\n",
      "\n",
      "\u001b[1m    Ym[Nleft] = Ym[Nint[0] * np.ones_like(Nleft, dtype=int)]\n",
      "\u001b[0m    \u001b[1m^\u001b[0m\u001b[0m\n",
      "\u001b[0m\n",
      "  @nb.jit('f8[:](f8[:], f8[:], i8[:], i8[:], i8[:])')\n",
      "C:\\Users\\SZF\\anaconda3\\envs\\GPUtensorflow\\lib\\site-packages\\numba\\core\\object_mode_passes.py:151: NumbaWarning: \u001b[1mFunction \"set_bc\" was compiled in object mode without forceobj=True.\n",
      "\u001b[1m\n",
      "File \"<ipython-input-7-a5a72cc7fb6d>\", line 2:\u001b[0m\n",
      "\u001b[1m@nb.jit('f8[:](f8[:], f8[:], i8[:], i8[:], i8[:])')\n",
      "\u001b[1mdef set_bc(x, Ym, Nleft, Nint, Nright):\n",
      "\u001b[0m\u001b[1m^\u001b[0m\u001b[0m\n",
      "\u001b[0m\n",
      "  warnings.warn(errors.NumbaWarning(warn_msg,\n",
      "C:\\Users\\SZF\\anaconda3\\envs\\GPUtensorflow\\lib\\site-packages\\numba\\core\\object_mode_passes.py:161: NumbaDeprecationWarning: \u001b[1m\n",
      "Fall-back from the nopython compilation path to the object mode compilation path has been detected, this is deprecated behaviour.\n",
      "\n",
      "For more information visit https://numba.pydata.org/numba-doc/latest/reference/deprecation.html#deprecation-of-object-mode-fall-back-behaviour-when-using-jit\n",
      "\u001b[1m\n",
      "File \"<ipython-input-7-a5a72cc7fb6d>\", line 2:\u001b[0m\n",
      "\u001b[1m@nb.jit('f8[:](f8[:], f8[:], i8[:], i8[:], i8[:])')\n",
      "\u001b[1mdef set_bc(x, Ym, Nleft, Nint, Nright):\n",
      "\u001b[0m\u001b[1m^\u001b[0m\u001b[0m\n",
      "\u001b[0m\n",
      "  warnings.warn(errors.NumbaDeprecationWarning(msg,\n"
     ]
    },
    {
     "name": "stdout",
     "output_type": "stream",
     "text": [
      "amp_0alpha_4.85 "
     ]
    },
    {
     "name": "stderr",
     "output_type": "stream",
     "text": [
      "<ipython-input-7-689c77b4b0d8>:106: NumbaWarning: \u001b[1m\n",
      "Compilation is falling back to object mode WITH looplifting enabled because Function \"RK3\" failed type inference due to: \u001b[1m\u001b[1m\u001b[1mInvalid use of type(CPUDispatcher(<function weno5 at 0x0000024CE1969E50>)) with parameters (array(float64, 1d, C), readonly array(int64, 1d, C), Literal[int](203), Literal[int](0), none, none, Literal[int](1))\n",
      "Known signatures:\n",
      " * (array(float64, 1d, A), array(int64, 1d, A), int64, float64, OptionalType(float64), OptionalType(float64), int64) -> array(float64, 1d, A)\u001b[0m\n",
      "\u001b[0m\u001b[1mDuring: resolving callee type: type(CPUDispatcher(<function weno5 at 0x0000024CE1969E50>))\u001b[0m\n",
      "\u001b[0m\u001b[1mDuring: typing of call at <ipython-input-7-689c77b4b0d8> (108)\n",
      "\u001b[0m\n",
      "\u001b[1m\n",
      "File \"<ipython-input-7-689c77b4b0d8>\", line 108:\u001b[0m\n",
      "\u001b[1m    def RK3(u, Source, x_lab, dt):\n",
      "\u001b[1m        Flux = weno5(u, Nweno, ishock, amp, x_lab, wn, sign)\n",
      "\u001b[0m        \u001b[1m^\u001b[0m\u001b[0m\n",
      "\u001b[0m\n",
      "  @nb.jit\n",
      "C:\\Users\\SZF\\anaconda3\\envs\\GPUtensorflow\\lib\\site-packages\\numba\\core\\object_mode_passes.py:151: NumbaWarning: \u001b[1mFunction \"RK3\" was compiled in object mode without forceobj=True.\n",
      "\u001b[1m\n",
      "File \"<ipython-input-7-689c77b4b0d8>\", line 107:\u001b[0m\n",
      "\u001b[1m    @nb.jit\n",
      "\u001b[1m    def RK3(u, Source, x_lab, dt):\n",
      "\u001b[0m    \u001b[1m^\u001b[0m\u001b[0m\n",
      "\u001b[0m\n",
      "  warnings.warn(errors.NumbaWarning(warn_msg,\n",
      "C:\\Users\\SZF\\anaconda3\\envs\\GPUtensorflow\\lib\\site-packages\\numba\\core\\object_mode_passes.py:161: NumbaDeprecationWarning: \u001b[1m\n",
      "Fall-back from the nopython compilation path to the object mode compilation path has been detected, this is deprecated behaviour.\n",
      "\n",
      "For more information visit https://numba.pydata.org/numba-doc/latest/reference/deprecation.html#deprecation-of-object-mode-fall-back-behaviour-when-using-jit\n",
      "\u001b[1m\n",
      "File \"<ipython-input-7-689c77b4b0d8>\", line 107:\u001b[0m\n",
      "\u001b[1m    @nb.jit\n",
      "\u001b[1m    def RK3(u, Source, x_lab, dt):\n",
      "\u001b[0m    \u001b[1m^\u001b[0m\u001b[0m\n",
      "\u001b[0m\n",
      "  warnings.warn(errors.NumbaDeprecationWarning(msg,\n"
     ]
    },
    {
     "name": "stdout",
     "output_type": "stream",
     "text": [
      "=-=-=-=-=-= 12.7s\n"
     ]
    }
   ],
   "source": [
    "u=DataGenerator(4.85, t=250) #DataGenerator(Alpha, Beta, L, t, N, Amp, ext)"
   ]
  },
  {
   "cell_type": "code",
   "execution_count": null,
   "id": "9c9cbed5",
   "metadata": {},
   "outputs": [],
   "source": []
  }
 ],
 "metadata": {
  "kernelspec": {
   "display_name": "Python 3",
   "language": "python",
   "name": "python3"
  },
  "language_info": {
   "codemirror_mode": {
    "name": "ipython",
    "version": 3
   },
   "file_extension": ".py",
   "mimetype": "text/x-python",
   "name": "python",
   "nbconvert_exporter": "python",
   "pygments_lexer": "ipython3",
   "version": "3.8.0"
  }
 },
 "nbformat": 4,
 "nbformat_minor": 5
}
