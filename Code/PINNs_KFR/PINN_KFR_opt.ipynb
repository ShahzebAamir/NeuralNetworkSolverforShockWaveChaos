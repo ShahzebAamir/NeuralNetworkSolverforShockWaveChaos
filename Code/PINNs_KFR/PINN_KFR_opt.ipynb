{
 "cells": [
  {
   "cell_type": "code",
   "execution_count": 1,
   "id": "57c73270",
   "metadata": {},
   "outputs": [
    {
     "name": "stderr",
     "output_type": "stream",
     "text": [
      "C:\\Users\\SZF\\anaconda3\\envs\\GPUtensorflow\\lib\\_collections_abc.py:832: MatplotlibDeprecationWarning: Support for setting the 'text.latex.preamble' or 'pgf.preamble' rcParam to a list of strings is deprecated since 3.3 and will be removed two minor releases later; set it to a single string instead.\n",
      "  self[key] = other[key]\n"
     ]
    }
   ],
   "source": [
    "import sys\n",
    "import json\n",
    "import os\n",
    "import tensorflow as tf\n",
    "import numpy as np\n",
    "#import tensorflow_probability as tfp\n",
    "import numba as nb\n",
    "import scipy.io\n",
    "import matplotlib.pyplot as plt\n",
    "import optuna\n",
    "# Manually making sure the numpy random seeds are \"the same\" on all devices\n",
    "\n",
    "\n",
    "# LOCAL IMPORTS\n",
    "\n",
    "eqnPath = 'DataGenerator'\n",
    "sys.path.append(eqnPath)\n",
    "#sys.path.append(\"utils\")\n",
    "from logger import Logger\n",
    "#from neuralnetwork_opt import NeuralNetwork\n",
    "from burgersutil import prep_data, plot_inf_cont_results"
   ]
  },
  {
   "cell_type": "code",
   "execution_count": 2,
   "id": "a78d9029",
   "metadata": {},
   "outputs": [],
   "source": [
    "import tensorflow as tf\n",
    "import numpy as np\n",
    "%run ./TheFmodelforPINN_KFR.ipynb\n",
    "\n",
    "from custom_lbfgs import lbfgs, Struct\n",
    "\n",
    "\n",
    "class NeuralNetwork(object):\n",
    "    def __init__(self, opt_hp, logger, X_f, ub, lb, alpha, beta, amp, n_layers, neurons,\\\n",
    "                 model, optimizer, x_lab=None, wn=None, sign=None):\n",
    "\n",
    "        architecture = [neurons for i in range(n_layers+2)] #+2 to accommodate input and output\n",
    "        architecture[0] = 2 #Inputs\n",
    "        architecture[-1] = 1 #Outputs\n",
    "        layers = architecture\n",
    "        \n",
    "        # Setting up the optimizers with the hyper-parameters\n",
    "        self.nt_config = Struct()\n",
    "        self.nt_config.learningRate = opt_hp[\"nt_lr\"]\n",
    "        self.nt_config.maxIter = opt_hp[\"nt_epochs\"]\n",
    "        self.nt_config.nCorrection = opt_hp[\"nt_ncorr\"]\n",
    "        self.nt_config.tolFun = 1.0 * np.finfo(float).eps\n",
    "        self.tf_epochs = opt_hp[\"tf_epochs\"]\n",
    "        self.dtype = \"float64\"\n",
    "        self.model = model\n",
    "        self.tf_optimizer = optimizer\n",
    "        self.alpha = alpha\n",
    "        self.beta = beta\n",
    "        self.amp = amp\n",
    "        self.x_lab = x_lab\n",
    "        self.wn = wn\n",
    "        self.sign = sign\n",
    "\n",
    "        # Separating the collocation coordinates\n",
    "        self.x_f = self.tensor(X_f[:, 0:1]) #[-1,1] random points\n",
    "        self.t_f = self.tensor(X_f[:, 1:2]) #[0,1] random points\n",
    "\n",
    "#     # Computing the sizes of weights/biases for future decomposition\n",
    "        self.sizes_w = []\n",
    "        self.sizes_b = []\n",
    "        for i, width in enumerate(layers):\n",
    "            if i != 1:\n",
    "                self.sizes_w.append(int(width * layers[1]))\n",
    "                self.sizes_b.append(int(width if i != 0 else layers[1]))\n",
    "\n",
    "        self.logger = logger\n",
    "\n",
    "    # Defining custom loss\n",
    "    # @tf.function\n",
    "    #def loss(self, u, u_pred):\n",
    "        #return tf.reduce_mean(tf.square(u - u_pred))\n",
    "\n",
    "    def summary(self):\n",
    "        return self.model.summary()\n",
    "\n",
    "    def tensor(self, X):\n",
    "        return tf.convert_to_tensor(X, dtype=self.dtype)\n",
    "    \n",
    "    # @tf.function  \n",
    "    # Defining custom loss\n",
    "    def loss(self, u, u_pred):\n",
    "        f_pred = self.f_model(self.alpha, self.beta, self.amp, self.x_lab, self.wn, self.sign)\n",
    "        return tf.reduce_mean(tf.square(u - u_pred)) + tf.reduce_mean(tf.square(f_pred))\n",
    "#######################################################\n",
    "    def source(self, x, us, alpha, beta, amp):\n",
    "        ainv = 8 * sqrt(pi * beta) * (1 + scipy.special.erf(1 / sqrt(4 * beta)))\n",
    "        source = np.exp(-(x - xi(us, alpha, amp)) ** 2 / (4 * beta)) / ainv\n",
    "        return source\n",
    "\n",
    "    def flux(self, Y, us, amp, x_lab, wn, sign):\n",
    "        D = Dshock(us, amp, x_lab, wn, sign)\n",
    "        return 0.5 * Y ** 2. - D * Y\n",
    "#######################################################\n",
    "    # The actual PINN\n",
    "    def f_model(self, alpha, beta, amp, x_lab, wn, sign):\n",
    "        # Using the new GradientTape paradigm of TF2.0,\n",
    "        # which keeps track of operations to get the gradient at runtime\n",
    "        # We need the boundary conditions from the data matrix of u as well\n",
    "\n",
    "        with tf.GradientTape(persistent=True) as tape:\n",
    "            # Watching the two inputs we’ll need later, x and t\n",
    "            tape.watch(self.x_f)\n",
    "            tape.watch(self.t_f)\n",
    "            # Packing together the inputs\n",
    "            bc = np.zeros_like(self.x_f) #To get the predicted value of us at all times i.e. getting u_s\n",
    "            X_f = tf.stack([self.x_f[:, 0], self.t_f[:, 0]], axis=1)\n",
    "            BC_f = tf.stack([bc[:,0], self.t_f[:, 0]], axis=1) #predicted value of u at boundry at all times i.e. getting u_s\n",
    "\n",
    "            # Getting the prediction\n",
    "            u = self.model(X_f)\n",
    "            us = self.model(BC_f)\n",
    "\n",
    "            f =  self.flux(u, us, amp, x_lab, wn, sign)\n",
    "            # Deriving INSIDE the tape (since we’ll need the x derivative of this later, u_xx)\n",
    "            f_x = tape.gradient(f, self.x_f)\n",
    "\n",
    "        s = self.source(self.x_f,us,alpha,beta,amp)    \n",
    "        u_t = tape.gradient(u, self.t_f)\n",
    "\n",
    "    # Letting the tape go\n",
    "        del tape\n",
    "    # Buidling the PINNs\n",
    "        return u_t+f_x-s\n",
    "\n",
    "    def grad(self, X, u):\n",
    "        with tf.GradientTape() as tape:\n",
    "            loss_value = self.loss(u, self.model(X))\n",
    "        grads = tape.gradient(loss_value, self.wrap_training_variables())\n",
    "        return loss_value, grads\n",
    "\n",
    "    def wrap_training_variables(self):\n",
    "        var = self.model.trainable_variables\n",
    "        return var\n",
    "\n",
    "    def get_params(self, numpy=False):\n",
    "        return []\n",
    "\n",
    "    def get_weights(self, convert_to_tensor=True):\n",
    "        w = []\n",
    "        for layer in self.model.layers[1:]:\n",
    "            weights_biases = layer.get_weights()\n",
    "            weights = weights_biases[0].flatten()\n",
    "            biases = weights_biases[1]\n",
    "            w.extend(weights)\n",
    "            w.extend(biases)\n",
    "        if convert_to_tensor:\n",
    "            w = self.tensor(w)\n",
    "        return w\n",
    "\n",
    "    def set_weights(self, w):\n",
    "        for i, layer in enumerate(self.model.layers[1:]):\n",
    "            start_weights = sum(self.sizes_w[:i]) + sum(self.sizes_b[:i])\n",
    "            end_weights = sum(self.sizes_w[:i+1]) + sum(self.sizes_b[:i])\n",
    "            weights = w[start_weights:end_weights]\n",
    "            w_div = int(self.sizes_w[i] / self.sizes_b[i])\n",
    "            weights = tf.reshape(weights, [w_div, self.sizes_b[i]])\n",
    "            biases = w[end_weights:end_weights + self.sizes_b[i]]\n",
    "            weights_biases = [weights, biases]\n",
    "            layer.set_weights(weights_biases)\n",
    "\n",
    "    def get_loss_and_flat_grad(self, X, u):\n",
    "        def loss_and_flat_grad(w):\n",
    "            with tf.GradientTape() as tape:\n",
    "                self.set_weights(w)\n",
    "                loss_value = self.loss(u, self.model(X))\n",
    "            grad = tape.gradient(loss_value, self.wrap_training_variables())\n",
    "            grad_flat = []\n",
    "            for g in grad:\n",
    "                grad_flat.append(tf.reshape(g, [-1]))\n",
    "            grad_flat = tf.concat(grad_flat, 0)\n",
    "            return loss_value, grad_flat\n",
    "\n",
    "        return loss_and_flat_grad\n",
    "\n",
    "    def tf_optimization(self, X_u, u):\n",
    "        self.logger.log_train_opt(\"Adam\")\n",
    "        for epoch in range(self.tf_epochs):\n",
    "            loss_value = self.tf_optimization_step(X_u, u)\n",
    "            self.logger.log_train_epoch(epoch, loss_value)\n",
    "\n",
    "    # @tf.function\n",
    "    def tf_optimization_step(self, X_u, u):\n",
    "        loss_value, grads = self.grad(X_u, u)\n",
    "        self.tf_optimizer.apply_gradients(\n",
    "                zip(grads, self.wrap_training_variables()))\n",
    "        return loss_value\n",
    "\n",
    "    def nt_optimization(self, X_u, u):\n",
    "        self.logger.log_train_opt(\"LBFGS\")\n",
    "        loss_and_flat_grad = self.get_loss_and_flat_grad(X_u, u)\n",
    "    # tfp.optimizer.lbfgs_minimize(\n",
    "    #   loss_and_flat_grad,\n",
    "    #   initial_position=self.get_weights(),\n",
    "    #   num_correction_pairs=nt_config.nCorrection,\n",
    "    #   max_iterations=nt_config.maxIter,\n",
    "    #   f_relative_tolerance=nt_config.tolFun,\n",
    "    #   tolerance=nt_config.tolFun,\n",
    "    #   parallel_iterations=6)\n",
    "        self.nt_optimization_steps(loss_and_flat_grad)\n",
    "\n",
    "\n",
    "    def nt_optimization_steps(self, loss_and_flat_grad):\n",
    "        lbfgs(loss_and_flat_grad,\n",
    "              self.get_weights(),\n",
    "              self.nt_config, Struct(), True,\n",
    "              lambda epoch, loss, is_iter:\n",
    "              self.logger.log_train_epoch(epoch, loss, \"\", is_iter))\n",
    "\n",
    "    def fit(self, X_u, u, X_star, u_star):\n",
    "        self.logger.log_train_start(self)\n",
    "\n",
    "        # Creating the tensors\n",
    "        X_u = self.tensor(X_u)\n",
    "        u = self.tensor(u)\n",
    "\n",
    "        # Optimizing\n",
    "        self.tf_optimization(X_u, u)\n",
    "        self.nt_optimization(X_u, u)\n",
    "\n",
    "        #self.logger.log_train_end(self.tf_epochs + self.nt_config.maxIter)\n",
    "\n",
    "    def predict(self, X_star):\n",
    "        u_star = self.model(X_star)\n",
    "        f_star = self.f_model(alpha, beta, amp, x_lab, wn, sign)\n",
    "        return u_star.numpy(), f_star.numpy()"
   ]
  },
  {
   "cell_type": "code",
   "execution_count": 16,
   "id": "12804e38",
   "metadata": {},
   "outputs": [],
   "source": [
    "def create_optimizer(trial):\n",
    "    # We optimize the choice of optimizers as well as their parameters.\n",
    "    kwargs = {}\n",
    "    optimizer_options = \"Adam\"\n",
    "    #optimizer_selected = trial.suggest_categorical(\"optimizer\", optimizer_options)\n",
    "    kwargs[\"learning_rate\"] = trial.suggest_float(\"adam_learning_rate\", 0.019, 0.02, log=True)\n",
    "    kwargs[\"beta_1\"] = 0.99\n",
    "    optimizer = getattr(tf.optimizers, optimizer_options)(**kwargs)\n",
    "    return optimizer\n",
    "\n",
    "def create_model(trial, lb, ub):\n",
    "    dtype = \"float64\"\n",
    "    # Descriptive Keras model\n",
    "    tf.keras.backend.set_floatx(dtype)\n",
    "\n",
    "    #n_layers = trial.suggest_int(\"n_layers\", 5, 12)\n",
    "    n_layers = 9\n",
    "    #neurons  =  trial.suggest_int(\"neurons\", 35, 45)\n",
    "    neurons = 45\n",
    "    model = tf.keras.Sequential()\n",
    "    model.add(tf.keras.layers.InputLayer(input_shape=(2,)))\n",
    "    model.add(tf.keras.layers.Lambda(\n",
    "        lambda X: 2.0*(X - lb)/(ub - lb) - 1.0))\n",
    "    for i in range(n_layers):\n",
    "        width = trial.suggest_int(\"n_units_l{}\".format(i), neurons, neurons, log=True)\n",
    "        model.add(tf.keras.layers.Dense(\n",
    "            width, activation=tf.nn.tanh,\n",
    "            kernel_initializer=\"glorot_normal\"))\n",
    "    model.add(tf.keras.layers.Dense(\n",
    "            1, activation=None,\n",
    "            kernel_initializer=\"glorot_normal\"))\n",
    "    return model, n_layers, neurons\n",
    "\n",
    "def params(trial):\n",
    "    nt_lr = trial.suggest_float(\"nt_lr\", 0.25, 0.40)\n",
    "    #nt_lr = 0.5\n",
    "    #nt_ncorr = trial.suggest_int(\"nt_ncorr\", 50, 120)\n",
    "    nt_ncorr = 100\n",
    "    nt_epochs = trial.suggest_int(\"nt_epochs\", 150,300)\n",
    "    #nt_epochs = 400\n",
    "    tf_epochs = trial.suggest_int(\"tf_epochs\", 150,250)\n",
    "    #tf_epochs = 450\n",
    "    #N_u = trial.suggest_int(\"N_u\", 2000,5000)\n",
    "    N_u = 1000\n",
    "    #N_f = trial.suggest_int(\"N_f\", 13500,16000)\n",
    "    N_f = 14522\n",
    "    log_freq = 10\n",
    "    hp = {\n",
    "        'nt_lr': nt_lr,\n",
    "        'nt_ncorr': nt_ncorr,\n",
    "        'nt_epochs': nt_epochs,\n",
    "        'tf_epochs': tf_epochs,\n",
    "        'log_frequency': log_freq,\n",
    "        'N_u': N_u,\n",
    "        'N_f': N_f\n",
    "    }\n",
    "    return hp"
   ]
  },
  {
   "cell_type": "code",
   "execution_count": 17,
   "id": "e6b52a21",
   "metadata": {},
   "outputs": [],
   "source": [
    "np.random.seed(1234)\n",
    "tf.random.set_seed(1234)\n",
    "\n",
    "alpha=4.7\n",
    "beta=0.1\n",
    "amp=0.0\n",
    "x_lab=None \n",
    "wn=None \n",
    "sign=None\n",
    "\n",
    "def objective(trial):\n",
    "    np.random.seed(1234)\n",
    "    tf.random.set_seed(1234)\n",
    "    class KFRInformedNN(NeuralNetwork):\n",
    "        def __init__(self, opt_hp, logger, X_f, ub, lb, alpha, beta, amp, n_layers, neurons, model, optimizer, x_lab=None, wn=None, sign=None):\n",
    "            super().__init__(opt_hp, logger, X_f, ub, lb, alpha, beta, amp, n_layers, neurons, model, optimizer, x_lab=None, wn=None, sign=None)\n",
    "\n",
    "\n",
    "    eqnPath = 'DataGenerator'\n",
    "    path = os.path.join(eqnPath, 'amp_0alpha_4.7')\n",
    "    opt_hp = params(trial)\n",
    "    x, t, X, T, Exact_u, X_star, u_star, \\\n",
    "        X_u_train, u_train, X_f, ub, lb = prep_data(\n",
    "            path, opt_hp['N_u'], opt_hp['N_f'], noise=0.0)\n",
    "    \n",
    "\n",
    "\n",
    "    model, n_layers, neurons = create_model(trial, lb, ub)\n",
    "    optimizer = create_optimizer(trial)\n",
    "#     nt_lr = nt_learn(trial)\n",
    "#     nt_ncorr = nt_ncorrection(trial)\n",
    "    logger = Logger(opt_hp)\n",
    "    pinn = KFRInformedNN(opt_hp, logger, X_f, ub, lb, alpha ,beta, amp, n_layers, neurons, model, optimizer)\n",
    "#     summ = pinn.summary()\n",
    "#     print(summ)\n",
    "    \n",
    "    def learn(model, optimizer, X, u, X_star, u_star): \n",
    "        return pinn.fit(X_u_train, u_train, X_star, u_star)\n",
    "    def test(model, optimizer, X, u, X_star, u_star):\n",
    "            u_pred, _ = pinn.predict(X_star)\n",
    "            error = np.linalg.norm(u_star - u_pred, 2) / np.linalg.norm(u_star, 2)\n",
    "            return error\n",
    "        \n",
    "    for _ in range(1):\n",
    "        learn(model, optimizer, X_u_train, u_train, X_star, u_star)\n",
    "        #error_value = test(model, optimizer, X_u_train, u_train, X_star, u_star)\n",
    "        #print(error_value)\n",
    "    error_value = test(model, optimizer, X_u_train, u_train, X_star, u_star)\n",
    "    return -error_value"
   ]
  },
  {
   "cell_type": "code",
   "execution_count": 18,
   "id": "853f2a87",
   "metadata": {},
   "outputs": [
    {
     "name": "stderr",
     "output_type": "stream",
     "text": [
      "\u001b[32m[I 2021-08-04 06:55:23,532]\u001b[0m A new study created in memory with name: no-name-d9f4fbcf-b53c-474c-96a6-3eeaa35d5ece\u001b[0m\n"
     ]
    },
    {
     "name": "stdout",
     "output_type": "stream",
     "text": [
      "Hyperparameters:\n",
      "{\n",
      "  \"nt_lr\": 0.2646534304852239,\n",
      "  \"nt_ncorr\": 100,\n",
      "  \"nt_epochs\": 270,\n",
      "  \"tf_epochs\": 209,\n",
      "  \"log_frequency\": 10,\n",
      "  \"N_u\": 1000,\n",
      "  \"N_f\": 14522\n",
      "}\n",
      "\n",
      "TensorFlow version: 2.3.0\n",
      "Eager execution: True\n",
      "GPU-accerelated: True\n",
      "\n",
      "Training started\n",
      "================\n",
      "-- Starting Adam optimization --\n",
      "tf_epoch =      0  elapsed = 00:00 (+00.2)  loss = 6.9438e-01  \n",
      "tf_epoch =     10  elapsed = 00:01 (+01.6)  loss = 1.4771e+00  \n",
      "tf_epoch =     20  elapsed = 00:03 (+01.6)  loss = 8.9169e-02  \n",
      "tf_epoch =     30  elapsed = 00:05 (+01.5)  loss = 2.0784e-02  \n",
      "tf_epoch =     40  elapsed = 00:06 (+01.6)  loss = 6.2586e-02  \n",
      "tf_epoch =     50  elapsed = 00:08 (+01.6)  loss = 6.5468e-02  \n",
      "tf_epoch =     60  elapsed = 00:10 (+01.6)  loss = 4.4643e-02  \n",
      "tf_epoch =     70  elapsed = 00:11 (+01.6)  loss = 5.8189e-02  \n",
      "tf_epoch =     80  elapsed = 00:13 (+01.6)  loss = 3.0288e-02  \n",
      "tf_epoch =     90  elapsed = 00:14 (+01.6)  loss = 3.4708e-02  \n",
      "tf_epoch =    100  elapsed = 00:16 (+01.6)  loss = 3.1287e-02  \n",
      "tf_epoch =    110  elapsed = 00:18 (+01.6)  loss = 1.9238e-02  \n",
      "tf_epoch =    120  elapsed = 00:19 (+01.6)  loss = 1.9449e-02  \n",
      "tf_epoch =    130  elapsed = 00:21 (+01.6)  loss = 1.9979e-02  \n",
      "tf_epoch =    140  elapsed = 00:22 (+01.6)  loss = 1.4495e-02  \n",
      "tf_epoch =    150  elapsed = 00:24 (+01.6)  loss = 1.4292e-02  \n",
      "tf_epoch =    160  elapsed = 00:26 (+01.6)  loss = 1.6845e-02  \n",
      "tf_epoch =    170  elapsed = 00:27 (+01.6)  loss = 1.4841e-02  \n",
      "tf_epoch =    180  elapsed = 00:29 (+01.6)  loss = 1.2209e-02  \n",
      "tf_epoch =    190  elapsed = 00:31 (+01.6)  loss = 1.0219e-02  \n",
      "tf_epoch =    200  elapsed = 00:32 (+01.6)  loss = 1.0630e-02  \n",
      "-- Starting LBFGS optimization --\n",
      "nt_epoch =     10  elapsed = 00:36 (+03.4)  loss = 8.3736e-03  \n",
      "nt_epoch =     20  elapsed = 00:38 (+01.8)  loss = 5.1797e-03  \n",
      "nt_epoch =     30  elapsed = 00:39 (+01.9)  loss = 3.9304e-03  \n",
      "nt_epoch =     40  elapsed = 00:41 (+01.9)  loss = 3.2780e-03  \n",
      "nt_epoch =     50  elapsed = 00:43 (+01.9)  loss = 2.5627e-03  \n",
      "nt_epoch =     60  elapsed = 00:45 (+01.9)  loss = 1.9926e-03  \n",
      "nt_epoch =     70  elapsed = 00:47 (+02.0)  loss = 1.6843e-03  \n",
      "nt_epoch =     80  elapsed = 00:49 (+02.0)  loss = 1.4892e-03  \n",
      "nt_epoch =     90  elapsed = 00:51 (+02.0)  loss = 1.3270e-03  \n",
      "nt_epoch =    100  elapsed = 00:54 (+02.1)  loss = 1.2525e-03  \n",
      "nt_epoch =    110  elapsed = 00:56 (+02.1)  loss = 1.1722e-03  \n",
      "nt_epoch =    120  elapsed = 00:58 (+02.1)  loss = 1.1255e-03  \n",
      "nt_epoch =    130  elapsed = 01:00 (+02.1)  loss = 1.0769e-03  \n",
      "nt_epoch =    140  elapsed = 01:02 (+02.2)  loss = 1.0381e-03  \n",
      "nt_epoch =    150  elapsed = 01:04 (+02.1)  loss = 1.0166e-03  \n",
      "nt_epoch =    160  elapsed = 01:06 (+02.1)  loss = 9.9297e-04  \n",
      "nt_epoch =    170  elapsed = 01:09 (+02.1)  loss = 9.7402e-04  \n",
      "nt_epoch =    180  elapsed = 01:11 (+02.1)  loss = 9.5128e-04  \n",
      "nt_epoch =    190  elapsed = 01:13 (+02.1)  loss = 9.3326e-04  \n",
      "nt_epoch =    200  elapsed = 01:15 (+02.2)  loss = 9.1360e-04  \n",
      "nt_epoch =    210  elapsed = 01:17 (+02.1)  loss = 9.0155e-04  \n",
      "nt_epoch =    220  elapsed = 01:19 (+02.1)  loss = 8.8658e-04  \n",
      "nt_epoch =    230  elapsed = 01:21 (+02.0)  loss = 8.6865e-04  \n",
      "nt_epoch =    240  elapsed = 01:23 (+02.0)  loss = 8.5839e-04  \n",
      "nt_epoch =    250  elapsed = 01:25 (+02.0)  loss = 8.4832e-04  \n",
      "nt_epoch =    260  elapsed = 01:28 (+02.0)  loss = 8.3682e-04  \n"
     ]
    },
    {
     "name": "stderr",
     "output_type": "stream",
     "text": [
      "\u001b[32m[I 2021-08-04 06:57:04,482]\u001b[0m Trial 0 finished with value: -0.08271048691230308 and parameters: {'nt_lr': 0.2646534304852239, 'nt_epochs': 270, 'tf_epochs': 209, 'n_units_l0': 45, 'n_units_l1': 45, 'n_units_l2': 45, 'n_units_l3': 45, 'n_units_l4': 45, 'n_units_l5': 45, 'n_units_l6': 45, 'n_units_l7': 45, 'n_units_l8': 45, 'adam_learning_rate': 0.019093991835594685}. Best is trial 0 with value: -0.08271048691230308.\u001b[0m\n"
     ]
    },
    {
     "name": "stdout",
     "output_type": "stream",
     "text": [
      "Hyperparameters:\n",
      "{\n",
      "  \"nt_lr\": 0.3083755998718507,\n",
      "  \"nt_ncorr\": 100,\n",
      "  \"nt_epochs\": 212,\n",
      "  \"tf_epochs\": 176,\n",
      "  \"log_frequency\": 10,\n",
      "  \"N_u\": 1000,\n",
      "  \"N_f\": 14522\n",
      "}\n",
      "\n",
      "TensorFlow version: 2.3.0\n",
      "Eager execution: True\n",
      "GPU-accerelated: True\n",
      "\n",
      "Training started\n",
      "================\n",
      "-- Starting Adam optimization --\n",
      "tf_epoch =      0  elapsed = 00:00 (+00.1)  loss = 6.9438e-01  \n",
      "tf_epoch =     10  elapsed = 00:01 (+01.5)  loss = 1.5213e+00  \n",
      "tf_epoch =     20  elapsed = 00:03 (+01.5)  loss = 8.2432e-02  \n",
      "tf_epoch =     30  elapsed = 00:04 (+01.5)  loss = 1.8151e-02  \n",
      "tf_epoch =     40  elapsed = 00:06 (+01.5)  loss = 6.2335e-02  \n",
      "tf_epoch =     50  elapsed = 00:08 (+01.5)  loss = 6.7877e-02  \n",
      "tf_epoch =     60  elapsed = 00:09 (+01.5)  loss = 5.4808e-02  \n",
      "tf_epoch =     70  elapsed = 00:11 (+01.5)  loss = 7.6326e-02  \n",
      "tf_epoch =     80  elapsed = 00:12 (+01.5)  loss = 3.7294e-02  \n",
      "tf_epoch =     90  elapsed = 00:14 (+01.6)  loss = 4.3996e-02  \n",
      "tf_epoch =    100  elapsed = 00:16 (+01.6)  loss = 2.9346e-02  \n",
      "tf_epoch =    110  elapsed = 00:17 (+01.6)  loss = 2.0961e-02  \n",
      "tf_epoch =    120  elapsed = 00:19 (+01.6)  loss = 2.5574e-02  \n",
      "tf_epoch =    130  elapsed = 00:20 (+01.6)  loss = 2.0794e-02  \n",
      "tf_epoch =    140  elapsed = 00:22 (+01.6)  loss = 1.7693e-02  \n",
      "tf_epoch =    150  elapsed = 00:24 (+01.6)  loss = 1.4247e-02  \n",
      "tf_epoch =    160  elapsed = 00:25 (+01.6)  loss = 1.1733e-02  \n",
      "tf_epoch =    170  elapsed = 00:27 (+01.6)  loss = 1.2792e-02  \n",
      "-- Starting LBFGS optimization --\n",
      "nt_epoch =     10  elapsed = 00:30 (+02.8)  loss = 7.7619e-03  \n",
      "nt_epoch =     20  elapsed = 00:32 (+01.8)  loss = 6.3046e-03  \n",
      "nt_epoch =     30  elapsed = 00:34 (+01.8)  loss = 5.2397e-03  \n",
      "nt_epoch =     40  elapsed = 00:35 (+01.9)  loss = 3.5353e-03  \n",
      "nt_epoch =     50  elapsed = 00:37 (+01.9)  loss = 2.9982e-03  \n",
      "nt_epoch =     60  elapsed = 00:39 (+01.9)  loss = 2.4902e-03  \n",
      "nt_epoch =     70  elapsed = 00:41 (+02.0)  loss = 2.0029e-03  \n",
      "nt_epoch =     80  elapsed = 00:43 (+02.0)  loss = 1.6786e-03  \n",
      "nt_epoch =     90  elapsed = 00:46 (+02.0)  loss = 1.5381e-03  \n",
      "nt_epoch =    100  elapsed = 00:48 (+02.1)  loss = 1.3936e-03  \n",
      "nt_epoch =    110  elapsed = 00:50 (+02.1)  loss = 1.3217e-03  \n",
      "nt_epoch =    120  elapsed = 00:52 (+02.1)  loss = 1.2571e-03  \n",
      "nt_epoch =    130  elapsed = 00:54 (+02.1)  loss = 1.2243e-03  \n",
      "nt_epoch =    140  elapsed = 00:56 (+02.1)  loss = 1.2011e-03  \n",
      "nt_epoch =    150  elapsed = 00:58 (+02.1)  loss = 1.1728e-03  \n",
      "nt_epoch =    160  elapsed = 01:01 (+02.1)  loss = 1.1484e-03  \n",
      "nt_epoch =    170  elapsed = 01:03 (+02.1)  loss = 1.1310e-03  \n",
      "nt_epoch =    180  elapsed = 01:05 (+02.1)  loss = 1.1112e-03  \n",
      "nt_epoch =    190  elapsed = 01:07 (+02.1)  loss = 1.0924e-03  \n",
      "nt_epoch =    200  elapsed = 01:09 (+02.1)  loss = 1.0805e-03  \n",
      "nt_epoch =    210  elapsed = 01:11 (+02.1)  loss = 1.0699e-03  \n"
     ]
    },
    {
     "name": "stderr",
     "output_type": "stream",
     "text": [
      "\u001b[32m[I 2021-08-04 06:58:17,642]\u001b[0m Trial 1 finished with value: -0.13811232972554038 and parameters: {'nt_lr': 0.3083755998718507, 'nt_epochs': 212, 'tf_epochs': 176, 'n_units_l0': 45, 'n_units_l1': 45, 'n_units_l2': 45, 'n_units_l3': 45, 'n_units_l4': 45, 'n_units_l5': 45, 'n_units_l6': 45, 'n_units_l7': 45, 'n_units_l8': 45, 'adam_learning_rate': 0.019159392015737152}. Best is trial 0 with value: -0.08271048691230308.\u001b[0m\n"
     ]
    },
    {
     "name": "stdout",
     "output_type": "stream",
     "text": [
      "Hyperparameters:\n",
      "{\n",
      "  \"nt_lr\": 0.31187314210110895,\n",
      "  \"nt_ncorr\": 100,\n",
      "  \"nt_epochs\": 232,\n",
      "  \"tf_epochs\": 243,\n",
      "  \"log_frequency\": 10,\n",
      "  \"N_u\": 1000,\n",
      "  \"N_f\": 14522\n",
      "}\n",
      "\n",
      "TensorFlow version: 2.3.0\n",
      "Eager execution: True\n",
      "GPU-accerelated: True\n",
      "\n",
      "Training started\n",
      "================\n",
      "-- Starting Adam optimization --\n",
      "tf_epoch =      0  elapsed = 00:00 (+00.2)  loss = 6.9438e-01  \n",
      "tf_epoch =     10  elapsed = 00:01 (+01.5)  loss = 1.4183e+00  \n",
      "tf_epoch =     20  elapsed = 00:03 (+01.6)  loss = 9.6628e-02  \n",
      "tf_epoch =     30  elapsed = 00:05 (+01.6)  loss = 2.9923e-02  \n",
      "tf_epoch =     40  elapsed = 00:06 (+01.6)  loss = 7.9313e-02  \n",
      "tf_epoch =     50  elapsed = 00:08 (+01.5)  loss = 6.9680e-02  \n",
      "tf_epoch =     60  elapsed = 00:09 (+01.5)  loss = 6.2602e-02  \n",
      "tf_epoch =     70  elapsed = 00:11 (+01.5)  loss = 5.9765e-02  \n",
      "tf_epoch =     80  elapsed = 00:13 (+01.5)  loss = 4.5729e-02  \n",
      "tf_epoch =     90  elapsed = 00:14 (+01.5)  loss = 1.9249e-02  \n",
      "tf_epoch =    100  elapsed = 00:16 (+01.5)  loss = 2.3889e-02  \n",
      "tf_epoch =    110  elapsed = 00:17 (+01.5)  loss = 2.2865e-02  \n",
      "tf_epoch =    120  elapsed = 00:19 (+01.5)  loss = 1.4463e-02  \n",
      "tf_epoch =    130  elapsed = 00:20 (+01.5)  loss = 1.8066e-02  \n",
      "tf_epoch =    140  elapsed = 00:22 (+01.5)  loss = 1.5738e-02  \n",
      "tf_epoch =    150  elapsed = 00:24 (+01.5)  loss = 1.1143e-02  \n",
      "tf_epoch =    160  elapsed = 00:25 (+01.5)  loss = 1.2479e-02  \n",
      "tf_epoch =    170  elapsed = 00:27 (+01.5)  loss = 9.2490e-03  \n",
      "tf_epoch =    180  elapsed = 00:28 (+01.5)  loss = 2.0744e-02  \n",
      "tf_epoch =    190  elapsed = 00:30 (+01.5)  loss = 1.7791e-02  \n",
      "tf_epoch =    200  elapsed = 00:31 (+01.5)  loss = 2.0624e-02  \n",
      "tf_epoch =    210  elapsed = 00:33 (+01.5)  loss = 1.7483e-02  \n",
      "tf_epoch =    220  elapsed = 00:35 (+01.5)  loss = 1.6138e-02  \n",
      "tf_epoch =    230  elapsed = 00:36 (+01.5)  loss = 1.4665e-02  \n",
      "tf_epoch =    240  elapsed = 00:38 (+01.5)  loss = 1.4632e-02  \n",
      "-- Starting LBFGS optimization --\n",
      "nt_epoch =     10  elapsed = 00:40 (+02.2)  loss = 1.3849e-02  \n",
      "nt_epoch =     20  elapsed = 00:42 (+01.7)  loss = 1.0462e-02  \n",
      "nt_epoch =     30  elapsed = 00:44 (+01.7)  loss = 8.4167e-03  \n",
      "nt_epoch =     40  elapsed = 00:45 (+01.8)  loss = 7.3507e-03  \n",
      "nt_epoch =     50  elapsed = 00:47 (+01.8)  loss = 5.0367e-03  \n",
      "nt_epoch =     60  elapsed = 00:49 (+01.8)  loss = 3.8734e-03  \n",
      "nt_epoch =     70  elapsed = 00:51 (+01.9)  loss = 3.0750e-03  \n",
      "nt_epoch =     80  elapsed = 00:53 (+01.9)  loss = 2.5788e-03  \n",
      "nt_epoch =     90  elapsed = 00:55 (+02.0)  loss = 2.2436e-03  \n",
      "nt_epoch =    100  elapsed = 00:57 (+02.0)  loss = 2.0067e-03  \n",
      "nt_epoch =    110  elapsed = 00:59 (+02.1)  loss = 1.8625e-03  \n",
      "nt_epoch =    120  elapsed = 01:01 (+02.0)  loss = 1.6883e-03  \n",
      "nt_epoch =    130  elapsed = 01:03 (+02.0)  loss = 1.5360e-03  \n",
      "nt_epoch =    140  elapsed = 01:05 (+02.0)  loss = 1.4560e-03  \n",
      "nt_epoch =    150  elapsed = 01:07 (+02.0)  loss = 1.3945e-03  \n",
      "nt_epoch =    160  elapsed = 01:10 (+02.0)  loss = 1.3472e-03  \n",
      "nt_epoch =    170  elapsed = 01:12 (+02.0)  loss = 1.2896e-03  \n",
      "nt_epoch =    180  elapsed = 01:14 (+02.0)  loss = 1.2376e-03  \n",
      "nt_epoch =    190  elapsed = 01:16 (+02.1)  loss = 1.2018e-03  \n",
      "nt_epoch =    200  elapsed = 01:18 (+02.1)  loss = 1.1669e-03  \n",
      "nt_epoch =    210  elapsed = 01:20 (+02.1)  loss = 1.1310e-03  \n",
      "nt_epoch =    220  elapsed = 01:22 (+02.0)  loss = 1.0801e-03  \n",
      "nt_epoch =    230  elapsed = 01:24 (+02.0)  loss = 1.0388e-03  \n"
     ]
    },
    {
     "name": "stderr",
     "output_type": "stream",
     "text": [
      "\u001b[32m[I 2021-08-04 06:59:43,561]\u001b[0m Trial 2 finished with value: -0.1781538760076843 and parameters: {'nt_lr': 0.31187314210110895, 'nt_epochs': 232, 'tf_epochs': 243, 'n_units_l0': 45, 'n_units_l1': 45, 'n_units_l2': 45, 'n_units_l3': 45, 'n_units_l4': 45, 'n_units_l5': 45, 'n_units_l6': 45, 'n_units_l7': 45, 'n_units_l8': 45, 'adam_learning_rate': 0.01901463445890727}. Best is trial 0 with value: -0.08271048691230308.\u001b[0m\n"
     ]
    },
    {
     "name": "stdout",
     "output_type": "stream",
     "text": [
      "Hyperparameters:\n",
      "{\n",
      "  \"nt_lr\": 0.27594880043727316,\n",
      "  \"nt_ncorr\": 100,\n",
      "  \"nt_epochs\": 272,\n",
      "  \"tf_epochs\": 198,\n",
      "  \"log_frequency\": 10,\n",
      "  \"N_u\": 1000,\n",
      "  \"N_f\": 14522\n",
      "}\n",
      "\n",
      "TensorFlow version: 2.3.0\n",
      "Eager execution: True\n",
      "GPU-accerelated: True\n",
      "\n",
      "Training started\n",
      "================\n",
      "-- Starting Adam optimization --\n",
      "tf_epoch =      0  elapsed = 00:00 (+00.1)  loss = 6.9438e-01  \n",
      "tf_epoch =     10  elapsed = 00:01 (+01.5)  loss = 1.5029e+00  \n",
      "tf_epoch =     20  elapsed = 00:03 (+01.6)  loss = 8.5292e-02  \n",
      "tf_epoch =     30  elapsed = 00:04 (+01.5)  loss = 1.8536e-02  \n",
      "tf_epoch =     40  elapsed = 00:06 (+01.5)  loss = 6.1952e-02  \n",
      "tf_epoch =     50  elapsed = 00:08 (+01.5)  loss = 6.3956e-02  \n",
      "tf_epoch =     60  elapsed = 00:09 (+01.6)  loss = 6.1488e-02  \n",
      "tf_epoch =     70  elapsed = 00:11 (+01.6)  loss = 5.5676e-02  \n",
      "tf_epoch =     80  elapsed = 00:12 (+01.5)  loss = 3.9891e-02  \n",
      "tf_epoch =     90  elapsed = 00:14 (+01.6)  loss = 2.7948e-02  \n",
      "tf_epoch =    100  elapsed = 00:16 (+01.5)  loss = 3.1798e-02  \n",
      "tf_epoch =    110  elapsed = 00:17 (+01.5)  loss = 1.4792e-02  \n",
      "tf_epoch =    120  elapsed = 00:19 (+01.5)  loss = 1.7519e-02  \n",
      "tf_epoch =    130  elapsed = 00:20 (+01.6)  loss = 1.8393e-02  \n",
      "tf_epoch =    140  elapsed = 00:22 (+01.5)  loss = 1.5507e-02  \n",
      "tf_epoch =    150  elapsed = 00:24 (+01.5)  loss = 1.5152e-02  \n",
      "tf_epoch =    160  elapsed = 00:25 (+01.5)  loss = 1.1232e-02  \n",
      "tf_epoch =    170  elapsed = 00:27 (+01.5)  loss = 8.4752e-03  \n",
      "tf_epoch =    180  elapsed = 00:28 (+01.5)  loss = 9.0078e-03  \n",
      "tf_epoch =    190  elapsed = 00:30 (+01.6)  loss = 8.8192e-03  \n",
      "-- Starting LBFGS optimization --\n",
      "nt_epoch =     10  elapsed = 00:33 (+03.0)  loss = 5.1309e-03  \n",
      "nt_epoch =     20  elapsed = 00:35 (+01.7)  loss = 4.0271e-03  \n",
      "nt_epoch =     30  elapsed = 00:37 (+01.8)  loss = 3.3947e-03  \n",
      "nt_epoch =     40  elapsed = 00:39 (+01.9)  loss = 2.5535e-03  \n",
      "nt_epoch =     50  elapsed = 00:40 (+01.9)  loss = 1.9540e-03  \n",
      "nt_epoch =     60  elapsed = 00:42 (+01.9)  loss = 1.5552e-03  \n",
      "nt_epoch =     70  elapsed = 00:44 (+01.9)  loss = 1.3461e-03  \n",
      "nt_epoch =     80  elapsed = 00:47 (+02.2)  loss = 1.2269e-03  \n",
      "nt_epoch =     90  elapsed = 00:50 (+03.1)  loss = 1.1578e-03  \n",
      "nt_epoch =    100  elapsed = 00:52 (+02.7)  loss = 1.1154e-03  \n",
      "nt_epoch =    110  elapsed = 00:55 (+02.2)  loss = 1.0870e-03  \n",
      "nt_epoch =    120  elapsed = 00:57 (+02.3)  loss = 1.0619e-03  \n",
      "nt_epoch =    130  elapsed = 00:59 (+02.0)  loss = 1.0468e-03  \n",
      "nt_epoch =    140  elapsed = 01:01 (+02.0)  loss = 1.0391e-03  \n",
      "nt_epoch =    150  elapsed = 01:03 (+02.0)  loss = 1.0328e-03  \n",
      "nt_epoch =    160  elapsed = 01:05 (+02.0)  loss = 1.0274e-03  \n",
      "nt_epoch =    170  elapsed = 01:07 (+02.0)  loss = 1.0207e-03  \n",
      "nt_epoch =    180  elapsed = 01:09 (+02.0)  loss = 1.0111e-03  \n",
      "nt_epoch =    190  elapsed = 01:11 (+02.0)  loss = 1.0025e-03  \n",
      "nt_epoch =    200  elapsed = 01:14 (+02.0)  loss = 9.9074e-04  \n",
      "nt_epoch =    210  elapsed = 01:16 (+02.0)  loss = 9.8596e-04  \n",
      "nt_epoch =    220  elapsed = 01:18 (+02.0)  loss = 9.8157e-04  \n",
      "nt_epoch =    230  elapsed = 01:20 (+02.0)  loss = 9.7946e-04  \n",
      "nt_epoch =    240  elapsed = 01:22 (+02.0)  loss = 9.7589e-04  \n",
      "nt_epoch =    250  elapsed = 01:24 (+02.1)  loss = 9.7180e-04  \n",
      "nt_epoch =    260  elapsed = 01:26 (+02.2)  loss = 9.6503e-04  \n",
      "nt_epoch =    270  elapsed = 01:28 (+02.1)  loss = 9.6235e-04  \n"
     ]
    },
    {
     "name": "stderr",
     "output_type": "stream",
     "text": [
      "\u001b[32m[I 2021-08-04 07:01:13,630]\u001b[0m Trial 3 finished with value: -0.0831904927299543 and parameters: {'nt_lr': 0.27594880043727316, 'nt_epochs': 272, 'tf_epochs': 198, 'n_units_l0': 45, 'n_units_l1': 45, 'n_units_l2': 45, 'n_units_l3': 45, 'n_units_l4': 45, 'n_units_l5': 45, 'n_units_l6': 45, 'n_units_l7': 45, 'n_units_l8': 45, 'adam_learning_rate': 0.019130787334676085}. Best is trial 0 with value: -0.08271048691230308.\u001b[0m\n"
     ]
    },
    {
     "name": "stdout",
     "output_type": "stream",
     "text": [
      "Hyperparameters:\n",
      "{\n",
      "  \"nt_lr\": 0.2597518247627338,\n",
      "  \"nt_ncorr\": 100,\n",
      "  \"nt_epochs\": 255,\n",
      "  \"tf_epochs\": 206,\n",
      "  \"log_frequency\": 10,\n",
      "  \"N_u\": 1000,\n",
      "  \"N_f\": 14522\n",
      "}\n",
      "\n",
      "TensorFlow version: 2.3.0\n",
      "Eager execution: True\n",
      "GPU-accerelated: True\n",
      "\n",
      "Training started\n",
      "================\n",
      "-- Starting Adam optimization --\n",
      "tf_epoch =      0  elapsed = 00:00 (+00.1)  loss = 6.9438e-01  \n",
      "tf_epoch =     10  elapsed = 00:01 (+01.5)  loss = 1.4948e+00  \n",
      "tf_epoch =     20  elapsed = 00:03 (+01.6)  loss = 8.6593e-02  \n",
      "tf_epoch =     30  elapsed = 00:04 (+01.5)  loss = 1.9097e-02  \n",
      "tf_epoch =     40  elapsed = 00:06 (+01.6)  loss = 6.2309e-02  \n",
      "tf_epoch =     50  elapsed = 00:08 (+01.6)  loss = 6.5437e-02  \n",
      "tf_epoch =     60  elapsed = 00:09 (+01.6)  loss = 6.0761e-02  \n",
      "tf_epoch =     70  elapsed = 00:11 (+01.5)  loss = 6.5121e-02  \n",
      "tf_epoch =     80  elapsed = 00:13 (+01.6)  loss = 3.4467e-02  \n",
      "tf_epoch =     90  elapsed = 00:14 (+01.5)  loss = 4.3098e-02  \n",
      "tf_epoch =    100  elapsed = 00:16 (+01.7)  loss = 2.6271e-02  \n",
      "tf_epoch =    110  elapsed = 00:17 (+01.6)  loss = 2.5214e-02  \n",
      "tf_epoch =    120  elapsed = 00:19 (+01.6)  loss = 1.6555e-02  \n",
      "tf_epoch =    130  elapsed = 00:21 (+01.6)  loss = 1.6792e-02  \n",
      "tf_epoch =    140  elapsed = 00:22 (+01.6)  loss = 1.2124e-02  \n",
      "tf_epoch =    150  elapsed = 00:24 (+01.6)  loss = 1.5136e-02  \n",
      "tf_epoch =    160  elapsed = 00:26 (+01.6)  loss = 1.5674e-02  \n",
      "tf_epoch =    170  elapsed = 00:27 (+01.6)  loss = 1.1132e-02  \n",
      "tf_epoch =    180  elapsed = 00:29 (+01.6)  loss = 1.0352e-02  \n",
      "tf_epoch =    190  elapsed = 00:31 (+01.6)  loss = 9.3993e-03  \n",
      "tf_epoch =    200  elapsed = 00:32 (+01.6)  loss = 8.1993e-03  \n",
      "-- Starting LBFGS optimization --\n",
      "nt_epoch =     10  elapsed = 00:35 (+02.8)  loss = 6.7305e-03  \n",
      "nt_epoch =     20  elapsed = 00:37 (+01.8)  loss = 4.3276e-03  \n",
      "nt_epoch =     30  elapsed = 00:39 (+01.9)  loss = 3.0500e-03  \n",
      "nt_epoch =     40  elapsed = 00:41 (+01.8)  loss = 2.2346e-03  \n",
      "nt_epoch =     50  elapsed = 00:43 (+01.8)  loss = 1.7639e-03  \n",
      "nt_epoch =     60  elapsed = 00:45 (+02.0)  loss = 1.5178e-03  \n",
      "nt_epoch =     70  elapsed = 00:47 (+02.0)  loss = 1.3340e-03  \n",
      "nt_epoch =     80  elapsed = 00:49 (+02.0)  loss = 1.2202e-03  \n",
      "nt_epoch =     90  elapsed = 00:51 (+02.0)  loss = 1.1425e-03  \n",
      "nt_epoch =    100  elapsed = 00:53 (+02.1)  loss = 1.0856e-03  \n",
      "nt_epoch =    110  elapsed = 00:55 (+02.1)  loss = 1.0432e-03  \n",
      "nt_epoch =    120  elapsed = 00:57 (+02.1)  loss = 1.0242e-03  \n",
      "nt_epoch =    130  elapsed = 00:59 (+02.1)  loss = 9.9565e-04  \n",
      "nt_epoch =    140  elapsed = 01:01 (+02.1)  loss = 9.7158e-04  \n",
      "nt_epoch =    150  elapsed = 01:04 (+02.1)  loss = 9.5736e-04  \n",
      "nt_epoch =    160  elapsed = 01:06 (+02.1)  loss = 9.4781e-04  \n",
      "nt_epoch =    170  elapsed = 01:08 (+02.1)  loss = 9.3907e-04  \n",
      "nt_epoch =    180  elapsed = 01:10 (+02.1)  loss = 9.2862e-04  \n",
      "nt_epoch =    190  elapsed = 01:12 (+02.1)  loss = 9.1855e-04  \n",
      "nt_epoch =    200  elapsed = 01:14 (+02.1)  loss = 9.1251e-04  \n",
      "nt_epoch =    210  elapsed = 01:16 (+02.1)  loss = 9.0330e-04  \n",
      "nt_epoch =    220  elapsed = 01:19 (+02.1)  loss = 8.9513e-04  \n",
      "nt_epoch =    230  elapsed = 01:21 (+02.1)  loss = 8.8997e-04  \n",
      "nt_epoch =    240  elapsed = 01:23 (+02.1)  loss = 8.8452e-04  \n",
      "nt_epoch =    250  elapsed = 01:25 (+02.2)  loss = 8.7687e-04  \n"
     ]
    },
    {
     "name": "stderr",
     "output_type": "stream",
     "text": [
      "\u001b[32m[I 2021-08-04 07:02:41,228]\u001b[0m Trial 4 finished with value: -0.08620716791370661 and parameters: {'nt_lr': 0.2597518247627338, 'nt_epochs': 255, 'tf_epochs': 206, 'n_units_l0': 45, 'n_units_l1': 45, 'n_units_l2': 45, 'n_units_l3': 45, 'n_units_l4': 45, 'n_units_l5': 45, 'n_units_l6': 45, 'n_units_l7': 45, 'n_units_l8': 45, 'adam_learning_rate': 0.01911830736496443}. Best is trial 0 with value: -0.08271048691230308.\u001b[0m\n"
     ]
    },
    {
     "name": "stdout",
     "output_type": "stream",
     "text": [
      "Hyperparameters:\n",
      "{\n",
      "  \"nt_lr\": 0.35106504509925873,\n",
      "  \"nt_ncorr\": 100,\n",
      "  \"nt_epochs\": 275,\n",
      "  \"tf_epochs\": 209,\n",
      "  \"log_frequency\": 10,\n",
      "  \"N_u\": 1000,\n",
      "  \"N_f\": 14522\n",
      "}\n",
      "\n",
      "TensorFlow version: 2.3.0\n",
      "Eager execution: True\n",
      "GPU-accerelated: True\n",
      "\n",
      "Training started\n",
      "================\n",
      "-- Starting Adam optimization --\n",
      "tf_epoch =      0  elapsed = 00:00 (+00.2)  loss = 6.9438e-01  \n",
      "tf_epoch =     10  elapsed = 00:01 (+01.5)  loss = 2.0118e+00  \n",
      "tf_epoch =     20  elapsed = 00:03 (+01.6)  loss = 5.7462e-02  \n",
      "tf_epoch =     30  elapsed = 00:05 (+01.6)  loss = 3.4574e-02  \n",
      "tf_epoch =     40  elapsed = 00:06 (+01.6)  loss = 7.4336e-02  \n",
      "tf_epoch =     50  elapsed = 00:08 (+01.6)  loss = 6.1690e-02  \n",
      "tf_epoch =     60  elapsed = 00:10 (+01.6)  loss = 4.8561e-02  \n",
      "tf_epoch =     70  elapsed = 00:11 (+01.6)  loss = 2.0965e-02  \n",
      "tf_epoch =     80  elapsed = 00:13 (+01.6)  loss = 2.8049e-02  \n",
      "tf_epoch =     90  elapsed = 00:14 (+01.6)  loss = 2.5517e-02  \n",
      "tf_epoch =    100  elapsed = 00:16 (+01.6)  loss = 1.5586e-02  \n",
      "tf_epoch =    110  elapsed = 00:18 (+01.6)  loss = 1.4477e-02  \n",
      "tf_epoch =    120  elapsed = 00:19 (+01.6)  loss = 9.5518e-03  \n",
      "tf_epoch =    130  elapsed = 00:21 (+01.6)  loss = 1.4192e-02  \n",
      "tf_epoch =    140  elapsed = 00:23 (+01.6)  loss = 9.3300e-03  \n",
      "tf_epoch =    150  elapsed = 00:24 (+01.6)  loss = 7.8172e-03  \n",
      "tf_epoch =    160  elapsed = 00:26 (+01.5)  loss = 8.0383e-03  \n",
      "tf_epoch =    170  elapsed = 00:28 (+01.6)  loss = 8.0405e-03  \n",
      "tf_epoch =    180  elapsed = 00:29 (+01.5)  loss = 5.8133e-03  \n",
      "tf_epoch =    190  elapsed = 00:31 (+01.5)  loss = 5.8160e-03  \n",
      "tf_epoch =    200  elapsed = 00:32 (+01.6)  loss = 4.0328e-03  \n",
      "-- Starting LBFGS optimization --\n",
      "nt_epoch =     10  elapsed = 00:36 (+03.2)  loss = 2.9460e-03  \n",
      "nt_epoch =     20  elapsed = 00:37 (+01.7)  loss = 2.3614e-03  \n",
      "nt_epoch =     30  elapsed = 00:39 (+01.8)  loss = 1.7807e-03  \n",
      "nt_epoch =     40  elapsed = 00:41 (+02.0)  loss = 1.5097e-03  \n",
      "nt_epoch =     50  elapsed = 00:43 (+01.9)  loss = 1.3338e-03  \n",
      "nt_epoch =     60  elapsed = 00:45 (+01.9)  loss = 1.2334e-03  \n",
      "nt_epoch =     70  elapsed = 00:47 (+02.0)  loss = 1.1606e-03  \n",
      "nt_epoch =     80  elapsed = 00:49 (+02.0)  loss = 1.1068e-03  \n",
      "nt_epoch =     90  elapsed = 00:51 (+02.0)  loss = 1.0396e-03  \n",
      "nt_epoch =    100  elapsed = 00:53 (+02.1)  loss = 1.0144e-03  \n",
      "nt_epoch =    110  elapsed = 00:56 (+02.1)  loss = 9.7592e-04  \n",
      "nt_epoch =    120  elapsed = 00:58 (+02.1)  loss = 9.5752e-04  \n",
      "nt_epoch =    130  elapsed = 01:00 (+02.1)  loss = 9.4501e-04  \n",
      "nt_epoch =    140  elapsed = 01:02 (+02.1)  loss = 9.3603e-04  \n",
      "nt_epoch =    150  elapsed = 01:04 (+02.1)  loss = 9.2745e-04  \n",
      "nt_epoch =    160  elapsed = 01:06 (+02.1)  loss = 9.1533e-04  \n",
      "nt_epoch =    170  elapsed = 01:08 (+02.1)  loss = 9.0567e-04  \n",
      "nt_epoch =    180  elapsed = 01:11 (+02.1)  loss = 8.9966e-04  \n",
      "nt_epoch =    190  elapsed = 01:13 (+02.1)  loss = 8.9261e-04  \n",
      "nt_epoch =    200  elapsed = 01:15 (+02.1)  loss = 8.7900e-04  \n",
      "nt_epoch =    210  elapsed = 01:17 (+02.1)  loss = 8.6766e-04  \n",
      "nt_epoch =    220  elapsed = 01:19 (+02.1)  loss = 8.6199e-04  \n",
      "nt_epoch =    230  elapsed = 01:21 (+02.1)  loss = 8.4721e-04  \n",
      "nt_epoch =    240  elapsed = 01:23 (+02.1)  loss = 8.3738e-04  \n",
      "nt_epoch =    250  elapsed = 01:26 (+02.1)  loss = 8.2724e-04  \n",
      "nt_epoch =    260  elapsed = 01:28 (+02.1)  loss = 8.1838e-04  \n",
      "nt_epoch =    270  elapsed = 01:30 (+02.1)  loss = 8.0093e-04  \n"
     ]
    },
    {
     "name": "stderr",
     "output_type": "stream",
     "text": [
      "\u001b[32m[I 2021-08-04 07:04:13,590]\u001b[0m Trial 5 finished with value: -0.08788580308783808 and parameters: {'nt_lr': 0.35106504509925873, 'nt_epochs': 275, 'tf_epochs': 209, 'n_units_l0': 45, 'n_units_l1': 45, 'n_units_l2': 45, 'n_units_l3': 45, 'n_units_l4': 45, 'n_units_l5': 45, 'n_units_l6': 45, 'n_units_l7': 45, 'n_units_l8': 45, 'adam_learning_rate': 0.01993494775478983}. Best is trial 0 with value: -0.08271048691230308.\u001b[0m\n"
     ]
    },
    {
     "name": "stdout",
     "output_type": "stream",
     "text": [
      "Hyperparameters:\n",
      "{\n",
      "  \"nt_lr\": 0.3777033572060364,\n",
      "  \"nt_ncorr\": 100,\n",
      "  \"nt_epochs\": 220,\n",
      "  \"tf_epochs\": 193,\n",
      "  \"log_frequency\": 10,\n",
      "  \"N_u\": 1000,\n",
      "  \"N_f\": 14522\n",
      "}\n",
      "\n",
      "TensorFlow version: 2.3.0\n",
      "Eager execution: True\n",
      "GPU-accerelated: True\n",
      "\n",
      "Training started\n",
      "================\n",
      "-- Starting Adam optimization --\n",
      "tf_epoch =      0  elapsed = 00:00 (+00.1)  loss = 6.9438e-01  \n",
      "tf_epoch =     10  elapsed = 00:01 (+01.5)  loss = 1.8047e+00  \n",
      "tf_epoch =     20  elapsed = 00:03 (+01.6)  loss = 3.8586e-02  \n",
      "tf_epoch =     30  elapsed = 00:05 (+01.6)  loss = 2.6454e-02  \n",
      "tf_epoch =     40  elapsed = 00:06 (+01.6)  loss = 6.8814e-02  \n",
      "tf_epoch =     50  elapsed = 00:08 (+01.6)  loss = 7.1177e-02  \n",
      "tf_epoch =     60  elapsed = 00:09 (+01.6)  loss = 9.2097e-02  \n",
      "tf_epoch =     70  elapsed = 00:11 (+01.6)  loss = 4.1314e-02  \n",
      "tf_epoch =     80  elapsed = 00:13 (+01.6)  loss = 2.8896e-02  \n",
      "tf_epoch =     90  elapsed = 00:14 (+01.6)  loss = 2.8166e-02  \n",
      "tf_epoch =    100  elapsed = 00:16 (+01.6)  loss = 2.4836e-02  \n",
      "tf_epoch =    110  elapsed = 00:18 (+01.6)  loss = 8.0207e-02  \n",
      "tf_epoch =    120  elapsed = 00:19 (+01.6)  loss = 5.5518e-02  \n",
      "tf_epoch =    130  elapsed = 00:21 (+01.6)  loss = 2.7156e-02  \n",
      "tf_epoch =    140  elapsed = 00:23 (+01.6)  loss = 2.1297e-02  \n",
      "tf_epoch =    150  elapsed = 00:24 (+01.6)  loss = 2.4537e-02  \n",
      "tf_epoch =    160  elapsed = 00:26 (+01.6)  loss = 2.2815e-02  \n",
      "tf_epoch =    170  elapsed = 00:27 (+01.6)  loss = 1.4537e-02  \n",
      "tf_epoch =    180  elapsed = 00:29 (+01.6)  loss = 1.7135e-02  \n",
      "tf_epoch =    190  elapsed = 00:31 (+01.6)  loss = 1.0276e-02  \n",
      "-- Starting LBFGS optimization --\n",
      "nt_epoch =     10  elapsed = 00:33 (+02.3)  loss = 7.0148e-03  \n",
      "nt_epoch =     20  elapsed = 00:35 (+01.8)  loss = 4.4581e-03  \n",
      "nt_epoch =     30  elapsed = 00:37 (+01.8)  loss = 3.2365e-03  \n",
      "nt_epoch =     40  elapsed = 00:39 (+01.9)  loss = 2.7065e-03  \n",
      "nt_epoch =     50  elapsed = 00:41 (+01.9)  loss = 2.0579e-03  \n",
      "nt_epoch =     60  elapsed = 00:43 (+01.9)  loss = 1.6720e-03  \n",
      "nt_epoch =     70  elapsed = 00:45 (+02.0)  loss = 1.4509e-03  \n",
      "nt_epoch =     80  elapsed = 00:47 (+02.0)  loss = 1.2923e-03  \n",
      "nt_epoch =     90  elapsed = 00:49 (+02.0)  loss = 1.1945e-03  \n",
      "nt_epoch =    100  elapsed = 00:51 (+02.1)  loss = 1.1103e-03  \n",
      "nt_epoch =    110  elapsed = 00:53 (+02.1)  loss = 1.0744e-03  \n",
      "nt_epoch =    120  elapsed = 00:55 (+02.1)  loss = 1.0458e-03  \n",
      "nt_epoch =    130  elapsed = 00:57 (+02.1)  loss = 1.0282e-03  \n",
      "nt_epoch =    140  elapsed = 01:00 (+02.2)  loss = 1.0065e-03  \n",
      "nt_epoch =    150  elapsed = 01:02 (+02.1)  loss = 9.8248e-04  \n",
      "nt_epoch =    160  elapsed = 01:04 (+02.1)  loss = 9.6594e-04  \n",
      "nt_epoch =    170  elapsed = 01:06 (+02.1)  loss = 9.4898e-04  \n",
      "nt_epoch =    180  elapsed = 01:08 (+02.2)  loss = 9.2599e-04  \n",
      "nt_epoch =    190  elapsed = 01:10 (+02.1)  loss = 8.9904e-04  \n",
      "nt_epoch =    200  elapsed = 01:13 (+02.1)  loss = 8.7003e-04  \n",
      "nt_epoch =    210  elapsed = 01:15 (+02.1)  loss = 8.4511e-04  \n"
     ]
    },
    {
     "name": "stderr",
     "output_type": "stream",
     "text": [
      "\u001b[32m[I 2021-08-04 07:05:31,901]\u001b[0m Trial 6 finished with value: -0.09572687128163798 and parameters: {'nt_lr': 0.3777033572060364, 'nt_epochs': 220, 'tf_epochs': 193, 'n_units_l0': 45, 'n_units_l1': 45, 'n_units_l2': 45, 'n_units_l3': 45, 'n_units_l4': 45, 'n_units_l5': 45, 'n_units_l6': 45, 'n_units_l7': 45, 'n_units_l8': 45, 'adam_learning_rate': 0.019576758438988703}. Best is trial 0 with value: -0.08271048691230308.\u001b[0m\n"
     ]
    },
    {
     "name": "stdout",
     "output_type": "stream",
     "text": [
      "Hyperparameters:\n",
      "{\n",
      "  \"nt_lr\": 0.3065178302285996,\n",
      "  \"nt_ncorr\": 100,\n",
      "  \"nt_epochs\": 281,\n",
      "  \"tf_epochs\": 233,\n",
      "  \"log_frequency\": 10,\n",
      "  \"N_u\": 1000,\n",
      "  \"N_f\": 14522\n",
      "}\n",
      "\n",
      "TensorFlow version: 2.3.0\n",
      "Eager execution: True\n",
      "GPU-accerelated: True\n",
      "\n",
      "Training started\n",
      "================\n",
      "-- Starting Adam optimization --\n",
      "tf_epoch =      0  elapsed = 00:00 (+00.1)  loss = 6.9438e-01  \n",
      "tf_epoch =     10  elapsed = 00:01 (+01.5)  loss = 1.5786e+00  \n",
      "tf_epoch =     20  elapsed = 00:03 (+01.5)  loss = 7.2316e-02  \n",
      "tf_epoch =     30  elapsed = 00:04 (+01.5)  loss = 1.9021e-02  \n",
      "tf_epoch =     40  elapsed = 00:06 (+01.5)  loss = 6.3183e-02  \n",
      "tf_epoch =     50  elapsed = 00:08 (+01.5)  loss = 6.0487e-02  \n",
      "tf_epoch =     60  elapsed = 00:09 (+01.5)  loss = 8.4121e-02  \n",
      "tf_epoch =     70  elapsed = 00:11 (+01.5)  loss = 5.8121e-02  \n",
      "tf_epoch =     80  elapsed = 00:12 (+01.5)  loss = 3.4934e-02  \n",
      "tf_epoch =     90  elapsed = 00:14 (+01.5)  loss = 3.2950e-02  \n",
      "tf_epoch =    100  elapsed = 00:15 (+01.5)  loss = 2.1630e-02  \n",
      "tf_epoch =    110  elapsed = 00:17 (+01.5)  loss = 2.0660e-02  \n",
      "tf_epoch =    120  elapsed = 00:19 (+01.5)  loss = 2.1386e-02  \n",
      "tf_epoch =    130  elapsed = 00:20 (+01.5)  loss = 2.0066e-02  \n",
      "tf_epoch =    140  elapsed = 00:22 (+01.5)  loss = 1.4878e-02  \n",
      "tf_epoch =    150  elapsed = 00:23 (+01.5)  loss = 1.1198e-02  \n",
      "tf_epoch =    160  elapsed = 00:25 (+01.5)  loss = 9.2312e-03  \n",
      "tf_epoch =    170  elapsed = 00:26 (+01.5)  loss = 9.6377e-03  \n",
      "tf_epoch =    180  elapsed = 00:28 (+01.5)  loss = 6.8665e-03  \n",
      "tf_epoch =    190  elapsed = 00:30 (+01.5)  loss = 1.0397e-02  \n",
      "tf_epoch =    200  elapsed = 00:31 (+01.5)  loss = 6.7839e-03  \n",
      "tf_epoch =    210  elapsed = 00:33 (+01.5)  loss = 7.8042e-03  \n",
      "tf_epoch =    220  elapsed = 00:34 (+01.5)  loss = 5.6591e-03  \n",
      "tf_epoch =    230  elapsed = 00:36 (+01.5)  loss = 5.4334e-03  \n",
      "-- Starting LBFGS optimization --\n",
      "nt_epoch =     10  elapsed = 00:38 (+02.2)  loss = 4.1355e-03  \n",
      "nt_epoch =     20  elapsed = 00:40 (+01.7)  loss = 3.4247e-03  \n",
      "nt_epoch =     30  elapsed = 00:42 (+01.7)  loss = 2.2077e-03  \n",
      "nt_epoch =     40  elapsed = 00:44 (+01.8)  loss = 1.7913e-03  \n",
      "nt_epoch =     50  elapsed = 00:45 (+01.8)  loss = 1.5867e-03  \n",
      "nt_epoch =     60  elapsed = 00:47 (+01.8)  loss = 1.4207e-03  \n",
      "nt_epoch =     70  elapsed = 00:49 (+01.9)  loss = 1.3099e-03  \n",
      "nt_epoch =     80  elapsed = 00:51 (+01.9)  loss = 1.1867e-03  \n",
      "nt_epoch =     90  elapsed = 00:53 (+01.9)  loss = 1.1066e-03  \n",
      "nt_epoch =    100  elapsed = 00:55 (+02.0)  loss = 1.0239e-03  \n",
      "nt_epoch =    110  elapsed = 00:57 (+02.0)  loss = 9.8793e-04  \n",
      "nt_epoch =    120  elapsed = 00:59 (+02.0)  loss = 9.7174e-04  \n",
      "nt_epoch =    130  elapsed = 01:01 (+02.0)  loss = 9.5566e-04  \n",
      "nt_epoch =    140  elapsed = 01:03 (+02.0)  loss = 9.3976e-04  \n",
      "nt_epoch =    150  elapsed = 01:05 (+02.0)  loss = 9.2539e-04  \n",
      "nt_epoch =    160  elapsed = 01:07 (+02.0)  loss = 9.1334e-04  \n",
      "nt_epoch =    170  elapsed = 01:10 (+02.0)  loss = 9.0269e-04  \n",
      "nt_epoch =    180  elapsed = 01:12 (+02.0)  loss = 8.9265e-04  \n",
      "nt_epoch =    190  elapsed = 01:14 (+02.0)  loss = 8.7941e-04  \n",
      "nt_epoch =    200  elapsed = 01:16 (+02.0)  loss = 8.6847e-04  \n",
      "nt_epoch =    210  elapsed = 01:18 (+02.0)  loss = 8.5815e-04  \n",
      "nt_epoch =    220  elapsed = 01:20 (+02.0)  loss = 8.4783e-04  \n",
      "nt_epoch =    230  elapsed = 01:22 (+02.0)  loss = 8.3996e-04  \n",
      "nt_epoch =    240  elapsed = 01:24 (+02.0)  loss = 8.2258e-04  \n",
      "nt_epoch =    250  elapsed = 01:26 (+02.0)  loss = 7.9278e-04  \n",
      "nt_epoch =    260  elapsed = 01:28 (+02.0)  loss = 7.7703e-04  \n",
      "nt_epoch =    270  elapsed = 01:30 (+02.0)  loss = 7.6435e-04  \n",
      "nt_epoch =    280  elapsed = 01:32 (+02.0)  loss = 7.5364e-04  \n"
     ]
    },
    {
     "name": "stderr",
     "output_type": "stream",
     "text": [
      "\u001b[32m[I 2021-08-04 07:07:05,482]\u001b[0m Trial 7 finished with value: -0.08531307116769112 and parameters: {'nt_lr': 0.3065178302285996, 'nt_epochs': 281, 'tf_epochs': 233, 'n_units_l0': 45, 'n_units_l1': 45, 'n_units_l2': 45, 'n_units_l3': 45, 'n_units_l4': 45, 'n_units_l5': 45, 'n_units_l6': 45, 'n_units_l7': 45, 'n_units_l8': 45, 'adam_learning_rate': 0.019247542503777002}. Best is trial 0 with value: -0.08271048691230308.\u001b[0m\n"
     ]
    },
    {
     "name": "stdout",
     "output_type": "stream",
     "text": [
      "Hyperparameters:\n",
      "{\n",
      "  \"nt_lr\": 0.38999177110797456,\n",
      "  \"nt_ncorr\": 100,\n",
      "  \"nt_epochs\": 180,\n",
      "  \"tf_epochs\": 231,\n",
      "  \"log_frequency\": 10,\n",
      "  \"N_u\": 1000,\n",
      "  \"N_f\": 14522\n",
      "}\n",
      "\n",
      "TensorFlow version: 2.3.0\n",
      "Eager execution: True\n",
      "GPU-accerelated: True\n",
      "\n",
      "Training started\n",
      "================\n",
      "-- Starting Adam optimization --\n",
      "tf_epoch =      0  elapsed = 00:00 (+00.1)  loss = 6.9438e-01  \n",
      "tf_epoch =     10  elapsed = 00:01 (+01.5)  loss = 1.8553e+00  \n",
      "tf_epoch =     20  elapsed = 00:03 (+01.5)  loss = 4.0477e-02  \n",
      "tf_epoch =     30  elapsed = 00:04 (+01.5)  loss = 2.7905e-02  \n",
      "tf_epoch =     40  elapsed = 00:06 (+01.5)  loss = 6.4931e-02  \n",
      "tf_epoch =     50  elapsed = 00:07 (+01.5)  loss = 4.8073e-02  \n",
      "tf_epoch =     60  elapsed = 00:09 (+01.5)  loss = 5.7325e-02  \n",
      "tf_epoch =     70  elapsed = 00:11 (+01.5)  loss = 4.5593e-02  \n",
      "tf_epoch =     80  elapsed = 00:12 (+01.5)  loss = 3.4654e-02  \n",
      "tf_epoch =     90  elapsed = 00:14 (+01.5)  loss = 4.5567e-02  \n",
      "tf_epoch =    100  elapsed = 00:15 (+01.5)  loss = 2.8621e-02  \n",
      "tf_epoch =    110  elapsed = 00:17 (+01.5)  loss = 3.0070e-02  \n",
      "tf_epoch =    120  elapsed = 00:18 (+01.5)  loss = 1.9380e-02  \n",
      "tf_epoch =    130  elapsed = 00:20 (+01.5)  loss = 1.8166e-02  \n",
      "tf_epoch =    140  elapsed = 00:22 (+01.5)  loss = 2.3540e-02  \n",
      "tf_epoch =    150  elapsed = 00:23 (+01.5)  loss = 1.6820e-02  \n",
      "tf_epoch =    160  elapsed = 00:25 (+01.5)  loss = 1.1936e-02  \n",
      "tf_epoch =    170  elapsed = 00:26 (+01.5)  loss = 9.3679e-03  \n",
      "tf_epoch =    180  elapsed = 00:28 (+01.5)  loss = 9.3763e-03  \n",
      "tf_epoch =    190  elapsed = 00:30 (+01.5)  loss = 9.1462e-03  \n",
      "tf_epoch =    200  elapsed = 00:31 (+01.5)  loss = 8.3367e-03  \n",
      "tf_epoch =    210  elapsed = 00:33 (+01.5)  loss = 8.6035e-03  \n",
      "tf_epoch =    220  elapsed = 00:34 (+01.5)  loss = 8.7104e-03  \n",
      "tf_epoch =    230  elapsed = 00:36 (+01.5)  loss = 7.9721e-03  \n",
      "-- Starting LBFGS optimization --\n",
      "nt_epoch =     10  elapsed = 00:38 (+01.9)  loss = 4.6960e-03  \n",
      "nt_epoch =     20  elapsed = 00:40 (+01.7)  loss = 3.6404e-03  \n",
      "nt_epoch =     30  elapsed = 00:41 (+01.7)  loss = 2.3622e-03  \n",
      "nt_epoch =     40  elapsed = 00:43 (+01.8)  loss = 1.5458e-03  \n",
      "nt_epoch =     50  elapsed = 00:45 (+01.8)  loss = 1.1880e-03  \n",
      "nt_epoch =     60  elapsed = 00:47 (+01.8)  loss = 1.0426e-03  \n",
      "nt_epoch =     70  elapsed = 00:49 (+01.9)  loss = 8.5072e-04  \n",
      "nt_epoch =     80  elapsed = 00:51 (+01.9)  loss = 7.6608e-04  \n",
      "nt_epoch =     90  elapsed = 00:53 (+01.9)  loss = 6.8798e-04  \n",
      "nt_epoch =    100  elapsed = 00:55 (+02.0)  loss = 6.5577e-04  \n",
      "nt_epoch =    110  elapsed = 00:57 (+02.0)  loss = 6.1650e-04  \n",
      "nt_epoch =    120  elapsed = 00:59 (+02.0)  loss = 5.9797e-04  \n",
      "nt_epoch =    130  elapsed = 01:01 (+02.0)  loss = 5.8111e-04  \n",
      "nt_epoch =    140  elapsed = 01:03 (+02.0)  loss = 5.6034e-04  \n",
      "nt_epoch =    150  elapsed = 01:05 (+02.0)  loss = 5.4052e-04  \n",
      "nt_epoch =    160  elapsed = 01:07 (+02.0)  loss = 5.2948e-04  \n",
      "nt_epoch =    170  elapsed = 01:09 (+02.0)  loss = 5.1485e-04  \n"
     ]
    },
    {
     "name": "stderr",
     "output_type": "stream",
     "text": [
      "\u001b[32m[I 2021-08-04 07:08:18,052]\u001b[0m Trial 8 finished with value: -0.08185131670369288 and parameters: {'nt_lr': 0.38999177110797456, 'nt_epochs': 180, 'tf_epochs': 231, 'n_units_l0': 45, 'n_units_l1': 45, 'n_units_l2': 45, 'n_units_l3': 45, 'n_units_l4': 45, 'n_units_l5': 45, 'n_units_l6': 45, 'n_units_l7': 45, 'n_units_l8': 45, 'adam_learning_rate': 0.019644885421452776}. Best is trial 8 with value: -0.08185131670369288.\u001b[0m\n"
     ]
    },
    {
     "name": "stdout",
     "output_type": "stream",
     "text": [
      "Hyperparameters:\n",
      "{\n",
      "  \"nt_lr\": 0.3117916441463818,\n",
      "  \"nt_ncorr\": 100,\n",
      "  \"nt_epochs\": 162,\n",
      "  \"tf_epochs\": 229,\n",
      "  \"log_frequency\": 10,\n",
      "  \"N_u\": 1000,\n",
      "  \"N_f\": 14522\n",
      "}\n",
      "\n",
      "TensorFlow version: 2.3.0\n",
      "Eager execution: True\n",
      "GPU-accerelated: True\n",
      "\n",
      "Training started\n",
      "================\n",
      "-- Starting Adam optimization --\n",
      "tf_epoch =      0  elapsed = 00:00 (+00.1)  loss = 6.9438e-01  \n",
      "tf_epoch =     10  elapsed = 00:01 (+01.5)  loss = 1.6565e+00  \n",
      "tf_epoch =     20  elapsed = 00:03 (+01.5)  loss = 5.7024e-02  \n",
      "tf_epoch =     30  elapsed = 00:04 (+01.5)  loss = 2.1503e-02  \n",
      "tf_epoch =     40  elapsed = 00:06 (+01.5)  loss = 7.2306e-02  \n",
      "tf_epoch =     50  elapsed = 00:07 (+01.5)  loss = 6.4278e-02  \n",
      "tf_epoch =     60  elapsed = 00:09 (+01.5)  loss = 4.4296e-02  \n",
      "tf_epoch =     70  elapsed = 00:11 (+01.5)  loss = 4.1474e-02  \n",
      "tf_epoch =     80  elapsed = 00:12 (+01.5)  loss = 2.2904e-02  \n",
      "tf_epoch =     90  elapsed = 00:14 (+01.5)  loss = 2.6946e-02  \n",
      "tf_epoch =    100  elapsed = 00:15 (+01.5)  loss = 1.7395e-02  \n",
      "tf_epoch =    110  elapsed = 00:17 (+01.5)  loss = 1.8585e-02  \n",
      "tf_epoch =    120  elapsed = 00:18 (+01.5)  loss = 1.5744e-02  \n",
      "tf_epoch =    130  elapsed = 00:20 (+01.5)  loss = 1.3629e-02  \n",
      "tf_epoch =    140  elapsed = 00:22 (+01.5)  loss = 1.0231e-02  \n",
      "tf_epoch =    150  elapsed = 00:23 (+01.6)  loss = 9.0247e-03  \n",
      "tf_epoch =    160  elapsed = 00:25 (+01.6)  loss = 9.4134e-03  \n",
      "tf_epoch =    170  elapsed = 00:26 (+01.5)  loss = 8.5120e-03  \n",
      "tf_epoch =    180  elapsed = 00:28 (+01.5)  loss = 8.7159e-03  \n",
      "tf_epoch =    190  elapsed = 00:30 (+01.5)  loss = 7.6523e-03  \n",
      "tf_epoch =    200  elapsed = 00:31 (+01.5)  loss = 6.2956e-03  \n",
      "tf_epoch =    210  elapsed = 00:33 (+01.5)  loss = 7.4377e-03  \n",
      "tf_epoch =    220  elapsed = 00:34 (+01.5)  loss = 6.4430e-03  \n",
      "-- Starting LBFGS optimization --\n",
      "nt_epoch =     10  elapsed = 00:38 (+03.2)  loss = 5.2540e-03  \n",
      "nt_epoch =     20  elapsed = 00:39 (+01.7)  loss = 4.1678e-03  \n",
      "nt_epoch =     30  elapsed = 00:41 (+01.7)  loss = 2.9919e-03  \n",
      "nt_epoch =     40  elapsed = 00:43 (+01.8)  loss = 2.2965e-03  \n",
      "nt_epoch =     50  elapsed = 00:45 (+01.8)  loss = 1.7388e-03  \n",
      "nt_epoch =     60  elapsed = 00:47 (+01.8)  loss = 1.3775e-03  \n",
      "nt_epoch =     70  elapsed = 00:49 (+01.9)  loss = 1.1593e-03  \n",
      "nt_epoch =     80  elapsed = 00:51 (+01.9)  loss = 1.0634e-03  \n",
      "nt_epoch =     90  elapsed = 00:53 (+01.9)  loss = 1.0021e-03  \n",
      "nt_epoch =    100  elapsed = 00:55 (+02.0)  loss = 9.4361e-04  \n",
      "nt_epoch =    110  elapsed = 00:57 (+02.0)  loss = 8.8653e-04  \n",
      "nt_epoch =    120  elapsed = 00:59 (+02.0)  loss = 8.4512e-04  \n",
      "nt_epoch =    130  elapsed = 01:01 (+02.1)  loss = 8.0468e-04  \n",
      "nt_epoch =    140  elapsed = 01:03 (+02.1)  loss = 7.6910e-04  \n",
      "nt_epoch =    150  elapsed = 01:05 (+02.1)  loss = 7.4524e-04  \n",
      "nt_epoch =    160  elapsed = 01:07 (+02.1)  loss = 7.2611e-04  \n"
     ]
    },
    {
     "name": "stderr",
     "output_type": "stream",
     "text": [
      "\u001b[32m[I 2021-08-04 07:09:27,211]\u001b[0m Trial 9 finished with value: -0.08883963315641388 and parameters: {'nt_lr': 0.3117916441463818, 'nt_epochs': 162, 'tf_epochs': 229, 'n_units_l0': 45, 'n_units_l1': 45, 'n_units_l2': 45, 'n_units_l3': 45, 'n_units_l4': 45, 'n_units_l5': 45, 'n_units_l6': 45, 'n_units_l7': 45, 'n_units_l8': 45, 'adam_learning_rate': 0.019367919138539674}. Best is trial 8 with value: -0.08185131670369288.\u001b[0m\n"
     ]
    },
    {
     "name": "stdout",
     "output_type": "stream",
     "text": [
      "Hyperparameters:\n",
      "{\n",
      "  \"nt_lr\": 0.3978607586566628,\n",
      "  \"nt_ncorr\": 100,\n",
      "  \"nt_epochs\": 156,\n",
      "  \"tf_epochs\": 249,\n",
      "  \"log_frequency\": 10,\n",
      "  \"N_u\": 1000,\n",
      "  \"N_f\": 14522\n",
      "}\n",
      "\n",
      "TensorFlow version: 2.3.0\n",
      "Eager execution: True\n",
      "GPU-accerelated: True\n",
      "\n",
      "Training started\n",
      "================\n",
      "-- Starting Adam optimization --\n",
      "tf_epoch =      0  elapsed = 00:00 (+00.1)  loss = 6.9438e-01  \n",
      "tf_epoch =     10  elapsed = 00:01 (+01.5)  loss = 1.8921e+00  \n",
      "tf_epoch =     20  elapsed = 00:03 (+01.6)  loss = 4.4955e-02  \n",
      "tf_epoch =     30  elapsed = 00:04 (+01.5)  loss = 2.9472e-02  \n",
      "tf_epoch =     40  elapsed = 00:06 (+01.6)  loss = 6.3433e-02  \n",
      "tf_epoch =     50  elapsed = 00:08 (+01.6)  loss = 3.7053e-02  \n",
      "tf_epoch =     60  elapsed = 00:09 (+01.6)  loss = 4.9802e-02  \n",
      "tf_epoch =     70  elapsed = 00:11 (+01.6)  loss = 4.1102e-02  \n",
      "tf_epoch =     80  elapsed = 00:13 (+01.6)  loss = 2.9276e-02  \n",
      "tf_epoch =     90  elapsed = 00:14 (+01.6)  loss = 3.3963e-02  \n",
      "tf_epoch =    100  elapsed = 00:16 (+01.6)  loss = 2.8829e-02  \n",
      "tf_epoch =    110  elapsed = 00:18 (+01.6)  loss = 2.1526e-02  \n",
      "tf_epoch =    120  elapsed = 00:19 (+01.6)  loss = 2.1781e-02  \n",
      "tf_epoch =    130  elapsed = 00:21 (+01.6)  loss = 1.9727e-02  \n",
      "tf_epoch =    140  elapsed = 00:23 (+01.6)  loss = 1.9249e-02  \n",
      "tf_epoch =    150  elapsed = 00:24 (+01.6)  loss = 1.7187e-02  \n",
      "tf_epoch =    160  elapsed = 00:26 (+01.6)  loss = 1.4639e-02  \n",
      "tf_epoch =    170  elapsed = 00:28 (+01.7)  loss = 1.4290e-02  \n",
      "tf_epoch =    180  elapsed = 00:29 (+01.6)  loss = 1.1105e-02  \n",
      "tf_epoch =    190  elapsed = 00:31 (+01.6)  loss = 9.4519e-03  \n",
      "tf_epoch =    200  elapsed = 00:33 (+01.6)  loss = 9.2922e-03  \n",
      "tf_epoch =    210  elapsed = 00:34 (+01.6)  loss = 1.0367e-02  \n",
      "tf_epoch =    220  elapsed = 00:36 (+01.6)  loss = 9.5599e-03  \n",
      "tf_epoch =    230  elapsed = 00:38 (+01.6)  loss = 7.3737e-03  \n",
      "tf_epoch =    240  elapsed = 00:39 (+01.6)  loss = 7.2084e-03  \n",
      "-- Starting LBFGS optimization --\n",
      "nt_epoch =     10  elapsed = 00:43 (+03.4)  loss = 5.8079e-03  \n",
      "nt_epoch =     20  elapsed = 00:45 (+01.8)  loss = 3.9194e-03  \n",
      "nt_epoch =     30  elapsed = 00:47 (+01.9)  loss = 3.1635e-03  \n",
      "nt_epoch =     40  elapsed = 00:49 (+01.9)  loss = 2.4031e-03  \n",
      "nt_epoch =     50  elapsed = 00:51 (+01.9)  loss = 1.8519e-03  \n",
      "nt_epoch =     60  elapsed = 00:53 (+02.0)  loss = 1.6366e-03  \n",
      "nt_epoch =     70  elapsed = 00:55 (+02.0)  loss = 1.4185e-03  \n",
      "nt_epoch =     80  elapsed = 00:57 (+02.0)  loss = 1.2982e-03  \n",
      "nt_epoch =     90  elapsed = 00:59 (+02.0)  loss = 1.2386e-03  \n",
      "nt_epoch =    100  elapsed = 01:01 (+02.1)  loss = 1.1705e-03  \n",
      "nt_epoch =    110  elapsed = 01:03 (+02.1)  loss = 1.1291e-03  \n",
      "nt_epoch =    120  elapsed = 01:05 (+02.1)  loss = 1.0943e-03  \n",
      "nt_epoch =    130  elapsed = 01:07 (+02.1)  loss = 1.0552e-03  \n",
      "nt_epoch =    140  elapsed = 01:09 (+02.1)  loss = 1.0211e-03  \n",
      "nt_epoch =    150  elapsed = 01:12 (+02.1)  loss = 9.9167e-04  \n"
     ]
    },
    {
     "name": "stderr",
     "output_type": "stream",
     "text": [
      "\u001b[32m[I 2021-08-04 07:10:41,544]\u001b[0m Trial 10 finished with value: -0.09040695164743685 and parameters: {'nt_lr': 0.3978607586566628, 'nt_epochs': 156, 'tf_epochs': 249, 'n_units_l0': 45, 'n_units_l1': 45, 'n_units_l2': 45, 'n_units_l3': 45, 'n_units_l4': 45, 'n_units_l5': 45, 'n_units_l6': 45, 'n_units_l7': 45, 'n_units_l8': 45, 'adam_learning_rate': 0.01969264376230046}. Best is trial 8 with value: -0.08185131670369288.\u001b[0m\n"
     ]
    },
    {
     "name": "stdout",
     "output_type": "stream",
     "text": [
      "Hyperparameters:\n",
      "{\n",
      "  \"nt_lr\": 0.3538082098420197,\n",
      "  \"nt_ncorr\": 100,\n",
      "  \"nt_epochs\": 190,\n",
      "  \"tf_epochs\": 222,\n",
      "  \"log_frequency\": 10,\n",
      "  \"N_u\": 1000,\n",
      "  \"N_f\": 14522\n",
      "}\n",
      "\n",
      "TensorFlow version: 2.3.0\n",
      "Eager execution: True\n",
      "GPU-accerelated: True\n",
      "\n",
      "Training started\n",
      "================\n",
      "-- Starting Adam optimization --\n",
      "tf_epoch =      0  elapsed = 00:00 (+00.2)  loss = 6.9438e-01  \n",
      "tf_epoch =     10  elapsed = 00:01 (+01.5)  loss = 1.9685e+00  \n",
      "tf_epoch =     20  elapsed = 00:03 (+01.6)  loss = 5.2149e-02  \n",
      "tf_epoch =     30  elapsed = 00:05 (+01.6)  loss = 3.4405e-02  \n",
      "tf_epoch =     40  elapsed = 00:06 (+01.6)  loss = 6.3070e-02  \n",
      "tf_epoch =     50  elapsed = 00:08 (+01.6)  loss = 4.0609e-02  \n",
      "tf_epoch =     60  elapsed = 00:10 (+01.6)  loss = 3.6267e-02  \n",
      "tf_epoch =     70  elapsed = 00:11 (+01.6)  loss = 2.5333e-02  \n",
      "tf_epoch =     80  elapsed = 00:13 (+01.6)  loss = 3.2626e-02  \n",
      "tf_epoch =     90  elapsed = 00:15 (+01.6)  loss = 1.9028e-02  \n",
      "tf_epoch =    100  elapsed = 00:16 (+01.6)  loss = 1.3464e-02  \n",
      "tf_epoch =    110  elapsed = 00:18 (+01.6)  loss = 2.0491e-02  \n",
      "tf_epoch =    120  elapsed = 00:20 (+01.6)  loss = 1.0322e-02  \n",
      "tf_epoch =    130  elapsed = 00:21 (+01.6)  loss = 1.5338e-02  \n",
      "tf_epoch =    140  elapsed = 00:23 (+01.6)  loss = 1.3928e-02  \n",
      "tf_epoch =    150  elapsed = 00:25 (+01.6)  loss = 8.5512e-03  \n",
      "tf_epoch =    160  elapsed = 00:26 (+01.6)  loss = 1.0659e-02  \n",
      "tf_epoch =    170  elapsed = 00:28 (+01.6)  loss = 8.7433e-03  \n",
      "tf_epoch =    180  elapsed = 00:30 (+01.6)  loss = 9.2198e-03  \n",
      "tf_epoch =    190  elapsed = 00:31 (+01.6)  loss = 6.5134e-03  \n",
      "tf_epoch =    200  elapsed = 00:33 (+01.6)  loss = 5.9748e-03  \n",
      "tf_epoch =    210  elapsed = 00:35 (+01.6)  loss = 5.0472e-03  \n",
      "tf_epoch =    220  elapsed = 00:36 (+01.6)  loss = 6.0605e-03  \n",
      "-- Starting LBFGS optimization --\n",
      "nt_epoch =     10  elapsed = 00:38 (+02.2)  loss = 3.6241e-03  \n",
      "nt_epoch =     20  elapsed = 00:40 (+01.8)  loss = 2.8131e-03  \n",
      "nt_epoch =     30  elapsed = 00:42 (+01.8)  loss = 2.5234e-03  \n",
      "nt_epoch =     40  elapsed = 00:44 (+01.9)  loss = 1.8729e-03  \n",
      "nt_epoch =     50  elapsed = 00:46 (+01.9)  loss = 1.5723e-03  \n",
      "nt_epoch =     60  elapsed = 00:48 (+02.0)  loss = 1.3668e-03  \n",
      "nt_epoch =     70  elapsed = 00:50 (+02.0)  loss = 1.2606e-03  \n",
      "nt_epoch =     80  elapsed = 00:52 (+02.0)  loss = 1.1526e-03  \n",
      "nt_epoch =     90  elapsed = 00:54 (+02.0)  loss = 1.0951e-03  \n",
      "nt_epoch =    100  elapsed = 00:56 (+02.1)  loss = 1.0576e-03  \n",
      "nt_epoch =    110  elapsed = 00:59 (+02.1)  loss = 1.0330e-03  \n",
      "nt_epoch =    120  elapsed = 01:01 (+02.1)  loss = 1.0109e-03  \n",
      "nt_epoch =    130  elapsed = 01:03 (+02.1)  loss = 9.9833e-04  \n",
      "nt_epoch =    140  elapsed = 01:05 (+02.1)  loss = 9.8186e-04  \n",
      "nt_epoch =    150  elapsed = 01:07 (+02.2)  loss = 9.7013e-04  \n",
      "nt_epoch =    160  elapsed = 01:09 (+02.1)  loss = 9.4587e-04  \n",
      "nt_epoch =    170  elapsed = 01:12 (+02.1)  loss = 9.3100e-04  \n",
      "nt_epoch =    180  elapsed = 01:14 (+02.1)  loss = 9.1594e-04  \n"
     ]
    },
    {
     "name": "stderr",
     "output_type": "stream",
     "text": [
      "\u001b[32m[I 2021-08-04 07:11:58,859]\u001b[0m Trial 11 finished with value: -0.08581225198718581 and parameters: {'nt_lr': 0.3538082098420197, 'nt_epochs': 190, 'tf_epochs': 222, 'n_units_l0': 45, 'n_units_l1': 45, 'n_units_l2': 45, 'n_units_l3': 45, 'n_units_l4': 45, 'n_units_l5': 45, 'n_units_l6': 45, 'n_units_l7': 45, 'n_units_l8': 45, 'adam_learning_rate': 0.019824407230783776}. Best is trial 8 with value: -0.08185131670369288.\u001b[0m\n"
     ]
    },
    {
     "name": "stdout",
     "output_type": "stream",
     "text": [
      "Hyperparameters:\n",
      "{\n",
      "  \"nt_lr\": 0.27729275963241484,\n",
      "  \"nt_ncorr\": 100,\n",
      "  \"nt_epochs\": 189,\n",
      "  \"tf_epochs\": 153,\n",
      "  \"log_frequency\": 10,\n",
      "  \"N_u\": 1000,\n",
      "  \"N_f\": 14522\n",
      "}\n",
      "\n",
      "TensorFlow version: 2.3.0\n",
      "Eager execution: True\n",
      "GPU-accerelated: True\n",
      "\n",
      "Training started\n",
      "================\n",
      "-- Starting Adam optimization --\n",
      "tf_epoch =      0  elapsed = 00:00 (+00.1)  loss = 6.9438e-01  \n",
      "tf_epoch =     10  elapsed = 00:01 (+01.5)  loss = 1.7260e+00  \n",
      "tf_epoch =     20  elapsed = 00:03 (+01.6)  loss = 4.5004e-02  \n",
      "tf_epoch =     30  elapsed = 00:05 (+01.6)  loss = 2.3947e-02  \n",
      "tf_epoch =     40  elapsed = 00:06 (+01.6)  loss = 7.3006e-02  \n",
      "tf_epoch =     50  elapsed = 00:08 (+01.6)  loss = 6.2658e-02  \n",
      "tf_epoch =     60  elapsed = 00:10 (+01.6)  loss = 4.6778e-02  \n",
      "tf_epoch =     70  elapsed = 00:11 (+01.6)  loss = 3.7438e-02  \n",
      "tf_epoch =     80  elapsed = 00:13 (+01.6)  loss = 3.3892e-02  \n",
      "tf_epoch =     90  elapsed = 00:15 (+01.6)  loss = 2.7144e-02  \n",
      "tf_epoch =    100  elapsed = 00:16 (+01.6)  loss = 1.7914e-02  \n",
      "tf_epoch =    110  elapsed = 00:18 (+01.6)  loss = 2.1114e-02  \n",
      "tf_epoch =    120  elapsed = 00:20 (+01.6)  loss = 1.6051e-02  \n",
      "tf_epoch =    130  elapsed = 00:21 (+01.6)  loss = 1.1588e-02  \n",
      "tf_epoch =    140  elapsed = 00:23 (+01.6)  loss = 1.0297e-02  \n",
      "tf_epoch =    150  elapsed = 00:25 (+01.6)  loss = 1.1501e-02  \n",
      "-- Starting LBFGS optimization --\n",
      "nt_epoch =     10  elapsed = 00:27 (+02.3)  loss = 9.1713e-03  \n",
      "nt_epoch =     20  elapsed = 00:29 (+01.8)  loss = 6.5368e-03  \n",
      "nt_epoch =     30  elapsed = 00:31 (+01.8)  loss = 4.3721e-03  \n",
      "nt_epoch =     40  elapsed = 00:33 (+01.9)  loss = 3.0071e-03  \n",
      "nt_epoch =     50  elapsed = 00:35 (+01.9)  loss = 2.1001e-03  \n",
      "nt_epoch =     60  elapsed = 00:37 (+02.0)  loss = 1.7276e-03  \n",
      "nt_epoch =     70  elapsed = 00:39 (+02.0)  loss = 1.4280e-03  \n",
      "nt_epoch =     80  elapsed = 00:41 (+02.1)  loss = 1.2566e-03  \n",
      "nt_epoch =     90  elapsed = 00:43 (+02.1)  loss = 1.1738e-03  \n",
      "nt_epoch =    100  elapsed = 00:45 (+02.1)  loss = 1.1082e-03  \n",
      "nt_epoch =    110  elapsed = 00:47 (+02.1)  loss = 1.0650e-03  \n",
      "nt_epoch =    120  elapsed = 00:49 (+02.1)  loss = 1.0323e-03  \n",
      "nt_epoch =    130  elapsed = 00:52 (+02.1)  loss = 1.0040e-03  \n",
      "nt_epoch =    140  elapsed = 00:54 (+02.1)  loss = 9.7063e-04  \n",
      "nt_epoch =    150  elapsed = 00:56 (+02.1)  loss = 9.2965e-04  \n",
      "nt_epoch =    160  elapsed = 00:58 (+02.1)  loss = 9.0340e-04  \n",
      "nt_epoch =    170  elapsed = 01:00 (+02.2)  loss = 8.7944e-04  \n",
      "nt_epoch =    180  elapsed = 01:02 (+02.1)  loss = 8.4884e-04  \n"
     ]
    },
    {
     "name": "stderr",
     "output_type": "stream",
     "text": [
      "\u001b[32m[I 2021-08-04 07:13:04,645]\u001b[0m Trial 12 finished with value: -0.08161519989238468 and parameters: {'nt_lr': 0.27729275963241484, 'nt_epochs': 189, 'tf_epochs': 153, 'n_units_l0': 45, 'n_units_l1': 45, 'n_units_l2': 45, 'n_units_l3': 45, 'n_units_l4': 45, 'n_units_l5': 45, 'n_units_l6': 45, 'n_units_l7': 45, 'n_units_l8': 45, 'adam_learning_rate': 0.019470029017674015}. Best is trial 12 with value: -0.08161519989238468.\u001b[0m\n"
     ]
    },
    {
     "name": "stdout",
     "output_type": "stream",
     "text": [
      "Hyperparameters:\n",
      "{\n",
      "  \"nt_lr\": 0.29051784826360716,\n",
      "  \"nt_ncorr\": 100,\n",
      "  \"nt_epochs\": 183,\n",
      "  \"tf_epochs\": 152,\n",
      "  \"log_frequency\": 10,\n",
      "  \"N_u\": 1000,\n",
      "  \"N_f\": 14522\n",
      "}\n",
      "\n",
      "TensorFlow version: 2.3.0\n",
      "Eager execution: True\n",
      "GPU-accerelated: True\n",
      "\n",
      "Training started\n",
      "================\n",
      "-- Starting Adam optimization --\n",
      "tf_epoch =      0  elapsed = 00:00 (+00.2)  loss = 6.9438e-01  \n",
      "tf_epoch =     10  elapsed = 00:01 (+01.5)  loss = 1.7335e+00  \n",
      "tf_epoch =     20  elapsed = 00:03 (+01.6)  loss = 4.4537e-02  \n",
      "tf_epoch =     30  elapsed = 00:05 (+01.6)  loss = 2.4044e-02  \n",
      "tf_epoch =     40  elapsed = 00:06 (+01.6)  loss = 7.3680e-02  \n",
      "tf_epoch =     50  elapsed = 00:08 (+01.6)  loss = 6.1416e-02  \n",
      "tf_epoch =     60  elapsed = 00:10 (+01.6)  loss = 7.0395e-02  \n",
      "tf_epoch =     70  elapsed = 00:11 (+01.6)  loss = 5.0059e-02  \n",
      "tf_epoch =     80  elapsed = 00:13 (+01.6)  loss = 2.5187e-02  \n",
      "tf_epoch =     90  elapsed = 00:15 (+01.6)  loss = 3.1627e-02  \n",
      "tf_epoch =    100  elapsed = 00:16 (+01.6)  loss = 2.1125e-02  \n",
      "tf_epoch =    110  elapsed = 00:18 (+01.6)  loss = 1.6480e-02  \n",
      "tf_epoch =    120  elapsed = 00:20 (+01.6)  loss = 1.4105e-02  \n",
      "tf_epoch =    130  elapsed = 00:21 (+01.6)  loss = 1.5211e-02  \n",
      "tf_epoch =    140  elapsed = 00:23 (+01.6)  loss = 1.3978e-02  \n",
      "tf_epoch =    150  elapsed = 00:25 (+01.6)  loss = 1.1867e-02  \n",
      "-- Starting LBFGS optimization --\n",
      "nt_epoch =     10  elapsed = 00:27 (+02.2)  loss = 6.7019e-03  \n",
      "nt_epoch =     20  elapsed = 00:29 (+01.8)  loss = 4.1206e-03  \n",
      "nt_epoch =     30  elapsed = 00:31 (+01.8)  loss = 3.0856e-03  \n",
      "nt_epoch =     40  elapsed = 00:33 (+01.9)  loss = 2.1594e-03  \n",
      "nt_epoch =     50  elapsed = 00:34 (+01.9)  loss = 1.7064e-03  \n",
      "nt_epoch =     60  elapsed = 00:37 (+02.0)  loss = 1.4704e-03  \n",
      "nt_epoch =     70  elapsed = 00:39 (+02.0)  loss = 1.2750e-03  \n",
      "nt_epoch =     80  elapsed = 00:41 (+02.1)  loss = 1.1631e-03  \n",
      "nt_epoch =     90  elapsed = 00:43 (+02.1)  loss = 1.0914e-03  \n",
      "nt_epoch =    100  elapsed = 00:45 (+02.2)  loss = 1.0558e-03  \n",
      "nt_epoch =    110  elapsed = 00:47 (+02.2)  loss = 1.0308e-03  \n",
      "nt_epoch =    120  elapsed = 00:49 (+02.1)  loss = 1.0135e-03  \n",
      "nt_epoch =    130  elapsed = 00:52 (+02.1)  loss = 1.0007e-03  \n",
      "nt_epoch =    140  elapsed = 00:54 (+02.0)  loss = 9.7546e-04  \n",
      "nt_epoch =    150  elapsed = 00:56 (+02.1)  loss = 9.6071e-04  \n",
      "nt_epoch =    160  elapsed = 00:58 (+02.0)  loss = 9.4012e-04  \n",
      "nt_epoch =    170  elapsed = 01:00 (+02.0)  loss = 9.1409e-04  \n",
      "nt_epoch =    180  elapsed = 01:02 (+02.1)  loss = 8.9896e-04  \n"
     ]
    },
    {
     "name": "stderr",
     "output_type": "stream",
     "text": [
      "\u001b[32m[I 2021-08-04 07:14:08,668]\u001b[0m Trial 13 finished with value: -0.08484673022747675 and parameters: {'nt_lr': 0.29051784826360716, 'nt_epochs': 183, 'tf_epochs': 152, 'n_units_l0': 45, 'n_units_l1': 45, 'n_units_l2': 45, 'n_units_l3': 45, 'n_units_l4': 45, 'n_units_l5': 45, 'n_units_l6': 45, 'n_units_l7': 45, 'n_units_l8': 45, 'adam_learning_rate': 0.019474998466284487}. Best is trial 12 with value: -0.08161519989238468.\u001b[0m\n"
     ]
    },
    {
     "name": "stdout",
     "output_type": "stream",
     "text": [
      "Hyperparameters:\n",
      "{\n",
      "  \"nt_lr\": 0.3467140600836183,\n",
      "  \"nt_ncorr\": 100,\n",
      "  \"nt_epochs\": 183,\n",
      "  \"tf_epochs\": 160,\n",
      "  \"log_frequency\": 10,\n",
      "  \"N_u\": 1000,\n",
      "  \"N_f\": 14522\n",
      "}\n",
      "\n",
      "TensorFlow version: 2.3.0\n",
      "Eager execution: True\n",
      "GPU-accerelated: True\n",
      "\n",
      "Training started\n",
      "================\n",
      "-- Starting Adam optimization --\n",
      "tf_epoch =      0  elapsed = 00:00 (+00.1)  loss = 6.9438e-01  \n",
      "tf_epoch =     10  elapsed = 00:01 (+01.5)  loss = 1.8860e+00  \n",
      "tf_epoch =     20  elapsed = 00:03 (+01.5)  loss = 4.4205e-02  \n",
      "tf_epoch =     30  elapsed = 00:04 (+01.5)  loss = 2.9268e-02  \n",
      "tf_epoch =     40  elapsed = 00:06 (+01.5)  loss = 6.4276e-02  \n",
      "tf_epoch =     50  elapsed = 00:08 (+01.6)  loss = 4.0488e-02  \n",
      "tf_epoch =     60  elapsed = 00:09 (+01.6)  loss = 4.9575e-02  \n",
      "tf_epoch =     70  elapsed = 00:11 (+01.6)  loss = 4.5403e-02  \n",
      "tf_epoch =     80  elapsed = 00:12 (+01.6)  loss = 3.7979e-02  \n",
      "tf_epoch =     90  elapsed = 00:14 (+01.5)  loss = 3.2509e-02  \n",
      "tf_epoch =    100  elapsed = 00:16 (+01.6)  loss = 2.3305e-02  \n",
      "tf_epoch =    110  elapsed = 00:17 (+01.6)  loss = 2.7396e-02  \n",
      "tf_epoch =    120  elapsed = 00:19 (+01.6)  loss = 2.7545e-02  \n",
      "tf_epoch =    130  elapsed = 00:21 (+01.6)  loss = 1.9049e-02  \n",
      "tf_epoch =    140  elapsed = 00:22 (+01.6)  loss = 2.2149e-02  \n",
      "tf_epoch =    150  elapsed = 00:24 (+01.6)  loss = 1.8221e-02  \n",
      "-- Starting LBFGS optimization --\n",
      "nt_epoch =     10  elapsed = 00:28 (+03.5)  loss = 8.5811e-03  \n",
      "nt_epoch =     20  elapsed = 00:29 (+01.8)  loss = 6.1943e-03  \n",
      "nt_epoch =     30  elapsed = 00:31 (+01.8)  loss = 3.8678e-03  \n",
      "nt_epoch =     40  elapsed = 00:33 (+01.8)  loss = 2.6427e-03  \n",
      "nt_epoch =     50  elapsed = 00:35 (+01.8)  loss = 2.0188e-03  \n",
      "nt_epoch =     60  elapsed = 00:37 (+01.9)  loss = 1.4712e-03  \n",
      "nt_epoch =     70  elapsed = 00:39 (+01.9)  loss = 1.2415e-03  \n",
      "nt_epoch =     80  elapsed = 00:41 (+02.0)  loss = 1.1108e-03  \n",
      "nt_epoch =     90  elapsed = 00:43 (+02.0)  loss = 1.0359e-03  \n",
      "nt_epoch =    100  elapsed = 00:45 (+02.0)  loss = 9.6553e-04  \n",
      "nt_epoch =    110  elapsed = 00:47 (+02.0)  loss = 9.3560e-04  \n",
      "nt_epoch =    120  elapsed = 00:49 (+02.0)  loss = 9.1503e-04  \n",
      "nt_epoch =    130  elapsed = 00:51 (+02.0)  loss = 8.9838e-04  \n",
      "nt_epoch =    140  elapsed = 00:53 (+02.0)  loss = 8.7544e-04  \n",
      "nt_epoch =    150  elapsed = 00:55 (+02.0)  loss = 8.5813e-04  \n",
      "nt_epoch =    160  elapsed = 00:57 (+02.2)  loss = 8.3221e-04  \n",
      "nt_epoch =    170  elapsed = 01:00 (+02.2)  loss = 8.0789e-04  \n",
      "nt_epoch =    180  elapsed = 01:02 (+02.2)  loss = 7.9089e-04  \n"
     ]
    },
    {
     "name": "stderr",
     "output_type": "stream",
     "text": [
      "\u001b[32m[I 2021-08-04 07:15:12,730]\u001b[0m Trial 14 finished with value: -0.08798972618922977 and parameters: {'nt_lr': 0.3467140600836183, 'nt_epochs': 183, 'tf_epochs': 160, 'n_units_l0': 45, 'n_units_l1': 45, 'n_units_l2': 45, 'n_units_l3': 45, 'n_units_l4': 45, 'n_units_l5': 45, 'n_units_l6': 45, 'n_units_l7': 45, 'n_units_l8': 45, 'adam_learning_rate': 0.019684505068875383}. Best is trial 12 with value: -0.08161519989238468.\u001b[0m\n"
     ]
    },
    {
     "name": "stdout",
     "output_type": "stream",
     "text": [
      "Number of finished trials:  15\n",
      "Best trial:\n",
      "  Value:  -0.08161519989238468\n",
      "  Params: \n",
      "    nt_lr: 0.27729275963241484\n",
      "    nt_epochs: 189\n",
      "    tf_epochs: 153\n",
      "    n_units_l0: 45\n",
      "    n_units_l1: 45\n",
      "    n_units_l2: 45\n",
      "    n_units_l3: 45\n",
      "    n_units_l4: 45\n",
      "    n_units_l5: 45\n",
      "    n_units_l6: 45\n",
      "    n_units_l7: 45\n",
      "    n_units_l8: 45\n",
      "    adam_learning_rate: 0.019470029017674015\n",
      "--- 1189.2080872058868 seconds ---\n"
     ]
    }
   ],
   "source": [
    "import time\n",
    "\n",
    "start_time = time.time()\n",
    "study = optuna.create_study(direction=\"maximize\", pruner=optuna.pruners.MedianPruner(\n",
    "        n_startup_trials=5, n_warmup_steps=10, interval_steps=2\n",
    "    ))\n",
    "study.optimize(objective, n_trials=15)\n",
    "\n",
    "print(\"Number of finished trials: \", len(study.trials))\n",
    "\n",
    "\n",
    "\n",
    "print(\"Best trial:\")\n",
    "trial = study.best_trial\n",
    "\n",
    "print(\"  Value: \", trial.value)\n",
    "\n",
    "print(\"  Params: \")\n",
    "for key, value in trial.params.items():\n",
    "    print(\"    {}: {}\".format(key, value))\n",
    "\n",
    "print(\"--- %s seconds ---\" % (time.time() - start_time))"
   ]
  },
  {
   "cell_type": "code",
   "execution_count": 19,
   "id": "880b0297",
   "metadata": {},
   "outputs": [
    {
     "data": {
      "application/vnd.plotly.v1+json": {
       "config": {
        "plotlyServerURL": "https://plot.ly"
       },
       "data": [
        {
         "type": "scatter",
         "xaxis": "x",
         "yaxis": "y"
        },
        {
         "colorbar": {
          "title": {
           "text": "Objective Value"
          }
         },
         "colorscale": [
          [
           0,
           "rgb(5,10,172)"
          ],
          [
           0.35,
           "rgb(40,60,190)"
          ],
          [
           0.5,
           "rgb(70,100,245)"
          ],
          [
           0.6,
           "rgb(90,120,245)"
          ],
          [
           0.7,
           "rgb(106,137,247)"
          ],
          [
           1,
           "rgb(220,220,220)"
          ]
         ],
         "connectgaps": true,
         "contours": {
          "coloring": "heatmap"
         },
         "hoverinfo": "none",
         "line": {
          "smoothing": 1.3
         },
         "reversescale": false,
         "showscale": true,
         "type": "contour",
         "x": [
          0.01896975076023499,
          0.01901463445890727,
          0.019093991835594685,
          0.01911830736496443,
          0.019130787334676085,
          0.019159392015737152,
          0.019247542503777002,
          0.019367919138539674,
          0.019470029017674015,
          0.019474998466284487,
          0.019576758438988703,
          0.019644885421452776,
          0.019684505068875383,
          0.01969264376230046,
          0.019824407230783776,
          0.01993494775478983,
          0.01998211517408715
         ],
         "xaxis": "x4",
         "y": [
          149.75,
          156,
          162,
          180,
          183,
          189,
          190,
          212,
          220,
          232,
          255,
          270,
          272,
          275,
          281,
          287.25
         ],
         "yaxis": "y4",
         "z": [
          [
           null,
           null,
           null,
           null,
           null,
           null,
           null,
           null,
           null,
           null,
           null,
           null,
           null,
           null,
           null,
           null,
           null
          ],
          [
           null,
           null,
           null,
           null,
           null,
           null,
           null,
           null,
           null,
           null,
           null,
           null,
           null,
           -0.09040695164743685,
           null,
           null,
           null
          ],
          [
           null,
           null,
           null,
           null,
           null,
           null,
           null,
           -0.08883963315641388,
           null,
           null,
           null,
           null,
           null,
           null,
           null,
           null,
           null
          ],
          [
           null,
           null,
           null,
           null,
           null,
           null,
           null,
           null,
           null,
           null,
           null,
           -0.08185131670369288,
           null,
           null,
           null,
           null,
           null
          ],
          [
           null,
           null,
           null,
           null,
           null,
           null,
           null,
           null,
           null,
           -0.08484673022747675,
           null,
           null,
           -0.08798972618922977,
           null,
           null,
           null,
           null
          ],
          [
           null,
           null,
           null,
           null,
           null,
           null,
           null,
           null,
           -0.08161519989238468,
           null,
           null,
           null,
           null,
           null,
           null,
           null,
           null
          ],
          [
           null,
           null,
           null,
           null,
           null,
           null,
           null,
           null,
           null,
           null,
           null,
           null,
           null,
           null,
           -0.08581225198718581,
           null,
           null
          ],
          [
           null,
           null,
           null,
           null,
           null,
           -0.13811232972554038,
           null,
           null,
           null,
           null,
           null,
           null,
           null,
           null,
           null,
           null,
           null
          ],
          [
           null,
           null,
           null,
           null,
           null,
           null,
           null,
           null,
           null,
           null,
           -0.09572687128163798,
           null,
           null,
           null,
           null,
           null,
           null
          ],
          [
           null,
           -0.1781538760076843,
           null,
           null,
           null,
           null,
           null,
           null,
           null,
           null,
           null,
           null,
           null,
           null,
           null,
           null,
           null
          ],
          [
           null,
           null,
           null,
           -0.08620716791370661,
           null,
           null,
           null,
           null,
           null,
           null,
           null,
           null,
           null,
           null,
           null,
           null,
           null
          ],
          [
           null,
           null,
           -0.08271048691230308,
           null,
           null,
           null,
           null,
           null,
           null,
           null,
           null,
           null,
           null,
           null,
           null,
           null,
           null
          ],
          [
           null,
           null,
           null,
           null,
           -0.0831904927299543,
           null,
           null,
           null,
           null,
           null,
           null,
           null,
           null,
           null,
           null,
           null,
           null
          ],
          [
           null,
           null,
           null,
           null,
           null,
           null,
           null,
           null,
           null,
           null,
           null,
           null,
           null,
           null,
           null,
           -0.08788580308783808,
           null
          ],
          [
           null,
           null,
           null,
           null,
           null,
           null,
           -0.08531307116769112,
           null,
           null,
           null,
           null,
           null,
           null,
           null,
           null,
           null,
           null
          ],
          [
           null,
           null,
           null,
           null,
           null,
           null,
           null,
           null,
           null,
           null,
           null,
           null,
           null,
           null,
           null,
           null,
           null
          ]
         ]
        },
        {
         "marker": {
          "color": "black",
          "line": {
           "color": "Grey",
           "width": 0.5
          }
         },
         "mode": "markers",
         "showlegend": false,
         "type": "scatter",
         "x": [
          0.019093991835594685,
          0.019159392015737152,
          0.01901463445890727,
          0.019130787334676085,
          0.01911830736496443,
          0.01993494775478983,
          0.019576758438988703,
          0.019247542503777002,
          0.019644885421452776,
          0.019367919138539674,
          0.01969264376230046,
          0.019824407230783776,
          0.019470029017674015,
          0.019474998466284487,
          0.019684505068875383
         ],
         "xaxis": "x4",
         "y": [
          270,
          212,
          232,
          272,
          255,
          275,
          220,
          281,
          180,
          162,
          156,
          190,
          189,
          183,
          183
         ],
         "yaxis": "y4"
        },
        {
         "colorbar": {
          "title": {
           "text": "Objective Value"
          }
         },
         "colorscale": [
          [
           0,
           "rgb(5,10,172)"
          ],
          [
           0.35,
           "rgb(40,60,190)"
          ],
          [
           0.5,
           "rgb(70,100,245)"
          ],
          [
           0.6,
           "rgb(90,120,245)"
          ],
          [
           0.7,
           "rgb(106,137,247)"
          ],
          [
           1,
           "rgb(220,220,220)"
          ]
         ],
         "connectgaps": true,
         "contours": {
          "coloring": "heatmap"
         },
         "hoverinfo": "none",
         "line": {
          "smoothing": 1.3
         },
         "reversescale": false,
         "showscale": false,
         "type": "contour",
         "x": [
          0.01896975076023499,
          0.01901463445890727,
          0.019093991835594685,
          0.01911830736496443,
          0.019130787334676085,
          0.019159392015737152,
          0.019247542503777002,
          0.019367919138539674,
          0.019470029017674015,
          0.019474998466284487,
          0.019576758438988703,
          0.019644885421452776,
          0.019684505068875383,
          0.01969264376230046,
          0.019824407230783776,
          0.01993494775478983,
          0.01998211517408715
         ],
         "xaxis": "x7",
         "y": [
          0.25284637806803734,
          0.2597518247627338,
          0.2646534304852239,
          0.27594880043727316,
          0.27729275963241484,
          0.29051784826360716,
          0.3065178302285996,
          0.3083755998718507,
          0.3117916441463818,
          0.31187314210110895,
          0.3467140600836183,
          0.35106504509925873,
          0.3538082098420197,
          0.3777033572060364,
          0.38999177110797456,
          0.3978607586566628,
          0.40476620535135927
         ],
         "yaxis": "y7",
         "z": [
          [
           null,
           null,
           null,
           null,
           null,
           null,
           null,
           null,
           null,
           null,
           null,
           null,
           null,
           null,
           null,
           null,
           null
          ],
          [
           null,
           null,
           null,
           -0.08620716791370661,
           null,
           null,
           null,
           null,
           null,
           null,
           null,
           null,
           null,
           null,
           null,
           null,
           null
          ],
          [
           null,
           null,
           -0.08271048691230308,
           null,
           null,
           null,
           null,
           null,
           null,
           null,
           null,
           null,
           null,
           null,
           null,
           null,
           null
          ],
          [
           null,
           null,
           null,
           null,
           -0.0831904927299543,
           null,
           null,
           null,
           null,
           null,
           null,
           null,
           null,
           null,
           null,
           null,
           null
          ],
          [
           null,
           null,
           null,
           null,
           null,
           null,
           null,
           null,
           -0.08161519989238468,
           null,
           null,
           null,
           null,
           null,
           null,
           null,
           null
          ],
          [
           null,
           null,
           null,
           null,
           null,
           null,
           null,
           null,
           null,
           -0.08484673022747675,
           null,
           null,
           null,
           null,
           null,
           null,
           null
          ],
          [
           null,
           null,
           null,
           null,
           null,
           null,
           -0.08531307116769112,
           null,
           null,
           null,
           null,
           null,
           null,
           null,
           null,
           null,
           null
          ],
          [
           null,
           null,
           null,
           null,
           null,
           -0.13811232972554038,
           null,
           null,
           null,
           null,
           null,
           null,
           null,
           null,
           null,
           null,
           null
          ],
          [
           null,
           null,
           null,
           null,
           null,
           null,
           null,
           -0.08883963315641388,
           null,
           null,
           null,
           null,
           null,
           null,
           null,
           null,
           null
          ],
          [
           null,
           -0.1781538760076843,
           null,
           null,
           null,
           null,
           null,
           null,
           null,
           null,
           null,
           null,
           null,
           null,
           null,
           null,
           null
          ],
          [
           null,
           null,
           null,
           null,
           null,
           null,
           null,
           null,
           null,
           null,
           null,
           null,
           -0.08798972618922977,
           null,
           null,
           null,
           null
          ],
          [
           null,
           null,
           null,
           null,
           null,
           null,
           null,
           null,
           null,
           null,
           null,
           null,
           null,
           null,
           null,
           -0.08788580308783808,
           null
          ],
          [
           null,
           null,
           null,
           null,
           null,
           null,
           null,
           null,
           null,
           null,
           null,
           null,
           null,
           null,
           -0.08581225198718581,
           null,
           null
          ],
          [
           null,
           null,
           null,
           null,
           null,
           null,
           null,
           null,
           null,
           null,
           -0.09572687128163798,
           null,
           null,
           null,
           null,
           null,
           null
          ],
          [
           null,
           null,
           null,
           null,
           null,
           null,
           null,
           null,
           null,
           null,
           null,
           -0.08185131670369288,
           null,
           null,
           null,
           null,
           null
          ],
          [
           null,
           null,
           null,
           null,
           null,
           null,
           null,
           null,
           null,
           null,
           null,
           null,
           null,
           -0.09040695164743685,
           null,
           null,
           null
          ],
          [
           null,
           null,
           null,
           null,
           null,
           null,
           null,
           null,
           null,
           null,
           null,
           null,
           null,
           null,
           null,
           null,
           null
          ]
         ]
        },
        {
         "marker": {
          "color": "black",
          "line": {
           "color": "Grey",
           "width": 0.5
          }
         },
         "mode": "markers",
         "showlegend": false,
         "type": "scatter",
         "x": [
          0.019093991835594685,
          0.019159392015737152,
          0.01901463445890727,
          0.019130787334676085,
          0.01911830736496443,
          0.01993494775478983,
          0.019576758438988703,
          0.019247542503777002,
          0.019644885421452776,
          0.019367919138539674,
          0.01969264376230046,
          0.019824407230783776,
          0.019470029017674015,
          0.019474998466284487,
          0.019684505068875383
         ],
         "xaxis": "x7",
         "y": [
          0.2646534304852239,
          0.3083755998718507,
          0.31187314210110895,
          0.27594880043727316,
          0.2597518247627338,
          0.35106504509925873,
          0.3777033572060364,
          0.3065178302285996,
          0.38999177110797456,
          0.3117916441463818,
          0.3978607586566628,
          0.3538082098420197,
          0.27729275963241484,
          0.29051784826360716,
          0.3467140600836183
         ],
         "yaxis": "y7"
        },
        {
         "colorbar": {
          "title": {
           "text": "Objective Value"
          }
         },
         "colorscale": [
          [
           0,
           "rgb(5,10,172)"
          ],
          [
           0.35,
           "rgb(40,60,190)"
          ],
          [
           0.5,
           "rgb(70,100,245)"
          ],
          [
           0.6,
           "rgb(90,120,245)"
          ],
          [
           0.7,
           "rgb(106,137,247)"
          ],
          [
           1,
           "rgb(220,220,220)"
          ]
         ],
         "connectgaps": true,
         "contours": {
          "coloring": "heatmap"
         },
         "hoverinfo": "none",
         "line": {
          "smoothing": 1.3
         },
         "reversescale": false,
         "showscale": false,
         "type": "contour",
         "x": [
          149.75,
          156,
          162,
          180,
          183,
          189,
          190,
          212,
          220,
          232,
          255,
          270,
          272,
          275,
          281,
          287.25
         ],
         "xaxis": "x2",
         "y": [
          0.01896975076023499,
          0.01901463445890727,
          0.019093991835594685,
          0.01911830736496443,
          0.019130787334676085,
          0.019159392015737152,
          0.019247542503777002,
          0.019367919138539674,
          0.019470029017674015,
          0.019474998466284487,
          0.019576758438988703,
          0.019644885421452776,
          0.019684505068875383,
          0.01969264376230046,
          0.019824407230783776,
          0.01993494775478983,
          0.01998211517408715
         ],
         "yaxis": "y2",
         "z": [
          [
           null,
           null,
           null,
           null,
           null,
           null,
           null,
           null,
           null,
           null,
           null,
           null,
           null,
           null,
           null,
           null
          ],
          [
           null,
           null,
           null,
           null,
           null,
           null,
           null,
           null,
           null,
           -0.1781538760076843,
           null,
           null,
           null,
           null,
           null,
           null
          ],
          [
           null,
           null,
           null,
           null,
           null,
           null,
           null,
           null,
           null,
           null,
           null,
           -0.08271048691230308,
           null,
           null,
           null,
           null
          ],
          [
           null,
           null,
           null,
           null,
           null,
           null,
           null,
           null,
           null,
           null,
           -0.08620716791370661,
           null,
           null,
           null,
           null,
           null
          ],
          [
           null,
           null,
           null,
           null,
           null,
           null,
           null,
           null,
           null,
           null,
           null,
           null,
           -0.0831904927299543,
           null,
           null,
           null
          ],
          [
           null,
           null,
           null,
           null,
           null,
           null,
           null,
           -0.13811232972554038,
           null,
           null,
           null,
           null,
           null,
           null,
           null,
           null
          ],
          [
           null,
           null,
           null,
           null,
           null,
           null,
           null,
           null,
           null,
           null,
           null,
           null,
           null,
           null,
           -0.08531307116769112,
           null
          ],
          [
           null,
           null,
           -0.08883963315641388,
           null,
           null,
           null,
           null,
           null,
           null,
           null,
           null,
           null,
           null,
           null,
           null,
           null
          ],
          [
           null,
           null,
           null,
           null,
           null,
           -0.08161519989238468,
           null,
           null,
           null,
           null,
           null,
           null,
           null,
           null,
           null,
           null
          ],
          [
           null,
           null,
           null,
           null,
           -0.08484673022747675,
           null,
           null,
           null,
           null,
           null,
           null,
           null,
           null,
           null,
           null,
           null
          ],
          [
           null,
           null,
           null,
           null,
           null,
           null,
           null,
           null,
           -0.09572687128163798,
           null,
           null,
           null,
           null,
           null,
           null,
           null
          ],
          [
           null,
           null,
           null,
           -0.08185131670369288,
           null,
           null,
           null,
           null,
           null,
           null,
           null,
           null,
           null,
           null,
           null,
           null
          ],
          [
           null,
           null,
           null,
           null,
           -0.08798972618922977,
           null,
           null,
           null,
           null,
           null,
           null,
           null,
           null,
           null,
           null,
           null
          ],
          [
           null,
           -0.09040695164743685,
           null,
           null,
           null,
           null,
           null,
           null,
           null,
           null,
           null,
           null,
           null,
           null,
           null,
           null
          ],
          [
           null,
           null,
           null,
           null,
           null,
           null,
           -0.08581225198718581,
           null,
           null,
           null,
           null,
           null,
           null,
           null,
           null,
           null
          ],
          [
           null,
           null,
           null,
           null,
           null,
           null,
           null,
           null,
           null,
           null,
           null,
           null,
           null,
           -0.08788580308783808,
           null,
           null
          ],
          [
           null,
           null,
           null,
           null,
           null,
           null,
           null,
           null,
           null,
           null,
           null,
           null,
           null,
           null,
           null,
           null
          ]
         ]
        },
        {
         "marker": {
          "color": "black",
          "line": {
           "color": "Grey",
           "width": 0.5
          }
         },
         "mode": "markers",
         "showlegend": false,
         "type": "scatter",
         "x": [
          270,
          212,
          232,
          272,
          255,
          275,
          220,
          281,
          180,
          162,
          156,
          190,
          189,
          183,
          183
         ],
         "xaxis": "x2",
         "y": [
          0.019093991835594685,
          0.019159392015737152,
          0.01901463445890727,
          0.019130787334676085,
          0.01911830736496443,
          0.01993494775478983,
          0.019576758438988703,
          0.019247542503777002,
          0.019644885421452776,
          0.019367919138539674,
          0.01969264376230046,
          0.019824407230783776,
          0.019470029017674015,
          0.019474998466284487,
          0.019684505068875383
         ],
         "yaxis": "y2"
        },
        {
         "type": "scatter",
         "xaxis": "x5",
         "yaxis": "y5"
        },
        {
         "colorbar": {
          "title": {
           "text": "Objective Value"
          }
         },
         "colorscale": [
          [
           0,
           "rgb(5,10,172)"
          ],
          [
           0.35,
           "rgb(40,60,190)"
          ],
          [
           0.5,
           "rgb(70,100,245)"
          ],
          [
           0.6,
           "rgb(90,120,245)"
          ],
          [
           0.7,
           "rgb(106,137,247)"
          ],
          [
           1,
           "rgb(220,220,220)"
          ]
         ],
         "connectgaps": true,
         "contours": {
          "coloring": "heatmap"
         },
         "hoverinfo": "none",
         "line": {
          "smoothing": 1.3
         },
         "reversescale": false,
         "showscale": false,
         "type": "contour",
         "x": [
          149.75,
          156,
          162,
          180,
          183,
          189,
          190,
          212,
          220,
          232,
          255,
          270,
          272,
          275,
          281,
          287.25
         ],
         "xaxis": "x8",
         "y": [
          0.25284637806803734,
          0.2597518247627338,
          0.2646534304852239,
          0.27594880043727316,
          0.27729275963241484,
          0.29051784826360716,
          0.3065178302285996,
          0.3083755998718507,
          0.3117916441463818,
          0.31187314210110895,
          0.3467140600836183,
          0.35106504509925873,
          0.3538082098420197,
          0.3777033572060364,
          0.38999177110797456,
          0.3978607586566628,
          0.40476620535135927
         ],
         "yaxis": "y8",
         "z": [
          [
           null,
           null,
           null,
           null,
           null,
           null,
           null,
           null,
           null,
           null,
           null,
           null,
           null,
           null,
           null,
           null
          ],
          [
           null,
           null,
           null,
           null,
           null,
           null,
           null,
           null,
           null,
           null,
           -0.08620716791370661,
           null,
           null,
           null,
           null,
           null
          ],
          [
           null,
           null,
           null,
           null,
           null,
           null,
           null,
           null,
           null,
           null,
           null,
           -0.08271048691230308,
           null,
           null,
           null,
           null
          ],
          [
           null,
           null,
           null,
           null,
           null,
           null,
           null,
           null,
           null,
           null,
           null,
           null,
           -0.0831904927299543,
           null,
           null,
           null
          ],
          [
           null,
           null,
           null,
           null,
           null,
           -0.08161519989238468,
           null,
           null,
           null,
           null,
           null,
           null,
           null,
           null,
           null,
           null
          ],
          [
           null,
           null,
           null,
           null,
           -0.08484673022747675,
           null,
           null,
           null,
           null,
           null,
           null,
           null,
           null,
           null,
           null,
           null
          ],
          [
           null,
           null,
           null,
           null,
           null,
           null,
           null,
           null,
           null,
           null,
           null,
           null,
           null,
           null,
           -0.08531307116769112,
           null
          ],
          [
           null,
           null,
           null,
           null,
           null,
           null,
           null,
           -0.13811232972554038,
           null,
           null,
           null,
           null,
           null,
           null,
           null,
           null
          ],
          [
           null,
           null,
           -0.08883963315641388,
           null,
           null,
           null,
           null,
           null,
           null,
           null,
           null,
           null,
           null,
           null,
           null,
           null
          ],
          [
           null,
           null,
           null,
           null,
           null,
           null,
           null,
           null,
           null,
           -0.1781538760076843,
           null,
           null,
           null,
           null,
           null,
           null
          ],
          [
           null,
           null,
           null,
           null,
           -0.08798972618922977,
           null,
           null,
           null,
           null,
           null,
           null,
           null,
           null,
           null,
           null,
           null
          ],
          [
           null,
           null,
           null,
           null,
           null,
           null,
           null,
           null,
           null,
           null,
           null,
           null,
           null,
           -0.08788580308783808,
           null,
           null
          ],
          [
           null,
           null,
           null,
           null,
           null,
           null,
           -0.08581225198718581,
           null,
           null,
           null,
           null,
           null,
           null,
           null,
           null,
           null
          ],
          [
           null,
           null,
           null,
           null,
           null,
           null,
           null,
           null,
           -0.09572687128163798,
           null,
           null,
           null,
           null,
           null,
           null,
           null
          ],
          [
           null,
           null,
           null,
           -0.08185131670369288,
           null,
           null,
           null,
           null,
           null,
           null,
           null,
           null,
           null,
           null,
           null,
           null
          ],
          [
           null,
           -0.09040695164743685,
           null,
           null,
           null,
           null,
           null,
           null,
           null,
           null,
           null,
           null,
           null,
           null,
           null,
           null
          ],
          [
           null,
           null,
           null,
           null,
           null,
           null,
           null,
           null,
           null,
           null,
           null,
           null,
           null,
           null,
           null,
           null
          ]
         ]
        },
        {
         "marker": {
          "color": "black",
          "line": {
           "color": "Grey",
           "width": 0.5
          }
         },
         "mode": "markers",
         "showlegend": false,
         "type": "scatter",
         "x": [
          270,
          212,
          232,
          272,
          255,
          275,
          220,
          281,
          180,
          162,
          156,
          190,
          189,
          183,
          183
         ],
         "xaxis": "x8",
         "y": [
          0.2646534304852239,
          0.3083755998718507,
          0.31187314210110895,
          0.27594880043727316,
          0.2597518247627338,
          0.35106504509925873,
          0.3777033572060364,
          0.3065178302285996,
          0.38999177110797456,
          0.3117916441463818,
          0.3978607586566628,
          0.3538082098420197,
          0.27729275963241484,
          0.29051784826360716,
          0.3467140600836183
         ],
         "yaxis": "y8"
        },
        {
         "colorbar": {
          "title": {
           "text": "Objective Value"
          }
         },
         "colorscale": [
          [
           0,
           "rgb(5,10,172)"
          ],
          [
           0.35,
           "rgb(40,60,190)"
          ],
          [
           0.5,
           "rgb(70,100,245)"
          ],
          [
           0.6,
           "rgb(90,120,245)"
          ],
          [
           0.7,
           "rgb(106,137,247)"
          ],
          [
           1,
           "rgb(220,220,220)"
          ]
         ],
         "connectgaps": true,
         "contours": {
          "coloring": "heatmap"
         },
         "hoverinfo": "none",
         "line": {
          "smoothing": 1.3
         },
         "reversescale": false,
         "showscale": false,
         "type": "contour",
         "x": [
          0.25284637806803734,
          0.2597518247627338,
          0.2646534304852239,
          0.27594880043727316,
          0.27729275963241484,
          0.29051784826360716,
          0.3065178302285996,
          0.3083755998718507,
          0.3117916441463818,
          0.31187314210110895,
          0.3467140600836183,
          0.35106504509925873,
          0.3538082098420197,
          0.3777033572060364,
          0.38999177110797456,
          0.3978607586566628,
          0.40476620535135927
         ],
         "xaxis": "x3",
         "y": [
          0.01896975076023499,
          0.01901463445890727,
          0.019093991835594685,
          0.01911830736496443,
          0.019130787334676085,
          0.019159392015737152,
          0.019247542503777002,
          0.019367919138539674,
          0.019470029017674015,
          0.019474998466284487,
          0.019576758438988703,
          0.019644885421452776,
          0.019684505068875383,
          0.01969264376230046,
          0.019824407230783776,
          0.01993494775478983,
          0.01998211517408715
         ],
         "yaxis": "y3",
         "z": [
          [
           null,
           null,
           null,
           null,
           null,
           null,
           null,
           null,
           null,
           null,
           null,
           null,
           null,
           null,
           null,
           null,
           null
          ],
          [
           null,
           null,
           null,
           null,
           null,
           null,
           null,
           null,
           null,
           -0.1781538760076843,
           null,
           null,
           null,
           null,
           null,
           null,
           null
          ],
          [
           null,
           null,
           -0.08271048691230308,
           null,
           null,
           null,
           null,
           null,
           null,
           null,
           null,
           null,
           null,
           null,
           null,
           null,
           null
          ],
          [
           null,
           -0.08620716791370661,
           null,
           null,
           null,
           null,
           null,
           null,
           null,
           null,
           null,
           null,
           null,
           null,
           null,
           null,
           null
          ],
          [
           null,
           null,
           null,
           -0.0831904927299543,
           null,
           null,
           null,
           null,
           null,
           null,
           null,
           null,
           null,
           null,
           null,
           null,
           null
          ],
          [
           null,
           null,
           null,
           null,
           null,
           null,
           null,
           -0.13811232972554038,
           null,
           null,
           null,
           null,
           null,
           null,
           null,
           null,
           null
          ],
          [
           null,
           null,
           null,
           null,
           null,
           null,
           -0.08531307116769112,
           null,
           null,
           null,
           null,
           null,
           null,
           null,
           null,
           null,
           null
          ],
          [
           null,
           null,
           null,
           null,
           null,
           null,
           null,
           null,
           -0.08883963315641388,
           null,
           null,
           null,
           null,
           null,
           null,
           null,
           null
          ],
          [
           null,
           null,
           null,
           null,
           -0.08161519989238468,
           null,
           null,
           null,
           null,
           null,
           null,
           null,
           null,
           null,
           null,
           null,
           null
          ],
          [
           null,
           null,
           null,
           null,
           null,
           -0.08484673022747675,
           null,
           null,
           null,
           null,
           null,
           null,
           null,
           null,
           null,
           null,
           null
          ],
          [
           null,
           null,
           null,
           null,
           null,
           null,
           null,
           null,
           null,
           null,
           null,
           null,
           null,
           -0.09572687128163798,
           null,
           null,
           null
          ],
          [
           null,
           null,
           null,
           null,
           null,
           null,
           null,
           null,
           null,
           null,
           null,
           null,
           null,
           null,
           -0.08185131670369288,
           null,
           null
          ],
          [
           null,
           null,
           null,
           null,
           null,
           null,
           null,
           null,
           null,
           null,
           -0.08798972618922977,
           null,
           null,
           null,
           null,
           null,
           null
          ],
          [
           null,
           null,
           null,
           null,
           null,
           null,
           null,
           null,
           null,
           null,
           null,
           null,
           null,
           null,
           null,
           -0.09040695164743685,
           null
          ],
          [
           null,
           null,
           null,
           null,
           null,
           null,
           null,
           null,
           null,
           null,
           null,
           null,
           -0.08581225198718581,
           null,
           null,
           null,
           null
          ],
          [
           null,
           null,
           null,
           null,
           null,
           null,
           null,
           null,
           null,
           null,
           null,
           -0.08788580308783808,
           null,
           null,
           null,
           null,
           null
          ],
          [
           null,
           null,
           null,
           null,
           null,
           null,
           null,
           null,
           null,
           null,
           null,
           null,
           null,
           null,
           null,
           null,
           null
          ]
         ]
        },
        {
         "marker": {
          "color": "black",
          "line": {
           "color": "Grey",
           "width": 0.5
          }
         },
         "mode": "markers",
         "showlegend": false,
         "type": "scatter",
         "x": [
          0.2646534304852239,
          0.3083755998718507,
          0.31187314210110895,
          0.27594880043727316,
          0.2597518247627338,
          0.35106504509925873,
          0.3777033572060364,
          0.3065178302285996,
          0.38999177110797456,
          0.3117916441463818,
          0.3978607586566628,
          0.3538082098420197,
          0.27729275963241484,
          0.29051784826360716,
          0.3467140600836183
         ],
         "xaxis": "x3",
         "y": [
          0.019093991835594685,
          0.019159392015737152,
          0.01901463445890727,
          0.019130787334676085,
          0.01911830736496443,
          0.01993494775478983,
          0.019576758438988703,
          0.019247542503777002,
          0.019644885421452776,
          0.019367919138539674,
          0.01969264376230046,
          0.019824407230783776,
          0.019470029017674015,
          0.019474998466284487,
          0.019684505068875383
         ],
         "yaxis": "y3"
        },
        {
         "colorbar": {
          "title": {
           "text": "Objective Value"
          }
         },
         "colorscale": [
          [
           0,
           "rgb(5,10,172)"
          ],
          [
           0.35,
           "rgb(40,60,190)"
          ],
          [
           0.5,
           "rgb(70,100,245)"
          ],
          [
           0.6,
           "rgb(90,120,245)"
          ],
          [
           0.7,
           "rgb(106,137,247)"
          ],
          [
           1,
           "rgb(220,220,220)"
          ]
         ],
         "connectgaps": true,
         "contours": {
          "coloring": "heatmap"
         },
         "hoverinfo": "none",
         "line": {
          "smoothing": 1.3
         },
         "reversescale": false,
         "showscale": false,
         "type": "contour",
         "x": [
          0.25284637806803734,
          0.2597518247627338,
          0.2646534304852239,
          0.27594880043727316,
          0.27729275963241484,
          0.29051784826360716,
          0.3065178302285996,
          0.3083755998718507,
          0.3117916441463818,
          0.31187314210110895,
          0.3467140600836183,
          0.35106504509925873,
          0.3538082098420197,
          0.3777033572060364,
          0.38999177110797456,
          0.3978607586566628,
          0.40476620535135927
         ],
         "xaxis": "x6",
         "y": [
          149.75,
          156,
          162,
          180,
          183,
          189,
          190,
          212,
          220,
          232,
          255,
          270,
          272,
          275,
          281,
          287.25
         ],
         "yaxis": "y6",
         "z": [
          [
           null,
           null,
           null,
           null,
           null,
           null,
           null,
           null,
           null,
           null,
           null,
           null,
           null,
           null,
           null,
           null,
           null
          ],
          [
           null,
           null,
           null,
           null,
           null,
           null,
           null,
           null,
           null,
           null,
           null,
           null,
           null,
           null,
           null,
           -0.09040695164743685,
           null
          ],
          [
           null,
           null,
           null,
           null,
           null,
           null,
           null,
           null,
           -0.08883963315641388,
           null,
           null,
           null,
           null,
           null,
           null,
           null,
           null
          ],
          [
           null,
           null,
           null,
           null,
           null,
           null,
           null,
           null,
           null,
           null,
           null,
           null,
           null,
           null,
           -0.08185131670369288,
           null,
           null
          ],
          [
           null,
           null,
           null,
           null,
           null,
           -0.08484673022747675,
           null,
           null,
           null,
           null,
           -0.08798972618922977,
           null,
           null,
           null,
           null,
           null,
           null
          ],
          [
           null,
           null,
           null,
           null,
           -0.08161519989238468,
           null,
           null,
           null,
           null,
           null,
           null,
           null,
           null,
           null,
           null,
           null,
           null
          ],
          [
           null,
           null,
           null,
           null,
           null,
           null,
           null,
           null,
           null,
           null,
           null,
           null,
           -0.08581225198718581,
           null,
           null,
           null,
           null
          ],
          [
           null,
           null,
           null,
           null,
           null,
           null,
           null,
           -0.13811232972554038,
           null,
           null,
           null,
           null,
           null,
           null,
           null,
           null,
           null
          ],
          [
           null,
           null,
           null,
           null,
           null,
           null,
           null,
           null,
           null,
           null,
           null,
           null,
           null,
           -0.09572687128163798,
           null,
           null,
           null
          ],
          [
           null,
           null,
           null,
           null,
           null,
           null,
           null,
           null,
           null,
           -0.1781538760076843,
           null,
           null,
           null,
           null,
           null,
           null,
           null
          ],
          [
           null,
           -0.08620716791370661,
           null,
           null,
           null,
           null,
           null,
           null,
           null,
           null,
           null,
           null,
           null,
           null,
           null,
           null,
           null
          ],
          [
           null,
           null,
           -0.08271048691230308,
           null,
           null,
           null,
           null,
           null,
           null,
           null,
           null,
           null,
           null,
           null,
           null,
           null,
           null
          ],
          [
           null,
           null,
           null,
           -0.0831904927299543,
           null,
           null,
           null,
           null,
           null,
           null,
           null,
           null,
           null,
           null,
           null,
           null,
           null
          ],
          [
           null,
           null,
           null,
           null,
           null,
           null,
           null,
           null,
           null,
           null,
           null,
           -0.08788580308783808,
           null,
           null,
           null,
           null,
           null
          ],
          [
           null,
           null,
           null,
           null,
           null,
           null,
           -0.08531307116769112,
           null,
           null,
           null,
           null,
           null,
           null,
           null,
           null,
           null,
           null
          ],
          [
           null,
           null,
           null,
           null,
           null,
           null,
           null,
           null,
           null,
           null,
           null,
           null,
           null,
           null,
           null,
           null,
           null
          ]
         ]
        },
        {
         "marker": {
          "color": "black",
          "line": {
           "color": "Grey",
           "width": 0.5
          }
         },
         "mode": "markers",
         "showlegend": false,
         "type": "scatter",
         "x": [
          0.2646534304852239,
          0.3083755998718507,
          0.31187314210110895,
          0.27594880043727316,
          0.2597518247627338,
          0.35106504509925873,
          0.3777033572060364,
          0.3065178302285996,
          0.38999177110797456,
          0.3117916441463818,
          0.3978607586566628,
          0.3538082098420197,
          0.27729275963241484,
          0.29051784826360716,
          0.3467140600836183
         ],
         "xaxis": "x6",
         "y": [
          270,
          212,
          232,
          272,
          255,
          275,
          220,
          281,
          180,
          162,
          156,
          190,
          189,
          183,
          183
         ],
         "yaxis": "y6"
        },
        {
         "type": "scatter",
         "xaxis": "x9",
         "yaxis": "y9"
        }
       ],
       "layout": {
        "template": {
         "data": {
          "bar": [
           {
            "error_x": {
             "color": "#2a3f5f"
            },
            "error_y": {
             "color": "#2a3f5f"
            },
            "marker": {
             "line": {
              "color": "#E5ECF6",
              "width": 0.5
             },
             "pattern": {
              "fillmode": "overlay",
              "size": 10,
              "solidity": 0.2
             }
            },
            "type": "bar"
           }
          ],
          "barpolar": [
           {
            "marker": {
             "line": {
              "color": "#E5ECF6",
              "width": 0.5
             },
             "pattern": {
              "fillmode": "overlay",
              "size": 10,
              "solidity": 0.2
             }
            },
            "type": "barpolar"
           }
          ],
          "carpet": [
           {
            "aaxis": {
             "endlinecolor": "#2a3f5f",
             "gridcolor": "white",
             "linecolor": "white",
             "minorgridcolor": "white",
             "startlinecolor": "#2a3f5f"
            },
            "baxis": {
             "endlinecolor": "#2a3f5f",
             "gridcolor": "white",
             "linecolor": "white",
             "minorgridcolor": "white",
             "startlinecolor": "#2a3f5f"
            },
            "type": "carpet"
           }
          ],
          "choropleth": [
           {
            "colorbar": {
             "outlinewidth": 0,
             "ticks": ""
            },
            "type": "choropleth"
           }
          ],
          "contour": [
           {
            "colorbar": {
             "outlinewidth": 0,
             "ticks": ""
            },
            "colorscale": [
             [
              0,
              "#0d0887"
             ],
             [
              0.1111111111111111,
              "#46039f"
             ],
             [
              0.2222222222222222,
              "#7201a8"
             ],
             [
              0.3333333333333333,
              "#9c179e"
             ],
             [
              0.4444444444444444,
              "#bd3786"
             ],
             [
              0.5555555555555556,
              "#d8576b"
             ],
             [
              0.6666666666666666,
              "#ed7953"
             ],
             [
              0.7777777777777778,
              "#fb9f3a"
             ],
             [
              0.8888888888888888,
              "#fdca26"
             ],
             [
              1,
              "#f0f921"
             ]
            ],
            "type": "contour"
           }
          ],
          "contourcarpet": [
           {
            "colorbar": {
             "outlinewidth": 0,
             "ticks": ""
            },
            "type": "contourcarpet"
           }
          ],
          "heatmap": [
           {
            "colorbar": {
             "outlinewidth": 0,
             "ticks": ""
            },
            "colorscale": [
             [
              0,
              "#0d0887"
             ],
             [
              0.1111111111111111,
              "#46039f"
             ],
             [
              0.2222222222222222,
              "#7201a8"
             ],
             [
              0.3333333333333333,
              "#9c179e"
             ],
             [
              0.4444444444444444,
              "#bd3786"
             ],
             [
              0.5555555555555556,
              "#d8576b"
             ],
             [
              0.6666666666666666,
              "#ed7953"
             ],
             [
              0.7777777777777778,
              "#fb9f3a"
             ],
             [
              0.8888888888888888,
              "#fdca26"
             ],
             [
              1,
              "#f0f921"
             ]
            ],
            "type": "heatmap"
           }
          ],
          "heatmapgl": [
           {
            "colorbar": {
             "outlinewidth": 0,
             "ticks": ""
            },
            "colorscale": [
             [
              0,
              "#0d0887"
             ],
             [
              0.1111111111111111,
              "#46039f"
             ],
             [
              0.2222222222222222,
              "#7201a8"
             ],
             [
              0.3333333333333333,
              "#9c179e"
             ],
             [
              0.4444444444444444,
              "#bd3786"
             ],
             [
              0.5555555555555556,
              "#d8576b"
             ],
             [
              0.6666666666666666,
              "#ed7953"
             ],
             [
              0.7777777777777778,
              "#fb9f3a"
             ],
             [
              0.8888888888888888,
              "#fdca26"
             ],
             [
              1,
              "#f0f921"
             ]
            ],
            "type": "heatmapgl"
           }
          ],
          "histogram": [
           {
            "marker": {
             "pattern": {
              "fillmode": "overlay",
              "size": 10,
              "solidity": 0.2
             }
            },
            "type": "histogram"
           }
          ],
          "histogram2d": [
           {
            "colorbar": {
             "outlinewidth": 0,
             "ticks": ""
            },
            "colorscale": [
             [
              0,
              "#0d0887"
             ],
             [
              0.1111111111111111,
              "#46039f"
             ],
             [
              0.2222222222222222,
              "#7201a8"
             ],
             [
              0.3333333333333333,
              "#9c179e"
             ],
             [
              0.4444444444444444,
              "#bd3786"
             ],
             [
              0.5555555555555556,
              "#d8576b"
             ],
             [
              0.6666666666666666,
              "#ed7953"
             ],
             [
              0.7777777777777778,
              "#fb9f3a"
             ],
             [
              0.8888888888888888,
              "#fdca26"
             ],
             [
              1,
              "#f0f921"
             ]
            ],
            "type": "histogram2d"
           }
          ],
          "histogram2dcontour": [
           {
            "colorbar": {
             "outlinewidth": 0,
             "ticks": ""
            },
            "colorscale": [
             [
              0,
              "#0d0887"
             ],
             [
              0.1111111111111111,
              "#46039f"
             ],
             [
              0.2222222222222222,
              "#7201a8"
             ],
             [
              0.3333333333333333,
              "#9c179e"
             ],
             [
              0.4444444444444444,
              "#bd3786"
             ],
             [
              0.5555555555555556,
              "#d8576b"
             ],
             [
              0.6666666666666666,
              "#ed7953"
             ],
             [
              0.7777777777777778,
              "#fb9f3a"
             ],
             [
              0.8888888888888888,
              "#fdca26"
             ],
             [
              1,
              "#f0f921"
             ]
            ],
            "type": "histogram2dcontour"
           }
          ],
          "mesh3d": [
           {
            "colorbar": {
             "outlinewidth": 0,
             "ticks": ""
            },
            "type": "mesh3d"
           }
          ],
          "parcoords": [
           {
            "line": {
             "colorbar": {
              "outlinewidth": 0,
              "ticks": ""
             }
            },
            "type": "parcoords"
           }
          ],
          "pie": [
           {
            "automargin": true,
            "type": "pie"
           }
          ],
          "scatter": [
           {
            "marker": {
             "colorbar": {
              "outlinewidth": 0,
              "ticks": ""
             }
            },
            "type": "scatter"
           }
          ],
          "scatter3d": [
           {
            "line": {
             "colorbar": {
              "outlinewidth": 0,
              "ticks": ""
             }
            },
            "marker": {
             "colorbar": {
              "outlinewidth": 0,
              "ticks": ""
             }
            },
            "type": "scatter3d"
           }
          ],
          "scattercarpet": [
           {
            "marker": {
             "colorbar": {
              "outlinewidth": 0,
              "ticks": ""
             }
            },
            "type": "scattercarpet"
           }
          ],
          "scattergeo": [
           {
            "marker": {
             "colorbar": {
              "outlinewidth": 0,
              "ticks": ""
             }
            },
            "type": "scattergeo"
           }
          ],
          "scattergl": [
           {
            "marker": {
             "colorbar": {
              "outlinewidth": 0,
              "ticks": ""
             }
            },
            "type": "scattergl"
           }
          ],
          "scattermapbox": [
           {
            "marker": {
             "colorbar": {
              "outlinewidth": 0,
              "ticks": ""
             }
            },
            "type": "scattermapbox"
           }
          ],
          "scatterpolar": [
           {
            "marker": {
             "colorbar": {
              "outlinewidth": 0,
              "ticks": ""
             }
            },
            "type": "scatterpolar"
           }
          ],
          "scatterpolargl": [
           {
            "marker": {
             "colorbar": {
              "outlinewidth": 0,
              "ticks": ""
             }
            },
            "type": "scatterpolargl"
           }
          ],
          "scatterternary": [
           {
            "marker": {
             "colorbar": {
              "outlinewidth": 0,
              "ticks": ""
             }
            },
            "type": "scatterternary"
           }
          ],
          "surface": [
           {
            "colorbar": {
             "outlinewidth": 0,
             "ticks": ""
            },
            "colorscale": [
             [
              0,
              "#0d0887"
             ],
             [
              0.1111111111111111,
              "#46039f"
             ],
             [
              0.2222222222222222,
              "#7201a8"
             ],
             [
              0.3333333333333333,
              "#9c179e"
             ],
             [
              0.4444444444444444,
              "#bd3786"
             ],
             [
              0.5555555555555556,
              "#d8576b"
             ],
             [
              0.6666666666666666,
              "#ed7953"
             ],
             [
              0.7777777777777778,
              "#fb9f3a"
             ],
             [
              0.8888888888888888,
              "#fdca26"
             ],
             [
              1,
              "#f0f921"
             ]
            ],
            "type": "surface"
           }
          ],
          "table": [
           {
            "cells": {
             "fill": {
              "color": "#EBF0F8"
             },
             "line": {
              "color": "white"
             }
            },
            "header": {
             "fill": {
              "color": "#C8D4E3"
             },
             "line": {
              "color": "white"
             }
            },
            "type": "table"
           }
          ]
         },
         "layout": {
          "annotationdefaults": {
           "arrowcolor": "#2a3f5f",
           "arrowhead": 0,
           "arrowwidth": 1
          },
          "autotypenumbers": "strict",
          "coloraxis": {
           "colorbar": {
            "outlinewidth": 0,
            "ticks": ""
           }
          },
          "colorscale": {
           "diverging": [
            [
             0,
             "#8e0152"
            ],
            [
             0.1,
             "#c51b7d"
            ],
            [
             0.2,
             "#de77ae"
            ],
            [
             0.3,
             "#f1b6da"
            ],
            [
             0.4,
             "#fde0ef"
            ],
            [
             0.5,
             "#f7f7f7"
            ],
            [
             0.6,
             "#e6f5d0"
            ],
            [
             0.7,
             "#b8e186"
            ],
            [
             0.8,
             "#7fbc41"
            ],
            [
             0.9,
             "#4d9221"
            ],
            [
             1,
             "#276419"
            ]
           ],
           "sequential": [
            [
             0,
             "#0d0887"
            ],
            [
             0.1111111111111111,
             "#46039f"
            ],
            [
             0.2222222222222222,
             "#7201a8"
            ],
            [
             0.3333333333333333,
             "#9c179e"
            ],
            [
             0.4444444444444444,
             "#bd3786"
            ],
            [
             0.5555555555555556,
             "#d8576b"
            ],
            [
             0.6666666666666666,
             "#ed7953"
            ],
            [
             0.7777777777777778,
             "#fb9f3a"
            ],
            [
             0.8888888888888888,
             "#fdca26"
            ],
            [
             1,
             "#f0f921"
            ]
           ],
           "sequentialminus": [
            [
             0,
             "#0d0887"
            ],
            [
             0.1111111111111111,
             "#46039f"
            ],
            [
             0.2222222222222222,
             "#7201a8"
            ],
            [
             0.3333333333333333,
             "#9c179e"
            ],
            [
             0.4444444444444444,
             "#bd3786"
            ],
            [
             0.5555555555555556,
             "#d8576b"
            ],
            [
             0.6666666666666666,
             "#ed7953"
            ],
            [
             0.7777777777777778,
             "#fb9f3a"
            ],
            [
             0.8888888888888888,
             "#fdca26"
            ],
            [
             1,
             "#f0f921"
            ]
           ]
          },
          "colorway": [
           "#636efa",
           "#EF553B",
           "#00cc96",
           "#ab63fa",
           "#FFA15A",
           "#19d3f3",
           "#FF6692",
           "#B6E880",
           "#FF97FF",
           "#FECB52"
          ],
          "font": {
           "color": "#2a3f5f"
          },
          "geo": {
           "bgcolor": "white",
           "lakecolor": "white",
           "landcolor": "#E5ECF6",
           "showlakes": true,
           "showland": true,
           "subunitcolor": "white"
          },
          "hoverlabel": {
           "align": "left"
          },
          "hovermode": "closest",
          "mapbox": {
           "style": "light"
          },
          "paper_bgcolor": "white",
          "plot_bgcolor": "#E5ECF6",
          "polar": {
           "angularaxis": {
            "gridcolor": "white",
            "linecolor": "white",
            "ticks": ""
           },
           "bgcolor": "#E5ECF6",
           "radialaxis": {
            "gridcolor": "white",
            "linecolor": "white",
            "ticks": ""
           }
          },
          "scene": {
           "xaxis": {
            "backgroundcolor": "#E5ECF6",
            "gridcolor": "white",
            "gridwidth": 2,
            "linecolor": "white",
            "showbackground": true,
            "ticks": "",
            "zerolinecolor": "white"
           },
           "yaxis": {
            "backgroundcolor": "#E5ECF6",
            "gridcolor": "white",
            "gridwidth": 2,
            "linecolor": "white",
            "showbackground": true,
            "ticks": "",
            "zerolinecolor": "white"
           },
           "zaxis": {
            "backgroundcolor": "#E5ECF6",
            "gridcolor": "white",
            "gridwidth": 2,
            "linecolor": "white",
            "showbackground": true,
            "ticks": "",
            "zerolinecolor": "white"
           }
          },
          "shapedefaults": {
           "line": {
            "color": "#2a3f5f"
           }
          },
          "ternary": {
           "aaxis": {
            "gridcolor": "white",
            "linecolor": "white",
            "ticks": ""
           },
           "baxis": {
            "gridcolor": "white",
            "linecolor": "white",
            "ticks": ""
           },
           "bgcolor": "#E5ECF6",
           "caxis": {
            "gridcolor": "white",
            "linecolor": "white",
            "ticks": ""
           }
          },
          "title": {
           "x": 0.05
          },
          "xaxis": {
           "automargin": true,
           "gridcolor": "white",
           "linecolor": "white",
           "ticks": "",
           "title": {
            "standoff": 15
           },
           "zerolinecolor": "white",
           "zerolinewidth": 2
          },
          "yaxis": {
           "automargin": true,
           "gridcolor": "white",
           "linecolor": "white",
           "ticks": "",
           "title": {
            "standoff": 15
           },
           "zerolinecolor": "white",
           "zerolinewidth": 2
          }
         }
        },
        "title": {
         "text": "Contour Plot"
        },
        "xaxis": {
         "anchor": "y",
         "domain": [
          0,
          0.2888888888888889
         ],
         "matches": "x7",
         "range": [
          -1.721938375182276,
          -1.6993585421453867
         ],
         "showticklabels": false,
         "type": "log"
        },
        "xaxis2": {
         "anchor": "y2",
         "domain": [
          0.35555555555555557,
          0.6444444444444445
         ],
         "matches": "x8",
         "range": [
          149.75,
          287.25
         ],
         "showticklabels": false
        },
        "xaxis3": {
         "anchor": "y3",
         "domain": [
          0.7111111111111111,
          1
         ],
         "matches": "x9",
         "range": [
          0.25284637806803734,
          0.40476620535135927
         ],
         "showticklabels": false
        },
        "xaxis4": {
         "anchor": "y4",
         "domain": [
          0,
          0.2888888888888889
         ],
         "matches": "x7",
         "range": [
          -1.721938375182276,
          -1.6993585421453867
         ],
         "showticklabels": false,
         "type": "log"
        },
        "xaxis5": {
         "anchor": "y5",
         "domain": [
          0.35555555555555557,
          0.6444444444444445
         ],
         "matches": "x8",
         "range": [
          149.75,
          287.25
         ],
         "showticklabels": false
        },
        "xaxis6": {
         "anchor": "y6",
         "domain": [
          0.7111111111111111,
          1
         ],
         "matches": "x9",
         "range": [
          0.25284637806803734,
          0.40476620535135927
         ],
         "showticklabels": false
        },
        "xaxis7": {
         "anchor": "y7",
         "domain": [
          0,
          0.2888888888888889
         ],
         "range": [
          -1.721938375182276,
          -1.6993585421453867
         ],
         "title": {
          "text": "adam_learning_rate"
         },
         "type": "log"
        },
        "xaxis8": {
         "anchor": "y8",
         "domain": [
          0.35555555555555557,
          0.6444444444444445
         ],
         "range": [
          149.75,
          287.25
         ],
         "title": {
          "text": "nt_epochs"
         }
        },
        "xaxis9": {
         "anchor": "y9",
         "domain": [
          0.7111111111111111,
          1
         ],
         "range": [
          0.25284637806803734,
          0.40476620535135927
         ],
         "title": {
          "text": "nt_lr"
         }
        },
        "yaxis": {
         "anchor": "x",
         "domain": [
          0.7333333333333333,
          1
         ],
         "range": [
          -1.721938375182276,
          -1.6993585421453867
         ],
         "title": {
          "text": "adam_learning_rate"
         },
         "type": "log"
        },
        "yaxis2": {
         "anchor": "x2",
         "domain": [
          0.7333333333333333,
          1
         ],
         "matches": "y",
         "range": [
          -1.721938375182276,
          -1.6993585421453867
         ],
         "showticklabels": false,
         "type": "log"
        },
        "yaxis3": {
         "anchor": "x3",
         "domain": [
          0.7333333333333333,
          1
         ],
         "matches": "y",
         "range": [
          -1.721938375182276,
          -1.6993585421453867
         ],
         "showticklabels": false,
         "type": "log"
        },
        "yaxis4": {
         "anchor": "x4",
         "domain": [
          0.36666666666666664,
          0.6333333333333333
         ],
         "range": [
          149.75,
          287.25
         ],
         "title": {
          "text": "nt_epochs"
         }
        },
        "yaxis5": {
         "anchor": "x5",
         "domain": [
          0.36666666666666664,
          0.6333333333333333
         ],
         "matches": "y4",
         "range": [
          149.75,
          287.25
         ],
         "showticklabels": false
        },
        "yaxis6": {
         "anchor": "x6",
         "domain": [
          0.36666666666666664,
          0.6333333333333333
         ],
         "matches": "y4",
         "range": [
          149.75,
          287.25
         ],
         "showticklabels": false
        },
        "yaxis7": {
         "anchor": "x7",
         "domain": [
          0,
          0.26666666666666666
         ],
         "range": [
          0.25284637806803734,
          0.40476620535135927
         ],
         "title": {
          "text": "nt_lr"
         }
        },
        "yaxis8": {
         "anchor": "x8",
         "domain": [
          0,
          0.26666666666666666
         ],
         "matches": "y7",
         "range": [
          0.25284637806803734,
          0.40476620535135927
         ],
         "showticklabels": false
        },
        "yaxis9": {
         "anchor": "x9",
         "domain": [
          0,
          0.26666666666666666
         ],
         "matches": "y7",
         "range": [
          0.25284637806803734,
          0.40476620535135927
         ],
         "showticklabels": false
        }
       }
      },
      "text/html": [
       "<div>                            <div id=\"156fa007-a706-43b6-a0d4-3ae7d261ba70\" class=\"plotly-graph-div\" style=\"height:525px; width:100%;\"></div>            <script type=\"text/javascript\">                require([\"plotly\"], function(Plotly) {                    window.PLOTLYENV=window.PLOTLYENV || {};                                    if (document.getElementById(\"156fa007-a706-43b6-a0d4-3ae7d261ba70\")) {                    Plotly.newPlot(                        \"156fa007-a706-43b6-a0d4-3ae7d261ba70\",                        [{\"type\":\"scatter\",\"xaxis\":\"x\",\"yaxis\":\"y\"},{\"colorbar\":{\"title\":{\"text\":\"Objective Value\"}},\"colorscale\":[[0,\"rgb(5,10,172)\"],[0.35,\"rgb(40,60,190)\"],[0.5,\"rgb(70,100,245)\"],[0.6,\"rgb(90,120,245)\"],[0.7,\"rgb(106,137,247)\"],[1,\"rgb(220,220,220)\"]],\"connectgaps\":true,\"contours\":{\"coloring\":\"heatmap\"},\"hoverinfo\":\"none\",\"line\":{\"smoothing\":1.3},\"reversescale\":false,\"showscale\":true,\"type\":\"contour\",\"x\":[0.01896975076023499,0.01901463445890727,0.019093991835594685,0.01911830736496443,0.019130787334676085,0.019159392015737152,0.019247542503777002,0.019367919138539674,0.019470029017674015,0.019474998466284487,0.019576758438988703,0.019644885421452776,0.019684505068875383,0.01969264376230046,0.019824407230783776,0.01993494775478983,0.01998211517408715],\"xaxis\":\"x4\",\"y\":[149.75,156,162,180,183,189,190,212,220,232,255,270,272,275,281,287.25],\"yaxis\":\"y4\",\"z\":[[null,null,null,null,null,null,null,null,null,null,null,null,null,null,null,null,null],[null,null,null,null,null,null,null,null,null,null,null,null,null,-0.09040695164743685,null,null,null],[null,null,null,null,null,null,null,-0.08883963315641388,null,null,null,null,null,null,null,null,null],[null,null,null,null,null,null,null,null,null,null,null,-0.08185131670369288,null,null,null,null,null],[null,null,null,null,null,null,null,null,null,-0.08484673022747675,null,null,-0.08798972618922977,null,null,null,null],[null,null,null,null,null,null,null,null,-0.08161519989238468,null,null,null,null,null,null,null,null],[null,null,null,null,null,null,null,null,null,null,null,null,null,null,-0.08581225198718581,null,null],[null,null,null,null,null,-0.13811232972554038,null,null,null,null,null,null,null,null,null,null,null],[null,null,null,null,null,null,null,null,null,null,-0.09572687128163798,null,null,null,null,null,null],[null,-0.1781538760076843,null,null,null,null,null,null,null,null,null,null,null,null,null,null,null],[null,null,null,-0.08620716791370661,null,null,null,null,null,null,null,null,null,null,null,null,null],[null,null,-0.08271048691230308,null,null,null,null,null,null,null,null,null,null,null,null,null,null],[null,null,null,null,-0.0831904927299543,null,null,null,null,null,null,null,null,null,null,null,null],[null,null,null,null,null,null,null,null,null,null,null,null,null,null,null,-0.08788580308783808,null],[null,null,null,null,null,null,-0.08531307116769112,null,null,null,null,null,null,null,null,null,null],[null,null,null,null,null,null,null,null,null,null,null,null,null,null,null,null,null]]},{\"marker\":{\"color\":\"black\",\"line\":{\"color\":\"Grey\",\"width\":0.5}},\"mode\":\"markers\",\"showlegend\":false,\"type\":\"scatter\",\"x\":[0.019093991835594685,0.019159392015737152,0.01901463445890727,0.019130787334676085,0.01911830736496443,0.01993494775478983,0.019576758438988703,0.019247542503777002,0.019644885421452776,0.019367919138539674,0.01969264376230046,0.019824407230783776,0.019470029017674015,0.019474998466284487,0.019684505068875383],\"xaxis\":\"x4\",\"y\":[270,212,232,272,255,275,220,281,180,162,156,190,189,183,183],\"yaxis\":\"y4\"},{\"colorbar\":{\"title\":{\"text\":\"Objective Value\"}},\"colorscale\":[[0,\"rgb(5,10,172)\"],[0.35,\"rgb(40,60,190)\"],[0.5,\"rgb(70,100,245)\"],[0.6,\"rgb(90,120,245)\"],[0.7,\"rgb(106,137,247)\"],[1,\"rgb(220,220,220)\"]],\"connectgaps\":true,\"contours\":{\"coloring\":\"heatmap\"},\"hoverinfo\":\"none\",\"line\":{\"smoothing\":1.3},\"reversescale\":false,\"showscale\":false,\"type\":\"contour\",\"x\":[0.01896975076023499,0.01901463445890727,0.019093991835594685,0.01911830736496443,0.019130787334676085,0.019159392015737152,0.019247542503777002,0.019367919138539674,0.019470029017674015,0.019474998466284487,0.019576758438988703,0.019644885421452776,0.019684505068875383,0.01969264376230046,0.019824407230783776,0.01993494775478983,0.01998211517408715],\"xaxis\":\"x7\",\"y\":[0.25284637806803734,0.2597518247627338,0.2646534304852239,0.27594880043727316,0.27729275963241484,0.29051784826360716,0.3065178302285996,0.3083755998718507,0.3117916441463818,0.31187314210110895,0.3467140600836183,0.35106504509925873,0.3538082098420197,0.3777033572060364,0.38999177110797456,0.3978607586566628,0.40476620535135927],\"yaxis\":\"y7\",\"z\":[[null,null,null,null,null,null,null,null,null,null,null,null,null,null,null,null,null],[null,null,null,-0.08620716791370661,null,null,null,null,null,null,null,null,null,null,null,null,null],[null,null,-0.08271048691230308,null,null,null,null,null,null,null,null,null,null,null,null,null,null],[null,null,null,null,-0.0831904927299543,null,null,null,null,null,null,null,null,null,null,null,null],[null,null,null,null,null,null,null,null,-0.08161519989238468,null,null,null,null,null,null,null,null],[null,null,null,null,null,null,null,null,null,-0.08484673022747675,null,null,null,null,null,null,null],[null,null,null,null,null,null,-0.08531307116769112,null,null,null,null,null,null,null,null,null,null],[null,null,null,null,null,-0.13811232972554038,null,null,null,null,null,null,null,null,null,null,null],[null,null,null,null,null,null,null,-0.08883963315641388,null,null,null,null,null,null,null,null,null],[null,-0.1781538760076843,null,null,null,null,null,null,null,null,null,null,null,null,null,null,null],[null,null,null,null,null,null,null,null,null,null,null,null,-0.08798972618922977,null,null,null,null],[null,null,null,null,null,null,null,null,null,null,null,null,null,null,null,-0.08788580308783808,null],[null,null,null,null,null,null,null,null,null,null,null,null,null,null,-0.08581225198718581,null,null],[null,null,null,null,null,null,null,null,null,null,-0.09572687128163798,null,null,null,null,null,null],[null,null,null,null,null,null,null,null,null,null,null,-0.08185131670369288,null,null,null,null,null],[null,null,null,null,null,null,null,null,null,null,null,null,null,-0.09040695164743685,null,null,null],[null,null,null,null,null,null,null,null,null,null,null,null,null,null,null,null,null]]},{\"marker\":{\"color\":\"black\",\"line\":{\"color\":\"Grey\",\"width\":0.5}},\"mode\":\"markers\",\"showlegend\":false,\"type\":\"scatter\",\"x\":[0.019093991835594685,0.019159392015737152,0.01901463445890727,0.019130787334676085,0.01911830736496443,0.01993494775478983,0.019576758438988703,0.019247542503777002,0.019644885421452776,0.019367919138539674,0.01969264376230046,0.019824407230783776,0.019470029017674015,0.019474998466284487,0.019684505068875383],\"xaxis\":\"x7\",\"y\":[0.2646534304852239,0.3083755998718507,0.31187314210110895,0.27594880043727316,0.2597518247627338,0.35106504509925873,0.3777033572060364,0.3065178302285996,0.38999177110797456,0.3117916441463818,0.3978607586566628,0.3538082098420197,0.27729275963241484,0.29051784826360716,0.3467140600836183],\"yaxis\":\"y7\"},{\"colorbar\":{\"title\":{\"text\":\"Objective Value\"}},\"colorscale\":[[0,\"rgb(5,10,172)\"],[0.35,\"rgb(40,60,190)\"],[0.5,\"rgb(70,100,245)\"],[0.6,\"rgb(90,120,245)\"],[0.7,\"rgb(106,137,247)\"],[1,\"rgb(220,220,220)\"]],\"connectgaps\":true,\"contours\":{\"coloring\":\"heatmap\"},\"hoverinfo\":\"none\",\"line\":{\"smoothing\":1.3},\"reversescale\":false,\"showscale\":false,\"type\":\"contour\",\"x\":[149.75,156,162,180,183,189,190,212,220,232,255,270,272,275,281,287.25],\"xaxis\":\"x2\",\"y\":[0.01896975076023499,0.01901463445890727,0.019093991835594685,0.01911830736496443,0.019130787334676085,0.019159392015737152,0.019247542503777002,0.019367919138539674,0.019470029017674015,0.019474998466284487,0.019576758438988703,0.019644885421452776,0.019684505068875383,0.01969264376230046,0.019824407230783776,0.01993494775478983,0.01998211517408715],\"yaxis\":\"y2\",\"z\":[[null,null,null,null,null,null,null,null,null,null,null,null,null,null,null,null],[null,null,null,null,null,null,null,null,null,-0.1781538760076843,null,null,null,null,null,null],[null,null,null,null,null,null,null,null,null,null,null,-0.08271048691230308,null,null,null,null],[null,null,null,null,null,null,null,null,null,null,-0.08620716791370661,null,null,null,null,null],[null,null,null,null,null,null,null,null,null,null,null,null,-0.0831904927299543,null,null,null],[null,null,null,null,null,null,null,-0.13811232972554038,null,null,null,null,null,null,null,null],[null,null,null,null,null,null,null,null,null,null,null,null,null,null,-0.08531307116769112,null],[null,null,-0.08883963315641388,null,null,null,null,null,null,null,null,null,null,null,null,null],[null,null,null,null,null,-0.08161519989238468,null,null,null,null,null,null,null,null,null,null],[null,null,null,null,-0.08484673022747675,null,null,null,null,null,null,null,null,null,null,null],[null,null,null,null,null,null,null,null,-0.09572687128163798,null,null,null,null,null,null,null],[null,null,null,-0.08185131670369288,null,null,null,null,null,null,null,null,null,null,null,null],[null,null,null,null,-0.08798972618922977,null,null,null,null,null,null,null,null,null,null,null],[null,-0.09040695164743685,null,null,null,null,null,null,null,null,null,null,null,null,null,null],[null,null,null,null,null,null,-0.08581225198718581,null,null,null,null,null,null,null,null,null],[null,null,null,null,null,null,null,null,null,null,null,null,null,-0.08788580308783808,null,null],[null,null,null,null,null,null,null,null,null,null,null,null,null,null,null,null]]},{\"marker\":{\"color\":\"black\",\"line\":{\"color\":\"Grey\",\"width\":0.5}},\"mode\":\"markers\",\"showlegend\":false,\"type\":\"scatter\",\"x\":[270,212,232,272,255,275,220,281,180,162,156,190,189,183,183],\"xaxis\":\"x2\",\"y\":[0.019093991835594685,0.019159392015737152,0.01901463445890727,0.019130787334676085,0.01911830736496443,0.01993494775478983,0.019576758438988703,0.019247542503777002,0.019644885421452776,0.019367919138539674,0.01969264376230046,0.019824407230783776,0.019470029017674015,0.019474998466284487,0.019684505068875383],\"yaxis\":\"y2\"},{\"type\":\"scatter\",\"xaxis\":\"x5\",\"yaxis\":\"y5\"},{\"colorbar\":{\"title\":{\"text\":\"Objective Value\"}},\"colorscale\":[[0,\"rgb(5,10,172)\"],[0.35,\"rgb(40,60,190)\"],[0.5,\"rgb(70,100,245)\"],[0.6,\"rgb(90,120,245)\"],[0.7,\"rgb(106,137,247)\"],[1,\"rgb(220,220,220)\"]],\"connectgaps\":true,\"contours\":{\"coloring\":\"heatmap\"},\"hoverinfo\":\"none\",\"line\":{\"smoothing\":1.3},\"reversescale\":false,\"showscale\":false,\"type\":\"contour\",\"x\":[149.75,156,162,180,183,189,190,212,220,232,255,270,272,275,281,287.25],\"xaxis\":\"x8\",\"y\":[0.25284637806803734,0.2597518247627338,0.2646534304852239,0.27594880043727316,0.27729275963241484,0.29051784826360716,0.3065178302285996,0.3083755998718507,0.3117916441463818,0.31187314210110895,0.3467140600836183,0.35106504509925873,0.3538082098420197,0.3777033572060364,0.38999177110797456,0.3978607586566628,0.40476620535135927],\"yaxis\":\"y8\",\"z\":[[null,null,null,null,null,null,null,null,null,null,null,null,null,null,null,null],[null,null,null,null,null,null,null,null,null,null,-0.08620716791370661,null,null,null,null,null],[null,null,null,null,null,null,null,null,null,null,null,-0.08271048691230308,null,null,null,null],[null,null,null,null,null,null,null,null,null,null,null,null,-0.0831904927299543,null,null,null],[null,null,null,null,null,-0.08161519989238468,null,null,null,null,null,null,null,null,null,null],[null,null,null,null,-0.08484673022747675,null,null,null,null,null,null,null,null,null,null,null],[null,null,null,null,null,null,null,null,null,null,null,null,null,null,-0.08531307116769112,null],[null,null,null,null,null,null,null,-0.13811232972554038,null,null,null,null,null,null,null,null],[null,null,-0.08883963315641388,null,null,null,null,null,null,null,null,null,null,null,null,null],[null,null,null,null,null,null,null,null,null,-0.1781538760076843,null,null,null,null,null,null],[null,null,null,null,-0.08798972618922977,null,null,null,null,null,null,null,null,null,null,null],[null,null,null,null,null,null,null,null,null,null,null,null,null,-0.08788580308783808,null,null],[null,null,null,null,null,null,-0.08581225198718581,null,null,null,null,null,null,null,null,null],[null,null,null,null,null,null,null,null,-0.09572687128163798,null,null,null,null,null,null,null],[null,null,null,-0.08185131670369288,null,null,null,null,null,null,null,null,null,null,null,null],[null,-0.09040695164743685,null,null,null,null,null,null,null,null,null,null,null,null,null,null],[null,null,null,null,null,null,null,null,null,null,null,null,null,null,null,null]]},{\"marker\":{\"color\":\"black\",\"line\":{\"color\":\"Grey\",\"width\":0.5}},\"mode\":\"markers\",\"showlegend\":false,\"type\":\"scatter\",\"x\":[270,212,232,272,255,275,220,281,180,162,156,190,189,183,183],\"xaxis\":\"x8\",\"y\":[0.2646534304852239,0.3083755998718507,0.31187314210110895,0.27594880043727316,0.2597518247627338,0.35106504509925873,0.3777033572060364,0.3065178302285996,0.38999177110797456,0.3117916441463818,0.3978607586566628,0.3538082098420197,0.27729275963241484,0.29051784826360716,0.3467140600836183],\"yaxis\":\"y8\"},{\"colorbar\":{\"title\":{\"text\":\"Objective Value\"}},\"colorscale\":[[0,\"rgb(5,10,172)\"],[0.35,\"rgb(40,60,190)\"],[0.5,\"rgb(70,100,245)\"],[0.6,\"rgb(90,120,245)\"],[0.7,\"rgb(106,137,247)\"],[1,\"rgb(220,220,220)\"]],\"connectgaps\":true,\"contours\":{\"coloring\":\"heatmap\"},\"hoverinfo\":\"none\",\"line\":{\"smoothing\":1.3},\"reversescale\":false,\"showscale\":false,\"type\":\"contour\",\"x\":[0.25284637806803734,0.2597518247627338,0.2646534304852239,0.27594880043727316,0.27729275963241484,0.29051784826360716,0.3065178302285996,0.3083755998718507,0.3117916441463818,0.31187314210110895,0.3467140600836183,0.35106504509925873,0.3538082098420197,0.3777033572060364,0.38999177110797456,0.3978607586566628,0.40476620535135927],\"xaxis\":\"x3\",\"y\":[0.01896975076023499,0.01901463445890727,0.019093991835594685,0.01911830736496443,0.019130787334676085,0.019159392015737152,0.019247542503777002,0.019367919138539674,0.019470029017674015,0.019474998466284487,0.019576758438988703,0.019644885421452776,0.019684505068875383,0.01969264376230046,0.019824407230783776,0.01993494775478983,0.01998211517408715],\"yaxis\":\"y3\",\"z\":[[null,null,null,null,null,null,null,null,null,null,null,null,null,null,null,null,null],[null,null,null,null,null,null,null,null,null,-0.1781538760076843,null,null,null,null,null,null,null],[null,null,-0.08271048691230308,null,null,null,null,null,null,null,null,null,null,null,null,null,null],[null,-0.08620716791370661,null,null,null,null,null,null,null,null,null,null,null,null,null,null,null],[null,null,null,-0.0831904927299543,null,null,null,null,null,null,null,null,null,null,null,null,null],[null,null,null,null,null,null,null,-0.13811232972554038,null,null,null,null,null,null,null,null,null],[null,null,null,null,null,null,-0.08531307116769112,null,null,null,null,null,null,null,null,null,null],[null,null,null,null,null,null,null,null,-0.08883963315641388,null,null,null,null,null,null,null,null],[null,null,null,null,-0.08161519989238468,null,null,null,null,null,null,null,null,null,null,null,null],[null,null,null,null,null,-0.08484673022747675,null,null,null,null,null,null,null,null,null,null,null],[null,null,null,null,null,null,null,null,null,null,null,null,null,-0.09572687128163798,null,null,null],[null,null,null,null,null,null,null,null,null,null,null,null,null,null,-0.08185131670369288,null,null],[null,null,null,null,null,null,null,null,null,null,-0.08798972618922977,null,null,null,null,null,null],[null,null,null,null,null,null,null,null,null,null,null,null,null,null,null,-0.09040695164743685,null],[null,null,null,null,null,null,null,null,null,null,null,null,-0.08581225198718581,null,null,null,null],[null,null,null,null,null,null,null,null,null,null,null,-0.08788580308783808,null,null,null,null,null],[null,null,null,null,null,null,null,null,null,null,null,null,null,null,null,null,null]]},{\"marker\":{\"color\":\"black\",\"line\":{\"color\":\"Grey\",\"width\":0.5}},\"mode\":\"markers\",\"showlegend\":false,\"type\":\"scatter\",\"x\":[0.2646534304852239,0.3083755998718507,0.31187314210110895,0.27594880043727316,0.2597518247627338,0.35106504509925873,0.3777033572060364,0.3065178302285996,0.38999177110797456,0.3117916441463818,0.3978607586566628,0.3538082098420197,0.27729275963241484,0.29051784826360716,0.3467140600836183],\"xaxis\":\"x3\",\"y\":[0.019093991835594685,0.019159392015737152,0.01901463445890727,0.019130787334676085,0.01911830736496443,0.01993494775478983,0.019576758438988703,0.019247542503777002,0.019644885421452776,0.019367919138539674,0.01969264376230046,0.019824407230783776,0.019470029017674015,0.019474998466284487,0.019684505068875383],\"yaxis\":\"y3\"},{\"colorbar\":{\"title\":{\"text\":\"Objective Value\"}},\"colorscale\":[[0,\"rgb(5,10,172)\"],[0.35,\"rgb(40,60,190)\"],[0.5,\"rgb(70,100,245)\"],[0.6,\"rgb(90,120,245)\"],[0.7,\"rgb(106,137,247)\"],[1,\"rgb(220,220,220)\"]],\"connectgaps\":true,\"contours\":{\"coloring\":\"heatmap\"},\"hoverinfo\":\"none\",\"line\":{\"smoothing\":1.3},\"reversescale\":false,\"showscale\":false,\"type\":\"contour\",\"x\":[0.25284637806803734,0.2597518247627338,0.2646534304852239,0.27594880043727316,0.27729275963241484,0.29051784826360716,0.3065178302285996,0.3083755998718507,0.3117916441463818,0.31187314210110895,0.3467140600836183,0.35106504509925873,0.3538082098420197,0.3777033572060364,0.38999177110797456,0.3978607586566628,0.40476620535135927],\"xaxis\":\"x6\",\"y\":[149.75,156,162,180,183,189,190,212,220,232,255,270,272,275,281,287.25],\"yaxis\":\"y6\",\"z\":[[null,null,null,null,null,null,null,null,null,null,null,null,null,null,null,null,null],[null,null,null,null,null,null,null,null,null,null,null,null,null,null,null,-0.09040695164743685,null],[null,null,null,null,null,null,null,null,-0.08883963315641388,null,null,null,null,null,null,null,null],[null,null,null,null,null,null,null,null,null,null,null,null,null,null,-0.08185131670369288,null,null],[null,null,null,null,null,-0.08484673022747675,null,null,null,null,-0.08798972618922977,null,null,null,null,null,null],[null,null,null,null,-0.08161519989238468,null,null,null,null,null,null,null,null,null,null,null,null],[null,null,null,null,null,null,null,null,null,null,null,null,-0.08581225198718581,null,null,null,null],[null,null,null,null,null,null,null,-0.13811232972554038,null,null,null,null,null,null,null,null,null],[null,null,null,null,null,null,null,null,null,null,null,null,null,-0.09572687128163798,null,null,null],[null,null,null,null,null,null,null,null,null,-0.1781538760076843,null,null,null,null,null,null,null],[null,-0.08620716791370661,null,null,null,null,null,null,null,null,null,null,null,null,null,null,null],[null,null,-0.08271048691230308,null,null,null,null,null,null,null,null,null,null,null,null,null,null],[null,null,null,-0.0831904927299543,null,null,null,null,null,null,null,null,null,null,null,null,null],[null,null,null,null,null,null,null,null,null,null,null,-0.08788580308783808,null,null,null,null,null],[null,null,null,null,null,null,-0.08531307116769112,null,null,null,null,null,null,null,null,null,null],[null,null,null,null,null,null,null,null,null,null,null,null,null,null,null,null,null]]},{\"marker\":{\"color\":\"black\",\"line\":{\"color\":\"Grey\",\"width\":0.5}},\"mode\":\"markers\",\"showlegend\":false,\"type\":\"scatter\",\"x\":[0.2646534304852239,0.3083755998718507,0.31187314210110895,0.27594880043727316,0.2597518247627338,0.35106504509925873,0.3777033572060364,0.3065178302285996,0.38999177110797456,0.3117916441463818,0.3978607586566628,0.3538082098420197,0.27729275963241484,0.29051784826360716,0.3467140600836183],\"xaxis\":\"x6\",\"y\":[270,212,232,272,255,275,220,281,180,162,156,190,189,183,183],\"yaxis\":\"y6\"},{\"type\":\"scatter\",\"xaxis\":\"x9\",\"yaxis\":\"y9\"}],                        {\"template\":{\"data\":{\"bar\":[{\"error_x\":{\"color\":\"#2a3f5f\"},\"error_y\":{\"color\":\"#2a3f5f\"},\"marker\":{\"line\":{\"color\":\"#E5ECF6\",\"width\":0.5},\"pattern\":{\"fillmode\":\"overlay\",\"size\":10,\"solidity\":0.2}},\"type\":\"bar\"}],\"barpolar\":[{\"marker\":{\"line\":{\"color\":\"#E5ECF6\",\"width\":0.5},\"pattern\":{\"fillmode\":\"overlay\",\"size\":10,\"solidity\":0.2}},\"type\":\"barpolar\"}],\"carpet\":[{\"aaxis\":{\"endlinecolor\":\"#2a3f5f\",\"gridcolor\":\"white\",\"linecolor\":\"white\",\"minorgridcolor\":\"white\",\"startlinecolor\":\"#2a3f5f\"},\"baxis\":{\"endlinecolor\":\"#2a3f5f\",\"gridcolor\":\"white\",\"linecolor\":\"white\",\"minorgridcolor\":\"white\",\"startlinecolor\":\"#2a3f5f\"},\"type\":\"carpet\"}],\"choropleth\":[{\"colorbar\":{\"outlinewidth\":0,\"ticks\":\"\"},\"type\":\"choropleth\"}],\"contour\":[{\"colorbar\":{\"outlinewidth\":0,\"ticks\":\"\"},\"colorscale\":[[0.0,\"#0d0887\"],[0.1111111111111111,\"#46039f\"],[0.2222222222222222,\"#7201a8\"],[0.3333333333333333,\"#9c179e\"],[0.4444444444444444,\"#bd3786\"],[0.5555555555555556,\"#d8576b\"],[0.6666666666666666,\"#ed7953\"],[0.7777777777777778,\"#fb9f3a\"],[0.8888888888888888,\"#fdca26\"],[1.0,\"#f0f921\"]],\"type\":\"contour\"}],\"contourcarpet\":[{\"colorbar\":{\"outlinewidth\":0,\"ticks\":\"\"},\"type\":\"contourcarpet\"}],\"heatmap\":[{\"colorbar\":{\"outlinewidth\":0,\"ticks\":\"\"},\"colorscale\":[[0.0,\"#0d0887\"],[0.1111111111111111,\"#46039f\"],[0.2222222222222222,\"#7201a8\"],[0.3333333333333333,\"#9c179e\"],[0.4444444444444444,\"#bd3786\"],[0.5555555555555556,\"#d8576b\"],[0.6666666666666666,\"#ed7953\"],[0.7777777777777778,\"#fb9f3a\"],[0.8888888888888888,\"#fdca26\"],[1.0,\"#f0f921\"]],\"type\":\"heatmap\"}],\"heatmapgl\":[{\"colorbar\":{\"outlinewidth\":0,\"ticks\":\"\"},\"colorscale\":[[0.0,\"#0d0887\"],[0.1111111111111111,\"#46039f\"],[0.2222222222222222,\"#7201a8\"],[0.3333333333333333,\"#9c179e\"],[0.4444444444444444,\"#bd3786\"],[0.5555555555555556,\"#d8576b\"],[0.6666666666666666,\"#ed7953\"],[0.7777777777777778,\"#fb9f3a\"],[0.8888888888888888,\"#fdca26\"],[1.0,\"#f0f921\"]],\"type\":\"heatmapgl\"}],\"histogram\":[{\"marker\":{\"pattern\":{\"fillmode\":\"overlay\",\"size\":10,\"solidity\":0.2}},\"type\":\"histogram\"}],\"histogram2d\":[{\"colorbar\":{\"outlinewidth\":0,\"ticks\":\"\"},\"colorscale\":[[0.0,\"#0d0887\"],[0.1111111111111111,\"#46039f\"],[0.2222222222222222,\"#7201a8\"],[0.3333333333333333,\"#9c179e\"],[0.4444444444444444,\"#bd3786\"],[0.5555555555555556,\"#d8576b\"],[0.6666666666666666,\"#ed7953\"],[0.7777777777777778,\"#fb9f3a\"],[0.8888888888888888,\"#fdca26\"],[1.0,\"#f0f921\"]],\"type\":\"histogram2d\"}],\"histogram2dcontour\":[{\"colorbar\":{\"outlinewidth\":0,\"ticks\":\"\"},\"colorscale\":[[0.0,\"#0d0887\"],[0.1111111111111111,\"#46039f\"],[0.2222222222222222,\"#7201a8\"],[0.3333333333333333,\"#9c179e\"],[0.4444444444444444,\"#bd3786\"],[0.5555555555555556,\"#d8576b\"],[0.6666666666666666,\"#ed7953\"],[0.7777777777777778,\"#fb9f3a\"],[0.8888888888888888,\"#fdca26\"],[1.0,\"#f0f921\"]],\"type\":\"histogram2dcontour\"}],\"mesh3d\":[{\"colorbar\":{\"outlinewidth\":0,\"ticks\":\"\"},\"type\":\"mesh3d\"}],\"parcoords\":[{\"line\":{\"colorbar\":{\"outlinewidth\":0,\"ticks\":\"\"}},\"type\":\"parcoords\"}],\"pie\":[{\"automargin\":true,\"type\":\"pie\"}],\"scatter\":[{\"marker\":{\"colorbar\":{\"outlinewidth\":0,\"ticks\":\"\"}},\"type\":\"scatter\"}],\"scatter3d\":[{\"line\":{\"colorbar\":{\"outlinewidth\":0,\"ticks\":\"\"}},\"marker\":{\"colorbar\":{\"outlinewidth\":0,\"ticks\":\"\"}},\"type\":\"scatter3d\"}],\"scattercarpet\":[{\"marker\":{\"colorbar\":{\"outlinewidth\":0,\"ticks\":\"\"}},\"type\":\"scattercarpet\"}],\"scattergeo\":[{\"marker\":{\"colorbar\":{\"outlinewidth\":0,\"ticks\":\"\"}},\"type\":\"scattergeo\"}],\"scattergl\":[{\"marker\":{\"colorbar\":{\"outlinewidth\":0,\"ticks\":\"\"}},\"type\":\"scattergl\"}],\"scattermapbox\":[{\"marker\":{\"colorbar\":{\"outlinewidth\":0,\"ticks\":\"\"}},\"type\":\"scattermapbox\"}],\"scatterpolar\":[{\"marker\":{\"colorbar\":{\"outlinewidth\":0,\"ticks\":\"\"}},\"type\":\"scatterpolar\"}],\"scatterpolargl\":[{\"marker\":{\"colorbar\":{\"outlinewidth\":0,\"ticks\":\"\"}},\"type\":\"scatterpolargl\"}],\"scatterternary\":[{\"marker\":{\"colorbar\":{\"outlinewidth\":0,\"ticks\":\"\"}},\"type\":\"scatterternary\"}],\"surface\":[{\"colorbar\":{\"outlinewidth\":0,\"ticks\":\"\"},\"colorscale\":[[0.0,\"#0d0887\"],[0.1111111111111111,\"#46039f\"],[0.2222222222222222,\"#7201a8\"],[0.3333333333333333,\"#9c179e\"],[0.4444444444444444,\"#bd3786\"],[0.5555555555555556,\"#d8576b\"],[0.6666666666666666,\"#ed7953\"],[0.7777777777777778,\"#fb9f3a\"],[0.8888888888888888,\"#fdca26\"],[1.0,\"#f0f921\"]],\"type\":\"surface\"}],\"table\":[{\"cells\":{\"fill\":{\"color\":\"#EBF0F8\"},\"line\":{\"color\":\"white\"}},\"header\":{\"fill\":{\"color\":\"#C8D4E3\"},\"line\":{\"color\":\"white\"}},\"type\":\"table\"}]},\"layout\":{\"annotationdefaults\":{\"arrowcolor\":\"#2a3f5f\",\"arrowhead\":0,\"arrowwidth\":1},\"autotypenumbers\":\"strict\",\"coloraxis\":{\"colorbar\":{\"outlinewidth\":0,\"ticks\":\"\"}},\"colorscale\":{\"diverging\":[[0,\"#8e0152\"],[0.1,\"#c51b7d\"],[0.2,\"#de77ae\"],[0.3,\"#f1b6da\"],[0.4,\"#fde0ef\"],[0.5,\"#f7f7f7\"],[0.6,\"#e6f5d0\"],[0.7,\"#b8e186\"],[0.8,\"#7fbc41\"],[0.9,\"#4d9221\"],[1,\"#276419\"]],\"sequential\":[[0.0,\"#0d0887\"],[0.1111111111111111,\"#46039f\"],[0.2222222222222222,\"#7201a8\"],[0.3333333333333333,\"#9c179e\"],[0.4444444444444444,\"#bd3786\"],[0.5555555555555556,\"#d8576b\"],[0.6666666666666666,\"#ed7953\"],[0.7777777777777778,\"#fb9f3a\"],[0.8888888888888888,\"#fdca26\"],[1.0,\"#f0f921\"]],\"sequentialminus\":[[0.0,\"#0d0887\"],[0.1111111111111111,\"#46039f\"],[0.2222222222222222,\"#7201a8\"],[0.3333333333333333,\"#9c179e\"],[0.4444444444444444,\"#bd3786\"],[0.5555555555555556,\"#d8576b\"],[0.6666666666666666,\"#ed7953\"],[0.7777777777777778,\"#fb9f3a\"],[0.8888888888888888,\"#fdca26\"],[1.0,\"#f0f921\"]]},\"colorway\":[\"#636efa\",\"#EF553B\",\"#00cc96\",\"#ab63fa\",\"#FFA15A\",\"#19d3f3\",\"#FF6692\",\"#B6E880\",\"#FF97FF\",\"#FECB52\"],\"font\":{\"color\":\"#2a3f5f\"},\"geo\":{\"bgcolor\":\"white\",\"lakecolor\":\"white\",\"landcolor\":\"#E5ECF6\",\"showlakes\":true,\"showland\":true,\"subunitcolor\":\"white\"},\"hoverlabel\":{\"align\":\"left\"},\"hovermode\":\"closest\",\"mapbox\":{\"style\":\"light\"},\"paper_bgcolor\":\"white\",\"plot_bgcolor\":\"#E5ECF6\",\"polar\":{\"angularaxis\":{\"gridcolor\":\"white\",\"linecolor\":\"white\",\"ticks\":\"\"},\"bgcolor\":\"#E5ECF6\",\"radialaxis\":{\"gridcolor\":\"white\",\"linecolor\":\"white\",\"ticks\":\"\"}},\"scene\":{\"xaxis\":{\"backgroundcolor\":\"#E5ECF6\",\"gridcolor\":\"white\",\"gridwidth\":2,\"linecolor\":\"white\",\"showbackground\":true,\"ticks\":\"\",\"zerolinecolor\":\"white\"},\"yaxis\":{\"backgroundcolor\":\"#E5ECF6\",\"gridcolor\":\"white\",\"gridwidth\":2,\"linecolor\":\"white\",\"showbackground\":true,\"ticks\":\"\",\"zerolinecolor\":\"white\"},\"zaxis\":{\"backgroundcolor\":\"#E5ECF6\",\"gridcolor\":\"white\",\"gridwidth\":2,\"linecolor\":\"white\",\"showbackground\":true,\"ticks\":\"\",\"zerolinecolor\":\"white\"}},\"shapedefaults\":{\"line\":{\"color\":\"#2a3f5f\"}},\"ternary\":{\"aaxis\":{\"gridcolor\":\"white\",\"linecolor\":\"white\",\"ticks\":\"\"},\"baxis\":{\"gridcolor\":\"white\",\"linecolor\":\"white\",\"ticks\":\"\"},\"bgcolor\":\"#E5ECF6\",\"caxis\":{\"gridcolor\":\"white\",\"linecolor\":\"white\",\"ticks\":\"\"}},\"title\":{\"x\":0.05},\"xaxis\":{\"automargin\":true,\"gridcolor\":\"white\",\"linecolor\":\"white\",\"ticks\":\"\",\"title\":{\"standoff\":15},\"zerolinecolor\":\"white\",\"zerolinewidth\":2},\"yaxis\":{\"automargin\":true,\"gridcolor\":\"white\",\"linecolor\":\"white\",\"ticks\":\"\",\"title\":{\"standoff\":15},\"zerolinecolor\":\"white\",\"zerolinewidth\":2}}},\"title\":{\"text\":\"Contour Plot\"},\"xaxis\":{\"anchor\":\"y\",\"domain\":[0.0,0.2888888888888889],\"matches\":\"x7\",\"range\":[-1.721938375182276,-1.6993585421453867],\"showticklabels\":false,\"type\":\"log\"},\"xaxis2\":{\"anchor\":\"y2\",\"domain\":[0.35555555555555557,0.6444444444444445],\"matches\":\"x8\",\"range\":[149.75,287.25],\"showticklabels\":false},\"xaxis3\":{\"anchor\":\"y3\",\"domain\":[0.7111111111111111,1.0],\"matches\":\"x9\",\"range\":[0.25284637806803734,0.40476620535135927],\"showticklabels\":false},\"xaxis4\":{\"anchor\":\"y4\",\"domain\":[0.0,0.2888888888888889],\"matches\":\"x7\",\"range\":[-1.721938375182276,-1.6993585421453867],\"showticklabels\":false,\"type\":\"log\"},\"xaxis5\":{\"anchor\":\"y5\",\"domain\":[0.35555555555555557,0.6444444444444445],\"matches\":\"x8\",\"range\":[149.75,287.25],\"showticklabels\":false},\"xaxis6\":{\"anchor\":\"y6\",\"domain\":[0.7111111111111111,1.0],\"matches\":\"x9\",\"range\":[0.25284637806803734,0.40476620535135927],\"showticklabels\":false},\"xaxis7\":{\"anchor\":\"y7\",\"domain\":[0.0,0.2888888888888889],\"range\":[-1.721938375182276,-1.6993585421453867],\"title\":{\"text\":\"adam_learning_rate\"},\"type\":\"log\"},\"xaxis8\":{\"anchor\":\"y8\",\"domain\":[0.35555555555555557,0.6444444444444445],\"range\":[149.75,287.25],\"title\":{\"text\":\"nt_epochs\"}},\"xaxis9\":{\"anchor\":\"y9\",\"domain\":[0.7111111111111111,1.0],\"range\":[0.25284637806803734,0.40476620535135927],\"title\":{\"text\":\"nt_lr\"}},\"yaxis\":{\"anchor\":\"x\",\"domain\":[0.7333333333333333,1.0],\"range\":[-1.721938375182276,-1.6993585421453867],\"title\":{\"text\":\"adam_learning_rate\"},\"type\":\"log\"},\"yaxis2\":{\"anchor\":\"x2\",\"domain\":[0.7333333333333333,1.0],\"matches\":\"y\",\"range\":[-1.721938375182276,-1.6993585421453867],\"showticklabels\":false,\"type\":\"log\"},\"yaxis3\":{\"anchor\":\"x3\",\"domain\":[0.7333333333333333,1.0],\"matches\":\"y\",\"range\":[-1.721938375182276,-1.6993585421453867],\"showticklabels\":false,\"type\":\"log\"},\"yaxis4\":{\"anchor\":\"x4\",\"domain\":[0.36666666666666664,0.6333333333333333],\"range\":[149.75,287.25],\"title\":{\"text\":\"nt_epochs\"}},\"yaxis5\":{\"anchor\":\"x5\",\"domain\":[0.36666666666666664,0.6333333333333333],\"matches\":\"y4\",\"range\":[149.75,287.25],\"showticklabels\":false},\"yaxis6\":{\"anchor\":\"x6\",\"domain\":[0.36666666666666664,0.6333333333333333],\"matches\":\"y4\",\"range\":[149.75,287.25],\"showticklabels\":false},\"yaxis7\":{\"anchor\":\"x7\",\"domain\":[0.0,0.26666666666666666],\"range\":[0.25284637806803734,0.40476620535135927],\"title\":{\"text\":\"nt_lr\"}},\"yaxis8\":{\"anchor\":\"x8\",\"domain\":[0.0,0.26666666666666666],\"matches\":\"y7\",\"range\":[0.25284637806803734,0.40476620535135927],\"showticklabels\":false},\"yaxis9\":{\"anchor\":\"x9\",\"domain\":[0.0,0.26666666666666666],\"matches\":\"y7\",\"range\":[0.25284637806803734,0.40476620535135927],\"showticklabels\":false}},                        {\"responsive\": true}                    ).then(function(){\n",
       "                            \n",
       "var gd = document.getElementById('156fa007-a706-43b6-a0d4-3ae7d261ba70');\n",
       "var x = new MutationObserver(function (mutations, observer) {{\n",
       "        var display = window.getComputedStyle(gd).display;\n",
       "        if (!display || display === 'none') {{\n",
       "            console.log([gd, 'removed!']);\n",
       "            Plotly.purge(gd);\n",
       "            observer.disconnect();\n",
       "        }}\n",
       "}});\n",
       "\n",
       "// Listen for the removal of the full notebook cells\n",
       "var notebookContainer = gd.closest('#notebook-container');\n",
       "if (notebookContainer) {{\n",
       "    x.observe(notebookContainer, {childList: true});\n",
       "}}\n",
       "\n",
       "// Listen for the clearing of the current output cell\n",
       "var outputEl = gd.closest('.output');\n",
       "if (outputEl) {{\n",
       "    x.observe(outputEl, {childList: true});\n",
       "}}\n",
       "\n",
       "                        })                };                });            </script>        </div>"
      ]
     },
     "metadata": {},
     "output_type": "display_data"
    }
   ],
   "source": [
    "fig = optuna.visualization.plot_contour(study, params=[\"nt_lr\", 'adam_learning_rate', 'nt_epochs'])\n",
    "fig.show()"
   ]
  },
  {
   "cell_type": "code",
   "execution_count": 14,
   "id": "0c87ab78",
   "metadata": {},
   "outputs": [
    {
     "data": {
      "application/vnd.plotly.v1+json": {
       "config": {
        "plotlyServerURL": "https://plot.ly"
       },
       "data": [
        {
         "mode": "markers",
         "name": "Objective Value",
         "type": "scatter",
         "x": [
          0,
          1,
          2,
          3,
          4,
          5,
          6,
          7,
          8,
          9,
          10,
          11,
          12,
          13,
          14
         ],
         "y": [
          -0.09597217878128675,
          -0.08719355635072544,
          -0.08571139672731115,
          -0.08252562773883494,
          -0.08941065889119161,
          -0.08631647967521833,
          -0.08837274562036572,
          -0.09696141430719081,
          -0.08267744675274699,
          -0.11395604481672617,
          -0.0824575650718918,
          -0.09116522933976841,
          -0.08594737683190463,
          -0.08529768039384253,
          -0.08783048877221987
         ]
        },
        {
         "name": "Best Value",
         "type": "scatter",
         "x": [
          0,
          1,
          2,
          3,
          4,
          5,
          6,
          7,
          8,
          9,
          10,
          11,
          12,
          13,
          14
         ],
         "y": [
          -0.09597217878128675,
          -0.08719355635072544,
          -0.08571139672731115,
          -0.08252562773883494,
          -0.08252562773883494,
          -0.08252562773883494,
          -0.08252562773883494,
          -0.08252562773883494,
          -0.08252562773883494,
          -0.08252562773883494,
          -0.0824575650718918,
          -0.0824575650718918,
          -0.0824575650718918,
          -0.0824575650718918,
          -0.0824575650718918
         ]
        }
       ],
       "layout": {
        "template": {
         "data": {
          "bar": [
           {
            "error_x": {
             "color": "#2a3f5f"
            },
            "error_y": {
             "color": "#2a3f5f"
            },
            "marker": {
             "line": {
              "color": "#E5ECF6",
              "width": 0.5
             },
             "pattern": {
              "fillmode": "overlay",
              "size": 10,
              "solidity": 0.2
             }
            },
            "type": "bar"
           }
          ],
          "barpolar": [
           {
            "marker": {
             "line": {
              "color": "#E5ECF6",
              "width": 0.5
             },
             "pattern": {
              "fillmode": "overlay",
              "size": 10,
              "solidity": 0.2
             }
            },
            "type": "barpolar"
           }
          ],
          "carpet": [
           {
            "aaxis": {
             "endlinecolor": "#2a3f5f",
             "gridcolor": "white",
             "linecolor": "white",
             "minorgridcolor": "white",
             "startlinecolor": "#2a3f5f"
            },
            "baxis": {
             "endlinecolor": "#2a3f5f",
             "gridcolor": "white",
             "linecolor": "white",
             "minorgridcolor": "white",
             "startlinecolor": "#2a3f5f"
            },
            "type": "carpet"
           }
          ],
          "choropleth": [
           {
            "colorbar": {
             "outlinewidth": 0,
             "ticks": ""
            },
            "type": "choropleth"
           }
          ],
          "contour": [
           {
            "colorbar": {
             "outlinewidth": 0,
             "ticks": ""
            },
            "colorscale": [
             [
              0,
              "#0d0887"
             ],
             [
              0.1111111111111111,
              "#46039f"
             ],
             [
              0.2222222222222222,
              "#7201a8"
             ],
             [
              0.3333333333333333,
              "#9c179e"
             ],
             [
              0.4444444444444444,
              "#bd3786"
             ],
             [
              0.5555555555555556,
              "#d8576b"
             ],
             [
              0.6666666666666666,
              "#ed7953"
             ],
             [
              0.7777777777777778,
              "#fb9f3a"
             ],
             [
              0.8888888888888888,
              "#fdca26"
             ],
             [
              1,
              "#f0f921"
             ]
            ],
            "type": "contour"
           }
          ],
          "contourcarpet": [
           {
            "colorbar": {
             "outlinewidth": 0,
             "ticks": ""
            },
            "type": "contourcarpet"
           }
          ],
          "heatmap": [
           {
            "colorbar": {
             "outlinewidth": 0,
             "ticks": ""
            },
            "colorscale": [
             [
              0,
              "#0d0887"
             ],
             [
              0.1111111111111111,
              "#46039f"
             ],
             [
              0.2222222222222222,
              "#7201a8"
             ],
             [
              0.3333333333333333,
              "#9c179e"
             ],
             [
              0.4444444444444444,
              "#bd3786"
             ],
             [
              0.5555555555555556,
              "#d8576b"
             ],
             [
              0.6666666666666666,
              "#ed7953"
             ],
             [
              0.7777777777777778,
              "#fb9f3a"
             ],
             [
              0.8888888888888888,
              "#fdca26"
             ],
             [
              1,
              "#f0f921"
             ]
            ],
            "type": "heatmap"
           }
          ],
          "heatmapgl": [
           {
            "colorbar": {
             "outlinewidth": 0,
             "ticks": ""
            },
            "colorscale": [
             [
              0,
              "#0d0887"
             ],
             [
              0.1111111111111111,
              "#46039f"
             ],
             [
              0.2222222222222222,
              "#7201a8"
             ],
             [
              0.3333333333333333,
              "#9c179e"
             ],
             [
              0.4444444444444444,
              "#bd3786"
             ],
             [
              0.5555555555555556,
              "#d8576b"
             ],
             [
              0.6666666666666666,
              "#ed7953"
             ],
             [
              0.7777777777777778,
              "#fb9f3a"
             ],
             [
              0.8888888888888888,
              "#fdca26"
             ],
             [
              1,
              "#f0f921"
             ]
            ],
            "type": "heatmapgl"
           }
          ],
          "histogram": [
           {
            "marker": {
             "pattern": {
              "fillmode": "overlay",
              "size": 10,
              "solidity": 0.2
             }
            },
            "type": "histogram"
           }
          ],
          "histogram2d": [
           {
            "colorbar": {
             "outlinewidth": 0,
             "ticks": ""
            },
            "colorscale": [
             [
              0,
              "#0d0887"
             ],
             [
              0.1111111111111111,
              "#46039f"
             ],
             [
              0.2222222222222222,
              "#7201a8"
             ],
             [
              0.3333333333333333,
              "#9c179e"
             ],
             [
              0.4444444444444444,
              "#bd3786"
             ],
             [
              0.5555555555555556,
              "#d8576b"
             ],
             [
              0.6666666666666666,
              "#ed7953"
             ],
             [
              0.7777777777777778,
              "#fb9f3a"
             ],
             [
              0.8888888888888888,
              "#fdca26"
             ],
             [
              1,
              "#f0f921"
             ]
            ],
            "type": "histogram2d"
           }
          ],
          "histogram2dcontour": [
           {
            "colorbar": {
             "outlinewidth": 0,
             "ticks": ""
            },
            "colorscale": [
             [
              0,
              "#0d0887"
             ],
             [
              0.1111111111111111,
              "#46039f"
             ],
             [
              0.2222222222222222,
              "#7201a8"
             ],
             [
              0.3333333333333333,
              "#9c179e"
             ],
             [
              0.4444444444444444,
              "#bd3786"
             ],
             [
              0.5555555555555556,
              "#d8576b"
             ],
             [
              0.6666666666666666,
              "#ed7953"
             ],
             [
              0.7777777777777778,
              "#fb9f3a"
             ],
             [
              0.8888888888888888,
              "#fdca26"
             ],
             [
              1,
              "#f0f921"
             ]
            ],
            "type": "histogram2dcontour"
           }
          ],
          "mesh3d": [
           {
            "colorbar": {
             "outlinewidth": 0,
             "ticks": ""
            },
            "type": "mesh3d"
           }
          ],
          "parcoords": [
           {
            "line": {
             "colorbar": {
              "outlinewidth": 0,
              "ticks": ""
             }
            },
            "type": "parcoords"
           }
          ],
          "pie": [
           {
            "automargin": true,
            "type": "pie"
           }
          ],
          "scatter": [
           {
            "marker": {
             "colorbar": {
              "outlinewidth": 0,
              "ticks": ""
             }
            },
            "type": "scatter"
           }
          ],
          "scatter3d": [
           {
            "line": {
             "colorbar": {
              "outlinewidth": 0,
              "ticks": ""
             }
            },
            "marker": {
             "colorbar": {
              "outlinewidth": 0,
              "ticks": ""
             }
            },
            "type": "scatter3d"
           }
          ],
          "scattercarpet": [
           {
            "marker": {
             "colorbar": {
              "outlinewidth": 0,
              "ticks": ""
             }
            },
            "type": "scattercarpet"
           }
          ],
          "scattergeo": [
           {
            "marker": {
             "colorbar": {
              "outlinewidth": 0,
              "ticks": ""
             }
            },
            "type": "scattergeo"
           }
          ],
          "scattergl": [
           {
            "marker": {
             "colorbar": {
              "outlinewidth": 0,
              "ticks": ""
             }
            },
            "type": "scattergl"
           }
          ],
          "scattermapbox": [
           {
            "marker": {
             "colorbar": {
              "outlinewidth": 0,
              "ticks": ""
             }
            },
            "type": "scattermapbox"
           }
          ],
          "scatterpolar": [
           {
            "marker": {
             "colorbar": {
              "outlinewidth": 0,
              "ticks": ""
             }
            },
            "type": "scatterpolar"
           }
          ],
          "scatterpolargl": [
           {
            "marker": {
             "colorbar": {
              "outlinewidth": 0,
              "ticks": ""
             }
            },
            "type": "scatterpolargl"
           }
          ],
          "scatterternary": [
           {
            "marker": {
             "colorbar": {
              "outlinewidth": 0,
              "ticks": ""
             }
            },
            "type": "scatterternary"
           }
          ],
          "surface": [
           {
            "colorbar": {
             "outlinewidth": 0,
             "ticks": ""
            },
            "colorscale": [
             [
              0,
              "#0d0887"
             ],
             [
              0.1111111111111111,
              "#46039f"
             ],
             [
              0.2222222222222222,
              "#7201a8"
             ],
             [
              0.3333333333333333,
              "#9c179e"
             ],
             [
              0.4444444444444444,
              "#bd3786"
             ],
             [
              0.5555555555555556,
              "#d8576b"
             ],
             [
              0.6666666666666666,
              "#ed7953"
             ],
             [
              0.7777777777777778,
              "#fb9f3a"
             ],
             [
              0.8888888888888888,
              "#fdca26"
             ],
             [
              1,
              "#f0f921"
             ]
            ],
            "type": "surface"
           }
          ],
          "table": [
           {
            "cells": {
             "fill": {
              "color": "#EBF0F8"
             },
             "line": {
              "color": "white"
             }
            },
            "header": {
             "fill": {
              "color": "#C8D4E3"
             },
             "line": {
              "color": "white"
             }
            },
            "type": "table"
           }
          ]
         },
         "layout": {
          "annotationdefaults": {
           "arrowcolor": "#2a3f5f",
           "arrowhead": 0,
           "arrowwidth": 1
          },
          "autotypenumbers": "strict",
          "coloraxis": {
           "colorbar": {
            "outlinewidth": 0,
            "ticks": ""
           }
          },
          "colorscale": {
           "diverging": [
            [
             0,
             "#8e0152"
            ],
            [
             0.1,
             "#c51b7d"
            ],
            [
             0.2,
             "#de77ae"
            ],
            [
             0.3,
             "#f1b6da"
            ],
            [
             0.4,
             "#fde0ef"
            ],
            [
             0.5,
             "#f7f7f7"
            ],
            [
             0.6,
             "#e6f5d0"
            ],
            [
             0.7,
             "#b8e186"
            ],
            [
             0.8,
             "#7fbc41"
            ],
            [
             0.9,
             "#4d9221"
            ],
            [
             1,
             "#276419"
            ]
           ],
           "sequential": [
            [
             0,
             "#0d0887"
            ],
            [
             0.1111111111111111,
             "#46039f"
            ],
            [
             0.2222222222222222,
             "#7201a8"
            ],
            [
             0.3333333333333333,
             "#9c179e"
            ],
            [
             0.4444444444444444,
             "#bd3786"
            ],
            [
             0.5555555555555556,
             "#d8576b"
            ],
            [
             0.6666666666666666,
             "#ed7953"
            ],
            [
             0.7777777777777778,
             "#fb9f3a"
            ],
            [
             0.8888888888888888,
             "#fdca26"
            ],
            [
             1,
             "#f0f921"
            ]
           ],
           "sequentialminus": [
            [
             0,
             "#0d0887"
            ],
            [
             0.1111111111111111,
             "#46039f"
            ],
            [
             0.2222222222222222,
             "#7201a8"
            ],
            [
             0.3333333333333333,
             "#9c179e"
            ],
            [
             0.4444444444444444,
             "#bd3786"
            ],
            [
             0.5555555555555556,
             "#d8576b"
            ],
            [
             0.6666666666666666,
             "#ed7953"
            ],
            [
             0.7777777777777778,
             "#fb9f3a"
            ],
            [
             0.8888888888888888,
             "#fdca26"
            ],
            [
             1,
             "#f0f921"
            ]
           ]
          },
          "colorway": [
           "#636efa",
           "#EF553B",
           "#00cc96",
           "#ab63fa",
           "#FFA15A",
           "#19d3f3",
           "#FF6692",
           "#B6E880",
           "#FF97FF",
           "#FECB52"
          ],
          "font": {
           "color": "#2a3f5f"
          },
          "geo": {
           "bgcolor": "white",
           "lakecolor": "white",
           "landcolor": "#E5ECF6",
           "showlakes": true,
           "showland": true,
           "subunitcolor": "white"
          },
          "hoverlabel": {
           "align": "left"
          },
          "hovermode": "closest",
          "mapbox": {
           "style": "light"
          },
          "paper_bgcolor": "white",
          "plot_bgcolor": "#E5ECF6",
          "polar": {
           "angularaxis": {
            "gridcolor": "white",
            "linecolor": "white",
            "ticks": ""
           },
           "bgcolor": "#E5ECF6",
           "radialaxis": {
            "gridcolor": "white",
            "linecolor": "white",
            "ticks": ""
           }
          },
          "scene": {
           "xaxis": {
            "backgroundcolor": "#E5ECF6",
            "gridcolor": "white",
            "gridwidth": 2,
            "linecolor": "white",
            "showbackground": true,
            "ticks": "",
            "zerolinecolor": "white"
           },
           "yaxis": {
            "backgroundcolor": "#E5ECF6",
            "gridcolor": "white",
            "gridwidth": 2,
            "linecolor": "white",
            "showbackground": true,
            "ticks": "",
            "zerolinecolor": "white"
           },
           "zaxis": {
            "backgroundcolor": "#E5ECF6",
            "gridcolor": "white",
            "gridwidth": 2,
            "linecolor": "white",
            "showbackground": true,
            "ticks": "",
            "zerolinecolor": "white"
           }
          },
          "shapedefaults": {
           "line": {
            "color": "#2a3f5f"
           }
          },
          "ternary": {
           "aaxis": {
            "gridcolor": "white",
            "linecolor": "white",
            "ticks": ""
           },
           "baxis": {
            "gridcolor": "white",
            "linecolor": "white",
            "ticks": ""
           },
           "bgcolor": "#E5ECF6",
           "caxis": {
            "gridcolor": "white",
            "linecolor": "white",
            "ticks": ""
           }
          },
          "title": {
           "x": 0.05
          },
          "xaxis": {
           "automargin": true,
           "gridcolor": "white",
           "linecolor": "white",
           "ticks": "",
           "title": {
            "standoff": 15
           },
           "zerolinecolor": "white",
           "zerolinewidth": 2
          },
          "yaxis": {
           "automargin": true,
           "gridcolor": "white",
           "linecolor": "white",
           "ticks": "",
           "title": {
            "standoff": 15
           },
           "zerolinecolor": "white",
           "zerolinewidth": 2
          }
         }
        },
        "title": {
         "text": "Optimization History Plot"
        },
        "xaxis": {
         "title": {
          "text": "#Trials"
         }
        },
        "yaxis": {
         "title": {
          "text": "Objective Value"
         }
        }
       }
      },
      "text/html": [
       "<div>                            <div id=\"9e00115e-fae1-4e5d-90d0-d60ff38c51cb\" class=\"plotly-graph-div\" style=\"height:525px; width:100%;\"></div>            <script type=\"text/javascript\">                require([\"plotly\"], function(Plotly) {                    window.PLOTLYENV=window.PLOTLYENV || {};                                    if (document.getElementById(\"9e00115e-fae1-4e5d-90d0-d60ff38c51cb\")) {                    Plotly.newPlot(                        \"9e00115e-fae1-4e5d-90d0-d60ff38c51cb\",                        [{\"mode\":\"markers\",\"name\":\"Objective Value\",\"type\":\"scatter\",\"x\":[0,1,2,3,4,5,6,7,8,9,10,11,12,13,14],\"y\":[-0.09597217878128675,-0.08719355635072544,-0.08571139672731115,-0.08252562773883494,-0.08941065889119161,-0.08631647967521833,-0.08837274562036572,-0.09696141430719081,-0.08267744675274699,-0.11395604481672617,-0.0824575650718918,-0.09116522933976841,-0.08594737683190463,-0.08529768039384253,-0.08783048877221987]},{\"name\":\"Best Value\",\"type\":\"scatter\",\"x\":[0,1,2,3,4,5,6,7,8,9,10,11,12,13,14],\"y\":[-0.09597217878128675,-0.08719355635072544,-0.08571139672731115,-0.08252562773883494,-0.08252562773883494,-0.08252562773883494,-0.08252562773883494,-0.08252562773883494,-0.08252562773883494,-0.08252562773883494,-0.0824575650718918,-0.0824575650718918,-0.0824575650718918,-0.0824575650718918,-0.0824575650718918]}],                        {\"template\":{\"data\":{\"bar\":[{\"error_x\":{\"color\":\"#2a3f5f\"},\"error_y\":{\"color\":\"#2a3f5f\"},\"marker\":{\"line\":{\"color\":\"#E5ECF6\",\"width\":0.5},\"pattern\":{\"fillmode\":\"overlay\",\"size\":10,\"solidity\":0.2}},\"type\":\"bar\"}],\"barpolar\":[{\"marker\":{\"line\":{\"color\":\"#E5ECF6\",\"width\":0.5},\"pattern\":{\"fillmode\":\"overlay\",\"size\":10,\"solidity\":0.2}},\"type\":\"barpolar\"}],\"carpet\":[{\"aaxis\":{\"endlinecolor\":\"#2a3f5f\",\"gridcolor\":\"white\",\"linecolor\":\"white\",\"minorgridcolor\":\"white\",\"startlinecolor\":\"#2a3f5f\"},\"baxis\":{\"endlinecolor\":\"#2a3f5f\",\"gridcolor\":\"white\",\"linecolor\":\"white\",\"minorgridcolor\":\"white\",\"startlinecolor\":\"#2a3f5f\"},\"type\":\"carpet\"}],\"choropleth\":[{\"colorbar\":{\"outlinewidth\":0,\"ticks\":\"\"},\"type\":\"choropleth\"}],\"contour\":[{\"colorbar\":{\"outlinewidth\":0,\"ticks\":\"\"},\"colorscale\":[[0.0,\"#0d0887\"],[0.1111111111111111,\"#46039f\"],[0.2222222222222222,\"#7201a8\"],[0.3333333333333333,\"#9c179e\"],[0.4444444444444444,\"#bd3786\"],[0.5555555555555556,\"#d8576b\"],[0.6666666666666666,\"#ed7953\"],[0.7777777777777778,\"#fb9f3a\"],[0.8888888888888888,\"#fdca26\"],[1.0,\"#f0f921\"]],\"type\":\"contour\"}],\"contourcarpet\":[{\"colorbar\":{\"outlinewidth\":0,\"ticks\":\"\"},\"type\":\"contourcarpet\"}],\"heatmap\":[{\"colorbar\":{\"outlinewidth\":0,\"ticks\":\"\"},\"colorscale\":[[0.0,\"#0d0887\"],[0.1111111111111111,\"#46039f\"],[0.2222222222222222,\"#7201a8\"],[0.3333333333333333,\"#9c179e\"],[0.4444444444444444,\"#bd3786\"],[0.5555555555555556,\"#d8576b\"],[0.6666666666666666,\"#ed7953\"],[0.7777777777777778,\"#fb9f3a\"],[0.8888888888888888,\"#fdca26\"],[1.0,\"#f0f921\"]],\"type\":\"heatmap\"}],\"heatmapgl\":[{\"colorbar\":{\"outlinewidth\":0,\"ticks\":\"\"},\"colorscale\":[[0.0,\"#0d0887\"],[0.1111111111111111,\"#46039f\"],[0.2222222222222222,\"#7201a8\"],[0.3333333333333333,\"#9c179e\"],[0.4444444444444444,\"#bd3786\"],[0.5555555555555556,\"#d8576b\"],[0.6666666666666666,\"#ed7953\"],[0.7777777777777778,\"#fb9f3a\"],[0.8888888888888888,\"#fdca26\"],[1.0,\"#f0f921\"]],\"type\":\"heatmapgl\"}],\"histogram\":[{\"marker\":{\"pattern\":{\"fillmode\":\"overlay\",\"size\":10,\"solidity\":0.2}},\"type\":\"histogram\"}],\"histogram2d\":[{\"colorbar\":{\"outlinewidth\":0,\"ticks\":\"\"},\"colorscale\":[[0.0,\"#0d0887\"],[0.1111111111111111,\"#46039f\"],[0.2222222222222222,\"#7201a8\"],[0.3333333333333333,\"#9c179e\"],[0.4444444444444444,\"#bd3786\"],[0.5555555555555556,\"#d8576b\"],[0.6666666666666666,\"#ed7953\"],[0.7777777777777778,\"#fb9f3a\"],[0.8888888888888888,\"#fdca26\"],[1.0,\"#f0f921\"]],\"type\":\"histogram2d\"}],\"histogram2dcontour\":[{\"colorbar\":{\"outlinewidth\":0,\"ticks\":\"\"},\"colorscale\":[[0.0,\"#0d0887\"],[0.1111111111111111,\"#46039f\"],[0.2222222222222222,\"#7201a8\"],[0.3333333333333333,\"#9c179e\"],[0.4444444444444444,\"#bd3786\"],[0.5555555555555556,\"#d8576b\"],[0.6666666666666666,\"#ed7953\"],[0.7777777777777778,\"#fb9f3a\"],[0.8888888888888888,\"#fdca26\"],[1.0,\"#f0f921\"]],\"type\":\"histogram2dcontour\"}],\"mesh3d\":[{\"colorbar\":{\"outlinewidth\":0,\"ticks\":\"\"},\"type\":\"mesh3d\"}],\"parcoords\":[{\"line\":{\"colorbar\":{\"outlinewidth\":0,\"ticks\":\"\"}},\"type\":\"parcoords\"}],\"pie\":[{\"automargin\":true,\"type\":\"pie\"}],\"scatter\":[{\"marker\":{\"colorbar\":{\"outlinewidth\":0,\"ticks\":\"\"}},\"type\":\"scatter\"}],\"scatter3d\":[{\"line\":{\"colorbar\":{\"outlinewidth\":0,\"ticks\":\"\"}},\"marker\":{\"colorbar\":{\"outlinewidth\":0,\"ticks\":\"\"}},\"type\":\"scatter3d\"}],\"scattercarpet\":[{\"marker\":{\"colorbar\":{\"outlinewidth\":0,\"ticks\":\"\"}},\"type\":\"scattercarpet\"}],\"scattergeo\":[{\"marker\":{\"colorbar\":{\"outlinewidth\":0,\"ticks\":\"\"}},\"type\":\"scattergeo\"}],\"scattergl\":[{\"marker\":{\"colorbar\":{\"outlinewidth\":0,\"ticks\":\"\"}},\"type\":\"scattergl\"}],\"scattermapbox\":[{\"marker\":{\"colorbar\":{\"outlinewidth\":0,\"ticks\":\"\"}},\"type\":\"scattermapbox\"}],\"scatterpolar\":[{\"marker\":{\"colorbar\":{\"outlinewidth\":0,\"ticks\":\"\"}},\"type\":\"scatterpolar\"}],\"scatterpolargl\":[{\"marker\":{\"colorbar\":{\"outlinewidth\":0,\"ticks\":\"\"}},\"type\":\"scatterpolargl\"}],\"scatterternary\":[{\"marker\":{\"colorbar\":{\"outlinewidth\":0,\"ticks\":\"\"}},\"type\":\"scatterternary\"}],\"surface\":[{\"colorbar\":{\"outlinewidth\":0,\"ticks\":\"\"},\"colorscale\":[[0.0,\"#0d0887\"],[0.1111111111111111,\"#46039f\"],[0.2222222222222222,\"#7201a8\"],[0.3333333333333333,\"#9c179e\"],[0.4444444444444444,\"#bd3786\"],[0.5555555555555556,\"#d8576b\"],[0.6666666666666666,\"#ed7953\"],[0.7777777777777778,\"#fb9f3a\"],[0.8888888888888888,\"#fdca26\"],[1.0,\"#f0f921\"]],\"type\":\"surface\"}],\"table\":[{\"cells\":{\"fill\":{\"color\":\"#EBF0F8\"},\"line\":{\"color\":\"white\"}},\"header\":{\"fill\":{\"color\":\"#C8D4E3\"},\"line\":{\"color\":\"white\"}},\"type\":\"table\"}]},\"layout\":{\"annotationdefaults\":{\"arrowcolor\":\"#2a3f5f\",\"arrowhead\":0,\"arrowwidth\":1},\"autotypenumbers\":\"strict\",\"coloraxis\":{\"colorbar\":{\"outlinewidth\":0,\"ticks\":\"\"}},\"colorscale\":{\"diverging\":[[0,\"#8e0152\"],[0.1,\"#c51b7d\"],[0.2,\"#de77ae\"],[0.3,\"#f1b6da\"],[0.4,\"#fde0ef\"],[0.5,\"#f7f7f7\"],[0.6,\"#e6f5d0\"],[0.7,\"#b8e186\"],[0.8,\"#7fbc41\"],[0.9,\"#4d9221\"],[1,\"#276419\"]],\"sequential\":[[0.0,\"#0d0887\"],[0.1111111111111111,\"#46039f\"],[0.2222222222222222,\"#7201a8\"],[0.3333333333333333,\"#9c179e\"],[0.4444444444444444,\"#bd3786\"],[0.5555555555555556,\"#d8576b\"],[0.6666666666666666,\"#ed7953\"],[0.7777777777777778,\"#fb9f3a\"],[0.8888888888888888,\"#fdca26\"],[1.0,\"#f0f921\"]],\"sequentialminus\":[[0.0,\"#0d0887\"],[0.1111111111111111,\"#46039f\"],[0.2222222222222222,\"#7201a8\"],[0.3333333333333333,\"#9c179e\"],[0.4444444444444444,\"#bd3786\"],[0.5555555555555556,\"#d8576b\"],[0.6666666666666666,\"#ed7953\"],[0.7777777777777778,\"#fb9f3a\"],[0.8888888888888888,\"#fdca26\"],[1.0,\"#f0f921\"]]},\"colorway\":[\"#636efa\",\"#EF553B\",\"#00cc96\",\"#ab63fa\",\"#FFA15A\",\"#19d3f3\",\"#FF6692\",\"#B6E880\",\"#FF97FF\",\"#FECB52\"],\"font\":{\"color\":\"#2a3f5f\"},\"geo\":{\"bgcolor\":\"white\",\"lakecolor\":\"white\",\"landcolor\":\"#E5ECF6\",\"showlakes\":true,\"showland\":true,\"subunitcolor\":\"white\"},\"hoverlabel\":{\"align\":\"left\"},\"hovermode\":\"closest\",\"mapbox\":{\"style\":\"light\"},\"paper_bgcolor\":\"white\",\"plot_bgcolor\":\"#E5ECF6\",\"polar\":{\"angularaxis\":{\"gridcolor\":\"white\",\"linecolor\":\"white\",\"ticks\":\"\"},\"bgcolor\":\"#E5ECF6\",\"radialaxis\":{\"gridcolor\":\"white\",\"linecolor\":\"white\",\"ticks\":\"\"}},\"scene\":{\"xaxis\":{\"backgroundcolor\":\"#E5ECF6\",\"gridcolor\":\"white\",\"gridwidth\":2,\"linecolor\":\"white\",\"showbackground\":true,\"ticks\":\"\",\"zerolinecolor\":\"white\"},\"yaxis\":{\"backgroundcolor\":\"#E5ECF6\",\"gridcolor\":\"white\",\"gridwidth\":2,\"linecolor\":\"white\",\"showbackground\":true,\"ticks\":\"\",\"zerolinecolor\":\"white\"},\"zaxis\":{\"backgroundcolor\":\"#E5ECF6\",\"gridcolor\":\"white\",\"gridwidth\":2,\"linecolor\":\"white\",\"showbackground\":true,\"ticks\":\"\",\"zerolinecolor\":\"white\"}},\"shapedefaults\":{\"line\":{\"color\":\"#2a3f5f\"}},\"ternary\":{\"aaxis\":{\"gridcolor\":\"white\",\"linecolor\":\"white\",\"ticks\":\"\"},\"baxis\":{\"gridcolor\":\"white\",\"linecolor\":\"white\",\"ticks\":\"\"},\"bgcolor\":\"#E5ECF6\",\"caxis\":{\"gridcolor\":\"white\",\"linecolor\":\"white\",\"ticks\":\"\"}},\"title\":{\"x\":0.05},\"xaxis\":{\"automargin\":true,\"gridcolor\":\"white\",\"linecolor\":\"white\",\"ticks\":\"\",\"title\":{\"standoff\":15},\"zerolinecolor\":\"white\",\"zerolinewidth\":2},\"yaxis\":{\"automargin\":true,\"gridcolor\":\"white\",\"linecolor\":\"white\",\"ticks\":\"\",\"title\":{\"standoff\":15},\"zerolinecolor\":\"white\",\"zerolinewidth\":2}}},\"title\":{\"text\":\"Optimization History Plot\"},\"xaxis\":{\"title\":{\"text\":\"#Trials\"}},\"yaxis\":{\"title\":{\"text\":\"Objective Value\"}}},                        {\"responsive\": true}                    ).then(function(){\n",
       "                            \n",
       "var gd = document.getElementById('9e00115e-fae1-4e5d-90d0-d60ff38c51cb');\n",
       "var x = new MutationObserver(function (mutations, observer) {{\n",
       "        var display = window.getComputedStyle(gd).display;\n",
       "        if (!display || display === 'none') {{\n",
       "            console.log([gd, 'removed!']);\n",
       "            Plotly.purge(gd);\n",
       "            observer.disconnect();\n",
       "        }}\n",
       "}});\n",
       "\n",
       "// Listen for the removal of the full notebook cells\n",
       "var notebookContainer = gd.closest('#notebook-container');\n",
       "if (notebookContainer) {{\n",
       "    x.observe(notebookContainer, {childList: true});\n",
       "}}\n",
       "\n",
       "// Listen for the clearing of the current output cell\n",
       "var outputEl = gd.closest('.output');\n",
       "if (outputEl) {{\n",
       "    x.observe(outputEl, {childList: true});\n",
       "}}\n",
       "\n",
       "                        })                };                });            </script>        </div>"
      ]
     },
     "metadata": {},
     "output_type": "display_data"
    }
   ],
   "source": [
    "fig = optuna.visualization.plot_optimization_history(study)\n",
    "fig.show()"
   ]
  },
  {
   "cell_type": "code",
   "execution_count": 26,
   "id": "2f376d95",
   "metadata": {},
   "outputs": [],
   "source": [
    "import optuna"
   ]
  },
  {
   "cell_type": "code",
   "execution_count": 29,
   "id": "41ef0cc2",
   "metadata": {},
   "outputs": [],
   "source": [
    "import pickle"
   ]
  }
 ],
 "metadata": {
  "kernelspec": {
   "display_name": "Python 3",
   "language": "python",
   "name": "python3"
  },
  "language_info": {
   "codemirror_mode": {
    "name": "ipython",
    "version": 3
   },
   "file_extension": ".py",
   "mimetype": "text/x-python",
   "name": "python",
   "nbconvert_exporter": "python",
   "pygments_lexer": "ipython3",
   "version": "3.8.0"
  }
 },
 "nbformat": 4,
 "nbformat_minor": 5
}
