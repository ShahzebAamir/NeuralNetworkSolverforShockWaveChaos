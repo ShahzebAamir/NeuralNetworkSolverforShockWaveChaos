{
 "cells": [
  {
   "cell_type": "code",
   "execution_count": 7,
   "id": "34d91c72",
   "metadata": {},
   "outputs": [],
   "source": [
    "import scipy.io\n",
    "import numpy as np\n",
    "import tensorflow as tf\n",
    "import time\n",
    "import os\n",
    "from pyDOE import lhs\n",
    "import matplotlib.pyplot as plt\n",
    "\n",
    "eqnPath = 'DataGenerator'\n",
    "path = os.path.join(eqnPath, 'amp_0alpha_4.85')\n",
    "data = scipy.io.loadmat(path)\n",
    "\n",
    "    # Flatten makes [[]] into [], [:,None] makes it a column vector\n",
    "t = data['t'].flatten()[:,None] # T x 1\n",
    "x = data['x'].flatten()[:,None] # N x 1\n",
    "\n",
    "    # Keeping the 2D data for the solution data (real() is maybe to make it float by default, in case of zeroes)\n",
    "Exact_u = np.real(data['u']).T # T x N"
   ]
  },
  {
   "cell_type": "code",
   "execution_count": 8,
   "id": "73be4ab3",
   "metadata": {},
   "outputs": [],
   "source": [
    "    # Meshing x and t in 2D (256,100)\n",
    "X, T = np.meshgrid(x,t)\n",
    "\n",
    "    # Preparing the inputs x and t (meshed as X, T) for predictions in one single array, as X_star\n",
    "X_star = np.hstack((X.flatten()[:,None], T.flatten()[:,None]))\n",
    "\n",
    "    # Preparing the testing u_star\n",
    "u_star = Exact_u.flatten()[:,None]"
   ]
  },
  {
   "cell_type": "code",
   "execution_count": 9,
   "id": "aa00fbd2",
   "metadata": {},
   "outputs": [
    {
     "data": {
      "text/plain": [
       "(1086957, 2)"
      ]
     },
     "execution_count": 9,
     "metadata": {},
     "output_type": "execute_result"
    }
   ],
   "source": [
    "X_star.shape"
   ]
  },
  {
   "cell_type": "code",
   "execution_count": 27,
   "id": "ae00c0e8",
   "metadata": {},
   "outputs": [],
   "source": [
    "lb = X_star.min(axis=0)\n",
    "ub = X_star.max(axis=0) "
   ]
  },
  {
   "cell_type": "code",
   "execution_count": 28,
   "id": "4d20ebcd",
   "metadata": {},
   "outputs": [],
   "source": [
    "# Getting the initial conditions (t=0)\n",
    "xx1 = np.hstack((X[0:1,:].T, T[0:1,:].T))\n",
    "uu1 = Exact_u[0:1,:].T"
   ]
  },
  {
   "cell_type": "code",
   "execution_count": 29,
   "id": "b4989136",
   "metadata": {},
   "outputs": [],
   "source": [
    "    # Getting the lowest boundary conditions (x=-1) \n",
    "xx2 = np.hstack((X[:,0:1], T[:,0:1]))\n",
    "uu2 = Exact_u[:,0:1]\n",
    "xx3 = np.hstack((X[:,-1:], T[:,-1:]))\n",
    "uu3 = Exact_u[:,-1:]"
   ]
  },
  {
   "cell_type": "code",
   "execution_count": 30,
   "id": "395e432c",
   "metadata": {},
   "outputs": [
    {
     "data": {
      "text/plain": [
       "[<matplotlib.lines.Line2D at 0x25a8c49d460>,\n",
       " <matplotlib.lines.Line2D at 0x25a8c49d520>]"
      ]
     },
     "execution_count": 30,
     "metadata": {},
     "output_type": "execute_result"
    },
    {
     "data": {
      "image/png": "[encoded data removed]",
      "text/plain": [
       "<Figure size 432x288 with 1 Axes>"
      ]
     },
     "metadata": {
      "needs_background": "light"
     },
     "output_type": "display_data"
    }
   ],
   "source": [
    "plt.plot(xx3,uu3)"
   ]
  },
  {
   "cell_type": "code",
   "execution_count": 8,
   "id": "d56a9c45",
   "metadata": {},
   "outputs": [],
   "source": [
    "from pyDOE import lhs\n",
    "X_f_train = lb + (ub-lb)*lhs(2, 10)"
   ]
  },
  {
   "cell_type": "code",
   "execution_count": 111,
   "id": "d941bc69",
   "metadata": {},
   "outputs": [],
   "source": [
    "from scipy.stats.distributions import norm\n",
    "means = [0]\n",
    "stdvs = [0.1]\n",
    "X_f_train[:, 0] = norm(loc=means[0], scale=stdvs[0]).ppf(X_f_train[:, 0])"
   ]
  },
  {
   "cell_type": "code",
   "execution_count": 164,
   "id": "58218a63",
   "metadata": {},
   "outputs": [],
   "source": [
    "from numpy.random import rand\n",
    "xtr=np.random.normal(-2,0.5,10)"
   ]
  },
  {
   "cell_type": "code",
   "execution_count": 14,
   "id": "02af355e",
   "metadata": {},
   "outputs": [
    {
     "data": {
      "image/png": "[encoded data removed]",
      "text/plain": [
       "<Figure size 432x288 with 1 Axes>"
      ]
     },
     "metadata": {
      "needs_background": "light"
     },
     "output_type": "display_data"
    }
   ],
   "source": [
    "plt.plot(X_f_train[:, 1],'x')\n",
    "#plt.ylim([-10,5])\n",
    "plt.grid()"
   ]
  },
  {
   "cell_type": "code",
   "execution_count": 15,
   "id": "b3b58d6a",
   "metadata": {},
   "outputs": [
    {
     "data": {
      "text/plain": [
       "[<matplotlib.lines.Line2D at 0x20f83016f10>]"
      ]
     },
     "execution_count": 15,
     "metadata": {},
     "output_type": "execute_result"
    },
    {
     "data": {
      "image/png": "[encoded data removed]",
      "text/plain": [
       "<Figure size 432x288 with 1 Axes>"
      ]
     },
     "metadata": {
      "needs_background": "light"
     },
     "output_type": "display_data"
    }
   ],
   "source": [
    "plt.plot(X_f_train[:,1:2],',')"
   ]
  },
  {
   "cell_type": "code",
   "execution_count": 18,
   "id": "41b1a589",
   "metadata": {},
   "outputs": [
    {
     "data": {
      "text/plain": [
       "array([[-4.67784147],\n",
       "       [-2.75116736],\n",
       "       [-2.81045686],\n",
       "       ...,\n",
       "       [-6.07243689],\n",
       "       [-3.47927076],\n",
       "       [-3.79885983]])"
      ]
     },
     "execution_count": 18,
     "metadata": {},
     "output_type": "execute_result"
    }
   ],
   "source": [
    "X_f_train[:, 0:1]"
   ]
  },
  {
   "cell_type": "code",
   "execution_count": 7,
   "id": "99a5bd85",
   "metadata": {},
   "outputs": [],
   "source": [
    "X_u_train = np.vstack([xx1, xx2, xx3])\n",
    "u_train = np.vstack([uu1, uu2, uu3])"
   ]
  },
  {
   "cell_type": "code",
   "execution_count": 10,
   "id": "2d6ec0d2",
   "metadata": {},
   "outputs": [],
   "source": [
    "idx = np.random.choice(X_u_train.shape[0], 2500, replace=False)\n",
    "    # Getting the corresponding X_u_train (which is now scarce boundary/initial coordinates)\n",
    "X_u_train = X_u_train[idx,:]\n",
    "    # Getting the corresponding u_train\n",
    "u_train = u_train [idx,:]"
   ]
  },
  {
   "cell_type": "code",
   "execution_count": 8,
   "id": "49574b1e",
   "metadata": {},
   "outputs": [
    {
     "data": {
      "text/plain": [
       "8595"
      ]
     },
     "execution_count": 8,
     "metadata": {},
     "output_type": "execute_result"
    }
   ],
   "source": [
    "X_u_train.shape[0]"
   ]
  },
  {
   "cell_type": "code",
   "execution_count": 12,
   "id": "65ced89b",
   "metadata": {},
   "outputs": [
    {
     "data": {
      "text/plain": [
       "[<matplotlib.lines.Line2D at 0x20069034550>]"
      ]
     },
     "execution_count": 12,
     "metadata": {},
     "output_type": "execute_result"
    },
    {
     "data": {
      "image/png": "[encoded data removed]",
      "text/plain": [
       "<Figure size 432x288 with 1 Axes>"
      ]
     },
     "metadata": {
      "needs_background": "light"
     },
     "output_type": "display_data"
    }
   ],
   "source": [
    "plt.plot(u_train[:,0],'x')\n"
   ]
  },
  {
   "cell_type": "code",
   "execution_count": 13,
   "id": "c2a18eae",
   "metadata": {},
   "outputs": [],
   "source": [
    "import tensorflow as tf\n",
    "x_f=X_f_train[:, 0:1]\n",
    "t_f=X_f_train[:, 1:2]\n",
    "bc=np.zeros_like(x_f)\n",
    "X_f = tf.stack([x_f[:, 0], t_f[:, 0]], axis=1)\n",
    "U_s = tf.stack([bc[:,0], t_f[:, 0]], axis=1)"
   ]
  },
  {
   "cell_type": "code",
   "execution_count": 11,
   "id": "381cd37c",
   "metadata": {},
   "outputs": [
    {
     "data": {
      "text/plain": [
       "0.013473250688325358"
      ]
     },
     "execution_count": 11,
     "metadata": {},
     "output_type": "execute_result"
    }
   ],
   "source": [
    "14656/1087785 "
   ]
  },
  {
   "cell_type": "code",
   "execution_count": 12,
   "id": "75ebce9b",
   "metadata": {},
   "outputs": [
    {
     "data": {
      "text/plain": [
       "14644.844148430066"
      ]
     },
     "execution_count": 12,
     "metadata": {},
     "output_type": "execute_result"
    }
   ],
   "source": [
    "0.013473250688325358*1086957"
   ]
  }
 ],
 "metadata": {
  "kernelspec": {
   "display_name": "Python 3",
   "language": "python",
   "name": "python3"
  },
  "language_info": {
   "codemirror_mode": {
    "name": "ipython",
    "version": 3
   },
   "file_extension": ".py",
   "mimetype": "text/x-python",
   "name": "python",
   "nbconvert_exporter": "python",
   "pygments_lexer": "ipython3",
   "version": "3.8.0"
  }
 },
 "nbformat": 4,
 "nbformat_minor": 5
}
