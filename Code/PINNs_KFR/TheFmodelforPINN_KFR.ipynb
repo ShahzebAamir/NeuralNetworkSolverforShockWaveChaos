{
 "cells": [
  {
   "cell_type": "code",
   "execution_count": 6,
   "id": "a7c268d6",
   "metadata": {},
   "outputs": [],
   "source": [
    "import numpy as np\n",
    "from math import erf as erf_, sin, exp as exp_\n",
    "from numpy import pi, sqrt\n",
    "import time\n",
    "import os\n",
    "import re\n",
    "import array\n",
    "import numba as nb\n",
    "import h5py"
   ]
  },
  {
   "cell_type": "markdown",
   "id": "006041fe",
   "metadata": {},
   "source": [
    "Problem #1\n",
    "x_lab=None,\n",
    "wn=None,\n",
    "sign=None,\n",
    "amp=0,\n",
    "alpha=Variable,\n",
    "beta=0.1\n",
    "\n",
    "From the data:\n",
    "us=The boundary value from the data matrix of u (latent solution),\n",
    "Y=actual latent solution,\n",
    "x=grid points"
   ]
  },
  {
   "cell_type": "code",
   "execution_count": 7,
   "id": "0de245ca",
   "metadata": {},
   "outputs": [],
   "source": [
    "def u_a(x_lab, amp, wn, sign):\n",
    "    '''Define the initial speed beyond the shock wave'''\n",
    "\n",
    "    return amp / (1 - amp) * (1 + sign * sin(wn * x_lab))"
   ]
  },
  {
   "cell_type": "code",
   "execution_count": 8,
   "id": "01e6e5e4",
   "metadata": {},
   "outputs": [],
   "source": [
    "def Dshock(us, amp, x_lab, wn, sign):\n",
    "    '''Define the speed of the shock wave, D'''\n",
    "\n",
    "    if x_lab is not None:\n",
    "        return (us + u_a(x_lab, amp, wn, sign)) * 0.5\n",
    "    else:\n",
    "        return (us + amp / (1 - amp)) * 0.5"
   ]
  },
  {
   "cell_type": "code",
   "execution_count": 9,
   "id": "5875723f",
   "metadata": {},
   "outputs": [],
   "source": [
    "def xi(us, alpha, amp):\n",
    "    '''Define the induction function dependence on the shock speed, us'''\n",
    "    a=-((1 - amp) * us).numpy() \n",
    "    a=a.astype(complex) ** (-alpha)\n",
    "    a=a.real\n",
    "    return a"
   ]
  },
  {
   "cell_type": "code",
   "execution_count": null,
   "id": "e53b2bcb",
   "metadata": {},
   "outputs": [],
   "source": [
    "# def xi(us, alpha, amp):\n",
    "#     '''Define the induction function dependence on the shock speed, us'''\n",
    "\n",
    "#     return -((1 - amp) * us) ** (-alpha)"
   ]
  }
 ],
 "metadata": {
  "kernelspec": {
   "display_name": "Python 3",
   "language": "python",
   "name": "python3"
  },
  "language_info": {
   "codemirror_mode": {
    "name": "ipython",
    "version": 3
   },
   "file_extension": ".py",
   "mimetype": "text/x-python",
   "name": "python",
   "nbconvert_exporter": "python",
   "pygments_lexer": "ipython3",
   "version": "3.8.0"
  }
 },
 "nbformat": 4,
 "nbformat_minor": 5
}
