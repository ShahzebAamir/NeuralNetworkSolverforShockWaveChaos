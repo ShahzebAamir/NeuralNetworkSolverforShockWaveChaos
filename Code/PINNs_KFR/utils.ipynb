{
 "cells": [
  {
   "cell_type": "code",
   "execution_count": 1,
   "metadata": {},
   "outputs": [],
   "source": [
    "from collections.abc import Iterable\n",
    "import numba as nb\n",
    "import numpy as np\n",
    "import matplotlib.pyplot as plt"
   ]
  },
  {
   "cell_type": "markdown",
   "metadata": {},
   "source": [
    "### Оценка среднего расстояния, пройденного волной."
   ]
  },
  {
   "cell_type": "code",
   "execution_count": 2,
   "metadata": {},
   "outputs": [],
   "source": [
    "def _tus_from_args(storage, t_min, t_max, tus):\n",
    "    if storage:\n",
    "        tus = storage.load_tus(t_min=t_min, t_max=t_max)\n",
    "    elif storage is None and tus is not None:\n",
    "        idx = np.logical_and(tus[:, 0] >= t_min, tus[:, 0] <= t_max)\n",
    "        tus = tus[idx]\n",
    "    else:\n",
    "        raise ValueError('Neither storage nor tus is specified.')\n",
    "    return tus"
   ]
  },
  {
   "cell_type": "code",
   "execution_count": 3,
   "metadata": {},
   "outputs": [],
   "source": [
    "@nb.njit('f8(f8[:, :])')\n",
    "def integrate_trapeze(tus):\n",
    "    res = 0.\n",
    "    for i in range(1, tus.shape[0]):\n",
    "        res += (tus[i, 1] + tus[i - 1, 1]) * (tus[i, 0] - tus[i - 1, 0])\n",
    "    res *= 0.5\n",
    "    return res"
   ]
  },
  {
   "cell_type": "code",
   "execution_count": 4,
   "metadata": {},
   "outputs": [],
   "source": [
    "@nb.njit\n",
    "def _find_minima_idx(tus):\n",
    "    idx = []\n",
    "    i = 0\n",
    "    while i < tus.shape[0] - 2:\n",
    "        i += 1\n",
    "        while not (tus[i - 1, 1] > tus[i, 1] < tus[i + 1, 1]) and i + 1 < tus.shape[0] - 1:\n",
    "            i += 1\n",
    "        idx.append(i)\n",
    "    if idx:\n",
    "        idx.pop()\n",
    "    return np.array(idx)"
   ]
  },
  {
   "cell_type": "code",
   "execution_count": 5,
   "metadata": {},
   "outputs": [],
   "source": [
    "def find_minima(storage=None, t_min=1000, t_max=np.inf,\n",
    "                plot=False, ret_idx=False, main=False, tus=None):\n",
    "    '''Finds points of tus with minimal us'''\n",
    "    tus = _tus_from_args(storage, t_min, t_max, tus)\n",
    "    idx = _find_minima_idx(tus)\n",
    "    minima = tus[idx, :]\n",
    "    if main:\n",
    "        ptp = minima[minima[:, 0] >= 1000, 1].ptp()\n",
    "        if ptp > 5e-4:\n",
    "            while True:\n",
    "                minima_next, idx_next = \\\n",
    "                    find_minima(tus=minima, t_min=t_min, t_max=t_max, ret_idx=True)\n",
    "                if np.unique(minima_next[:, 1]).size < 2 or ptp < 5e-6:\n",
    "                    break\n",
    "                minima, idx = minima_next, idx[idx_next]\n",
    "                ptp = minima_next[:, 1].ptp()\n",
    "    if plot:\n",
    "        plt.plot(tus[:, 0], tus[:, 1])\n",
    "        plt.gcf().set_size_inches((10, 5))\n",
    "        plt.grid()\n",
    "        plt.minorticks_on()\n",
    "        plt.grid(which='minor', linestyle=':', linewidth='0.5', color='grey')\n",
    "        plt.scatter(minima[:, 0], minima[:, 1], c='red', marker='x')\n",
    "    if ret_idx:\n",
    "        return minima, idx\n",
    "    return minima"
   ]
  },
  {
   "cell_type": "code",
   "execution_count": 6,
   "metadata": {},
   "outputs": [],
   "source": [
    "def estimate_mean(storage=None, t_min=1000, t_max=np.inf, what='speed',\n",
    "                  int_periods=False, verbose=False, tus=None):\n",
    "    '''min - estimate mean minimum'''\n",
    "    if what == 'speed':\n",
    "        tus = _tus_from_args(storage, t_min, t_max, tus)\n",
    "        if int_periods:\n",
    "            idx = _find_minima_idx(tus)\n",
    "            tus = tus[idx[0] : idx[-1] + 1, :]\n",
    "        interval = tus[-1, 0] - tus[0, 0]\n",
    "        mean = integrate_trapeze(tus) / interval\n",
    "    elif what == 'min':\n",
    "        minima = find_minima(storage, t_min, t_max, tus=tus)\n",
    "        mean = minima[:, 1].mean()\n",
    "    elif what == 'minmin':\n",
    "        minima = find_minima(storage, t_min, t_max, main=True, tus=tus)\n",
    "        mean = minima[:, 1].mean()\n",
    "    else:\n",
    "        raise ValueError('Wrong value for `what`')\n",
    "    return mean"
   ]
  },
  {
   "cell_type": "markdown",
   "metadata": {},
   "source": [
    "### Преобразование Фурье"
   ]
  },
  {
   "cell_type": "code",
   "execution_count": 7,
   "metadata": {},
   "outputs": [],
   "source": [
    "def estimate_harmonics(storage=None, t_min=1000, t_max=np.inf, plot=False, tuszz=None):\n",
    "    minima = find_minima(storage, t_min, t_max, tus=tus)\n",
    "    minima_t, minima_us = minima[:, 0], minima[:, 1]\n",
    "    main_mins_t = minima[np.isclose(minima_us, minima_us.min(), \n",
    "                                    atol=1e-5, rtol=1e-5), 0]\n",
    "    if main_mins_t.size == minima_t.size:  # simple period\n",
    "        return (minima_t.size - 1) / minima_t.ptp()\n",
    "    if main_mins_t.size == 1:  # signal seems to be chaotic\n",
    "        return\n",
    "    f1 = (main_mins_t.size - 1) / main_mins_t.ptp()\n",
    "    minima_bm = minima_t[  # between main, inclusive\n",
    "        np.logical_and(minima_t >= main_mins_t[0], minima_t <= main_mins_t[-1])\n",
    "    ]\n",
    "    f2 = (minima_bm.size - 1) / minima_bm.ptp()\n",
    "    if not plot:\n",
    "        return f1, f2"
   ]
  },
  {
   "cell_type": "code",
   "execution_count": 8,
   "metadata": {},
   "outputs": [],
   "source": [
    "def f_plot_lim(f, y):\n",
    "    y_is_small = np.isclose(y, 0, atol=y.max() / 200)\n",
    "    # find index of the last observable y\n",
    "    if not y_is_small[-1]:\n",
    "        return f[-1]\n",
    "    i = 1\n",
    "    while y_is_small[-i]:\n",
    "        i += 1\n",
    "    i += 1\n",
    "    if i < 100:\n",
    "        return f[-1]\n",
    "    else:\n",
    "        f_lo = f[-i]  # last observable\n",
    "        return f_lo * 1.1"
   ]
  },
  {
   "cell_type": "code",
   "execution_count": 9,
   "metadata": {},
   "outputs": [],
   "source": [
    "def nudft(t, x, M, df=1.0):\n",
    "    \"\"\"Non-Uniform Direct Fourier Transform\"\"\"\n",
    "    freqs = df * np.arange(M)\n",
    "    y = np.dot(x.astype(np.complex128),\n",
    "               np.exp(2j * np.pi * freqs * t[:, np.newaxis]))\n",
    "    return freqs, y"
   ]
  },
  {
   "cell_type": "code",
   "execution_count": 10,
   "metadata": {},
   "outputs": [],
   "source": [
    "def power_spectrum(storage=None, t_min=1000, t_max=2000, M=1000,\n",
    "                   df=0.1, log_scale=False, plot=True, tus=None):\n",
    "    tus = _tus_from_args(storage, t_min, t_max, tus)\n",
    "    t, us = tus[:, 0], tus[:, 1] - estimate_mean(storage, t_min, t_max, tus=tus)\n",
    "    f, y = nudft(t, us, M, df)\n",
    "    np.abs(y, out=y)\n",
    "    y = y.real\n",
    "    y[np.isclose(f, 0)] = 0\n",
    "    if log_scale:\n",
    "        y = 20 * np.log10(y)\n",
    "    if not plot:\n",
    "        return f, y\n",
    "    fig, ax = plt.subplots(2, 1)\n",
    "    fig.set_size_inches((12, 8))\n",
    "    ax[0].plot(t, us)\n",
    "    ax[0].grid()\n",
    "    ax[1].plot(f, y)\n",
    "    ax[1].minorticks_on()\n",
    "    ax[1].grid(which='major', linestyle='-', color='0.4')\n",
    "    ax[1].grid(which='minor', linestyle=':', linewidth='0.5', color='grey')\n",
    "    ax[1].set_xlim(0, f_plot_lim(f, y))\n",
    "    ax[1].set_ylim(bottom=0)"
   ]
  },
  {
   "cell_type": "markdown",
   "metadata": {},
   "source": [
    "### Оценка волнового числа, приводящего к резонансу"
   ]
  },
  {
   "cell_type": "code",
   "execution_count": 11,
   "metadata": {},
   "outputs": [],
   "source": [
    "def is_steady(storage=None, tus=None, minima=None):\n",
    "    '''If there is a steady case, then the minima increase over time,\n",
    "    otherwise they decrease.'''\n",
    "    if minima is None:\n",
    "        minima = find_minima(storage, t_min=0, tus=None)\n",
    "    if minima[0, 1] < minima[-1, 1]:\n",
    "        return True\n",
    "    return False"
   ]
  },
  {
   "cell_type": "code",
   "execution_count": 12,
   "metadata": {},
   "outputs": [],
   "source": [
    "def resonant_wn(storage=None, precision=5,\n",
    "                tus=None, amp=None):\n",
    "    '''\n",
    "    estimates wave number of u_a expected to produce resonance\n",
    "    \n",
    "    function loads data from filename, integrates Dshock over time > t_stable \n",
    "    between two consequent minimums of u_s\n",
    "    '''\n",
    "    if storage:\n",
    "        amp = storage.amp\n",
    "        if storage.wn:\n",
    "            storage.set(wn=None)\n",
    "    elif amp is None:\n",
    "        raise ValueError('amp is not specified.')\n",
    "\n",
    "    minima = find_minima(storage, 0, tus=tus)\n",
    "    if is_steady(storage, tus, minima):\n",
    "        t_min = minima[0, 0]\n",
    "        t_max = minima[1, 0]\n",
    "    else:\n",
    "        t_min = minima[-2, 0]\n",
    "        t_max = minima[-1, 0]\n",
    "    tus = _tus_from_args(storage, t_min, t_max, tus)\n",
    "    tus[:, 1] += amp / (1 - amp)\n",
    "    period = integrate_trapeze(tus)\n",
    "    \n",
    "    return round(2 * np.pi / period, precision)"
   ]
  }
 ],
 "metadata": {
  "kernelspec": {
   "display_name": "Python 3",
   "language": "python",
   "name": "python3"
  },
  "language_info": {
   "codemirror_mode": {
    "name": "ipython",
    "version": 3
   },
   "file_extension": ".py",
   "mimetype": "text/x-python",
   "name": "python",
   "nbconvert_exporter": "python",
   "pygments_lexer": "ipython3",
   "version": "3.8.0"
  }
 },
 "nbformat": 4,
 "nbformat_minor": 2
}
